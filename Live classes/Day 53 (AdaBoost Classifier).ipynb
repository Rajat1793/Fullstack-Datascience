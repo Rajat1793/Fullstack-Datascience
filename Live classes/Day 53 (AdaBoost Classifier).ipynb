{
 "cells": [
  {
   "cell_type": "code",
   "execution_count": 1,
   "id": "cf903d4c",
   "metadata": {},
   "outputs": [
    {
     "name": "stdout",
     "output_type": "stream",
     "text": [
      "<class 'pandas.core.frame.DataFrame'>\n",
      "RangeIndex: 1599 entries, 0 to 1598\n",
      "Data columns (total 12 columns):\n",
      " #   Column                Non-Null Count  Dtype  \n",
      "---  ------                --------------  -----  \n",
      " 0   fixed acidity         1599 non-null   float64\n",
      " 1   volatile acidity      1599 non-null   float64\n",
      " 2   citric acid           1599 non-null   float64\n",
      " 3   residual sugar        1599 non-null   float64\n",
      " 4   chlorides             1599 non-null   float64\n",
      " 5   free sulfur dioxide   1599 non-null   float64\n",
      " 6   total sulfur dioxide  1599 non-null   float64\n",
      " 7   density               1599 non-null   float64\n",
      " 8   pH                    1599 non-null   float64\n",
      " 9   sulphates             1599 non-null   float64\n",
      " 10  alcohol               1599 non-null   float64\n",
      " 11  quality               1599 non-null   int64  \n",
      "dtypes: float64(11), int64(1)\n",
      "memory usage: 150.0 KB\n"
     ]
    }
   ],
   "source": [
    "import pandas as pd\n",
    "import numpy as np\n",
    "df=pd.read_csv(\"https://raw.githubusercontent.com/shrikant-temburwar/Wine-Quality-Dataset/master/winequality-red.csv\",sep = ';')\n",
    "\n",
    "df.head()\n",
    "\n",
    "df.info()\n",
    "\n",
    "df.describe().T\n",
    "\n",
    "df['quality'].unique()\n",
    "\n",
    "df['quality'].nunique()\n",
    "\n",
    "df['quality'].value_counts()\n",
    "\n",
    "df.duplicated().sum()\n",
    "\n",
    "df = df.drop_duplicates()\n",
    "\n",
    "df\n",
    "\n",
    "df.duplicated().sum()\n",
    "\n",
    "X = df.drop('quality', axis=1)\n",
    "\n",
    "y = df['quality']\n",
    "\n",
    "from sklearn.model_selection import train_test_split\n",
    "X_train,X_test,y_train, y_test = train_test_split(X,y, test_size = 0.33, random_state=10)"
   ]
  },
  {
   "cell_type": "code",
   "execution_count": 3,
   "id": "430e2de7",
   "metadata": {},
   "outputs": [],
   "source": [
    "from sklearn.ensemble import AdaBoostClassifier\n",
    "model = AdaBoostClassifier()"
   ]
  },
  {
   "cell_type": "code",
   "execution_count": 4,
   "id": "d3cb87dd",
   "metadata": {},
   "outputs": [
    {
     "data": {
      "text/plain": [
       "AdaBoostClassifier()"
      ]
     },
     "execution_count": 4,
     "metadata": {},
     "output_type": "execute_result"
    }
   ],
   "source": [
    "model.fit(X_train, y_train)"
   ]
  },
  {
   "cell_type": "code",
   "execution_count": 5,
   "id": "e69b910d",
   "metadata": {},
   "outputs": [],
   "source": [
    "y_predict = model.predict(X_test)"
   ]
  },
  {
   "cell_type": "code",
   "execution_count": 7,
   "id": "f4b6e8c3",
   "metadata": {},
   "outputs": [
    {
     "data": {
      "text/plain": [
       "array([6, 5, 5, 5, 5, 6, 5, 6, 6, 6, 5, 5, 6, 5, 5, 6, 6, 6, 6, 6, 5, 5,\n",
       "       6, 5, 6, 5, 5, 6, 5, 6, 6, 5, 6, 5, 5, 5, 6, 3, 6, 5, 5, 6, 6, 5,\n",
       "       5, 5, 5, 6, 5, 5, 5, 5, 5, 5, 5, 6, 5, 6, 5, 6, 5, 6, 6, 6, 5, 5,\n",
       "       5, 6, 6, 5, 3, 5, 6, 6, 4, 5, 6, 6, 6, 5, 6, 5, 5, 5, 5, 5, 5, 6,\n",
       "       5, 5, 3, 5, 5, 5, 6, 5, 5, 5, 5, 5, 6, 5, 5, 5, 5, 6, 6, 6, 5, 5,\n",
       "       5, 5, 5, 5, 5, 5, 5, 5, 5, 6, 5, 5, 5, 6, 6, 6, 6, 5, 5, 5, 6, 5,\n",
       "       5, 5, 6, 5, 6, 5, 5, 6, 6, 6, 6, 6, 5, 5, 5, 5, 3, 6, 5, 6, 6, 6,\n",
       "       5, 6, 5, 5, 5, 5, 5, 6, 5, 5, 5, 5, 6, 5, 5, 5, 5, 6, 6, 5, 5, 6,\n",
       "       6, 6, 6, 5, 6, 5, 6, 5, 5, 5, 5, 6, 6, 5, 6, 6, 5, 5, 6, 6, 5, 5,\n",
       "       6, 6, 6, 6, 5, 5, 6, 6, 5, 5, 6, 6, 6, 5, 6, 6, 5, 3, 3, 4, 6, 6,\n",
       "       5, 6, 5, 5, 5, 6, 6, 6, 6, 6, 5, 6, 5, 6, 6, 5, 6, 3, 5, 5, 5, 5,\n",
       "       5, 5, 6, 6, 5, 6, 5, 5, 5, 5, 6, 4, 6, 6, 6, 6, 6, 6, 6, 6, 6, 6,\n",
       "       5, 6, 6, 6, 5, 6, 6, 6, 6, 6, 6, 6, 6, 6, 6, 5, 6, 6, 5, 6, 5, 6,\n",
       "       3, 6, 5, 5, 3, 3, 5, 6, 6, 5, 5, 6, 6, 5, 6, 6, 5, 6, 4, 6, 5, 6,\n",
       "       6, 5, 5, 6, 6, 5, 6, 6, 6, 5, 5, 5, 5, 6, 5, 6, 6, 6, 6, 5, 6, 5,\n",
       "       6, 6, 6, 5, 5, 5, 6, 5, 5, 5, 4, 5, 6, 6, 6, 6, 5, 6, 6, 6, 5, 6,\n",
       "       5, 6, 6, 5, 5, 6, 6, 6, 6, 6, 6, 6, 6, 6, 6, 6, 6, 5, 5, 6, 6, 5,\n",
       "       5, 6, 6, 6, 5, 5, 6, 5, 5, 5, 6, 6, 5, 6, 6, 5, 6, 6, 6, 5, 6, 5,\n",
       "       6, 5, 5, 5, 5, 5, 6, 5, 6, 5, 5, 5, 6, 6, 6, 5, 5, 6, 5, 5, 6, 5,\n",
       "       3, 5, 6, 5, 6, 5, 6, 6, 6, 5, 6, 6, 5, 5, 6, 5, 6, 6, 6, 6, 6, 5,\n",
       "       6, 6, 5, 5, 6, 6, 6, 6, 6])"
      ]
     },
     "execution_count": 7,
     "metadata": {},
     "output_type": "execute_result"
    }
   ],
   "source": [
    "y_predict"
   ]
  },
  {
   "cell_type": "code",
   "execution_count": 8,
   "id": "f1376ff3",
   "metadata": {},
   "outputs": [
    {
     "data": {
      "text/plain": [
       "0.5211581291759465"
      ]
     },
     "execution_count": 8,
     "metadata": {},
     "output_type": "execute_result"
    }
   ],
   "source": [
    "from sklearn.metrics import accuracy_score\n",
    "accuracy_score(y_test, y_predict)"
   ]
  },
  {
   "cell_type": "code",
   "execution_count": 21,
   "id": "4c25f507",
   "metadata": {},
   "outputs": [],
   "source": [
    "grid_param = {\n",
    "    \"n_estimators\" : [90,100,130,150],\n",
    "    \"learning_rate\" : [0.0001, 0.01, 0.1,0.5]\n",
    "}"
   ]
  },
  {
   "cell_type": "code",
   "execution_count": 22,
   "id": "2cdc2121",
   "metadata": {},
   "outputs": [],
   "source": [
    "from sklearn.model_selection import GridSearchCV\n",
    "grid_search=GridSearchCV(estimator=model,param_grid=grid_param,cv=3,verbose=2,n_jobs=-1)"
   ]
  },
  {
   "cell_type": "code",
   "execution_count": 23,
   "id": "101f9dab",
   "metadata": {},
   "outputs": [
    {
     "name": "stdout",
     "output_type": "stream",
     "text": [
      "Fitting 3 folds for each of 16 candidates, totalling 48 fits\n"
     ]
    },
    {
     "data": {
      "text/plain": [
       "GridSearchCV(cv=3, estimator=AdaBoostClassifier(), n_jobs=-1,\n",
       "             param_grid={'learning_rate': [0.0001, 0.01, 0.1, 0.5],\n",
       "                         'n_estimators': [90, 100, 130, 150]},\n",
       "             verbose=2)"
      ]
     },
     "execution_count": 23,
     "metadata": {},
     "output_type": "execute_result"
    }
   ],
   "source": [
    "grid_search.fit(X_train,y_train)"
   ]
  },
  {
   "cell_type": "code",
   "execution_count": 24,
   "id": "5e98791e",
   "metadata": {},
   "outputs": [
    {
     "data": {
      "text/plain": [
       "{'learning_rate': 0.0001, 'n_estimators': 90}"
      ]
     },
     "execution_count": 24,
     "metadata": {},
     "output_type": "execute_result"
    }
   ],
   "source": [
    "grid_search.best_params_"
   ]
  },
  {
   "cell_type": "code",
   "execution_count": 28,
   "id": "89cdfa12",
   "metadata": {},
   "outputs": [],
   "source": [
    "model = AdaBoostClassifier(learning_rate= 0.0001, n_estimators=90)"
   ]
  },
  {
   "cell_type": "code",
   "execution_count": 29,
   "id": "ef25f765",
   "metadata": {},
   "outputs": [
    {
     "data": {
      "text/plain": [
       "AdaBoostClassifier(learning_rate=0.0001, n_estimators=90)"
      ]
     },
     "execution_count": 29,
     "metadata": {},
     "output_type": "execute_result"
    }
   ],
   "source": [
    "model.fit(X_train, y_train)"
   ]
  },
  {
   "cell_type": "code",
   "execution_count": 30,
   "id": "3720722a",
   "metadata": {},
   "outputs": [],
   "source": [
    "y_predict1 = model.predict(X_test)"
   ]
  },
  {
   "cell_type": "code",
   "execution_count": 31,
   "id": "70f36f7e",
   "metadata": {},
   "outputs": [
    {
     "data": {
      "text/plain": [
       "0.5278396436525612"
      ]
     },
     "execution_count": 31,
     "metadata": {},
     "output_type": "execute_result"
    },
    {
     "name": "stdout",
     "output_type": "stream",
     "text": [
      "[CV] END ...............learning_rate=0.001, n_estimators=90; total time=   0.1s\n",
      "[CV] END ..............learning_rate=0.001, n_estimators=150; total time=   0.2s\n",
      "[CV] END .................learning_rate=0.1, n_estimators=90; total time=   0.1s\n",
      "[CV] END .................learning_rate=0.5, n_estimators=90; total time=   0.1s\n",
      "[CV] END ................learning_rate=0.5, n_estimators=130; total time=   0.2s\n",
      "[CV] END ..............learning_rate=0.0001, n_estimators=90; total time=   0.1s\n",
      "[CV] END .............learning_rate=0.0001, n_estimators=150; total time=   0.2s\n",
      "[CV] END .................learning_rate=0.1, n_estimators=90; total time=   0.1s\n",
      "[CV] END ................learning_rate=0.1, n_estimators=100; total time=   0.1s\n",
      "[CV] END ................learning_rate=0.5, n_estimators=100; total time=   0.1s\n",
      "[CV] END ...............learning_rate=0.001, n_estimators=90; total time=   0.1s\n",
      "[CV] END ................learning_rate=0.01, n_estimators=90; total time=   0.1s\n",
      "[CV] END ...............learning_rate=0.01, n_estimators=130; total time=   0.2s\n",
      "[CV] END ................learning_rate=0.1, n_estimators=130; total time=   0.1s\n",
      "[CV] END ................learning_rate=0.5, n_estimators=100; total time=   0.1s\n",
      "[CV] END .............learning_rate=0.0001, n_estimators=130; total time=   0.2s\n",
      "[CV] END ...............learning_rate=0.01, n_estimators=100; total time=   0.1s\n",
      "[CV] END ................learning_rate=0.1, n_estimators=130; total time=   0.2s\n",
      "[CV] END ................learning_rate=0.1, n_estimators=150; total time=   0.2s\n",
      "[CV] END ..............learning_rate=0.001, n_estimators=130; total time=   0.2s\n",
      "[CV] END ...............learning_rate=0.01, n_estimators=100; total time=   0.1s\n",
      "[CV] END .................learning_rate=0.1, n_estimators=90; total time=   0.1s\n",
      "[CV] END ................learning_rate=0.1, n_estimators=100; total time=   0.1s\n",
      "[CV] END ................learning_rate=0.5, n_estimators=100; total time=   0.1s\n",
      "[CV] END ................learning_rate=0.5, n_estimators=150; total time=   0.2s\n",
      "[CV] END .............learning_rate=0.0001, n_estimators=130; total time=   0.2s\n",
      "[CV] END ...............learning_rate=0.01, n_estimators=100; total time=   0.1s\n",
      "[CV] END ................learning_rate=0.1, n_estimators=150; total time=   0.2s\n",
      "[CV] END ................learning_rate=0.1, n_estimators=150; total time=   0.2s\n",
      "[CV] END ...............learning_rate=0.001, n_estimators=90; total time=   0.1s\n",
      "[CV] END ................learning_rate=0.01, n_estimators=90; total time=   0.1s\n",
      "[CV] END ...............learning_rate=0.01, n_estimators=150; total time=   0.2s\n",
      "[CV] END .................learning_rate=0.5, n_estimators=90; total time=   0.1s\n",
      "[CV] END ................learning_rate=0.5, n_estimators=130; total time=   0.2s\n",
      "[CV] END ..............learning_rate=0.0001, n_estimators=90; total time=   0.1s\n",
      "[CV] END ................learning_rate=0.01, n_estimators=90; total time=   0.1s\n",
      "[CV] END ...............learning_rate=0.01, n_estimators=150; total time=   0.2s\n",
      "[CV] END ...............learning_rate=0.01, n_estimators=150; total time=   0.2s\n",
      "[CV] END ..............learning_rate=0.001, n_estimators=100; total time=   0.1s\n",
      "[CV] END ..............learning_rate=0.001, n_estimators=150; total time=   0.2s\n",
      "[CV] END ................learning_rate=0.1, n_estimators=100; total time=   0.1s\n",
      "[CV] END ................learning_rate=0.1, n_estimators=150; total time=   0.2s\n",
      "[CV] END ..............learning_rate=0.0001, n_estimators=90; total time=   0.1s\n",
      "[CV] END .............learning_rate=0.0001, n_estimators=150; total time=   0.2s\n",
      "[CV] END ................learning_rate=0.1, n_estimators=100; total time=   0.1s\n",
      "[CV] END ................learning_rate=0.1, n_estimators=100; total time=   0.1s\n",
      "[CV] END ................learning_rate=0.5, n_estimators=130; total time=   0.2s\n",
      "[CV] END ..............learning_rate=0.001, n_estimators=150; total time=   0.2s\n",
      "[CV] END ...............learning_rate=0.01, n_estimators=130; total time=   0.2s\n",
      "[CV] END ................learning_rate=0.1, n_estimators=130; total time=   0.2s\n",
      "[CV] END ................learning_rate=0.5, n_estimators=100; total time=   0.1s\n",
      "[CV] END .............learning_rate=0.0001, n_estimators=130; total time=   0.2s\n",
      "[CV] END ...............learning_rate=0.01, n_estimators=130; total time=   0.2s\n",
      "[CV] END .................learning_rate=0.5, n_estimators=90; total time=   0.1s\n",
      "[CV] END .................learning_rate=0.5, n_estimators=90; total time=   0.1s\n",
      "[CV] END ................learning_rate=0.5, n_estimators=130; total time=   0.1s\n",
      "[CV] END ..............learning_rate=0.001, n_estimators=130; total time=   0.2s\n",
      "[CV] END ...............learning_rate=0.01, n_estimators=100; total time=   0.1s\n",
      "[CV] END .................learning_rate=0.1, n_estimators=90; total time=   0.1s\n",
      "[CV] END ................learning_rate=0.1, n_estimators=130; total time=   0.2s\n",
      "[CV] END ................learning_rate=0.5, n_estimators=130; total time=   0.2s\n",
      "[CV] END .............learning_rate=0.0001, n_estimators=100; total time=   0.1s\n",
      "[CV] END ................learning_rate=0.01, n_estimators=90; total time=   0.1s\n",
      "[CV] END ...............learning_rate=0.01, n_estimators=130; total time=   0.2s\n",
      "[CV] END ...............learning_rate=0.01, n_estimators=150; total time=   0.2s\n",
      "[CV] END ................learning_rate=0.5, n_estimators=130; total time=   0.1s\n",
      "[CV] END ..............learning_rate=0.001, n_estimators=100; total time=   0.2s\n",
      "[CV] END ...............learning_rate=0.01, n_estimators=130; total time=   0.2s\n",
      "[CV] END ................learning_rate=0.1, n_estimators=100; total time=   0.1s\n",
      "[CV] END ................learning_rate=0.1, n_estimators=150; total time=   0.2s\n",
      "[CV] END ................learning_rate=0.5, n_estimators=150; total time=   0.2s\n",
      "[CV] END .............learning_rate=0.0001, n_estimators=100; total time=   0.1s\n",
      "[CV] END ................learning_rate=0.01, n_estimators=90; total time=   0.1s\n",
      "[CV] END .................learning_rate=0.1, n_estimators=90; total time=   0.1s\n",
      "[CV] END .................learning_rate=0.1, n_estimators=90; total time=   0.1s\n",
      "[CV] END ................learning_rate=0.5, n_estimators=100; total time=   0.1s\n",
      "[CV] END ................learning_rate=0.5, n_estimators=150; total time=   0.2s\n",
      "[CV] END ..............learning_rate=0.001, n_estimators=100; total time=   0.1s\n",
      "[CV] END ................learning_rate=0.01, n_estimators=90; total time=   0.1s\n",
      "[CV] END ...............learning_rate=0.01, n_estimators=150; total time=   0.2s\n",
      "[CV] END ................learning_rate=0.1, n_estimators=150; total time=   0.2s\n",
      "[CV] END .............learning_rate=0.0001, n_estimators=150; total time=   0.2s\n",
      "[CV] END ...............learning_rate=0.01, n_estimators=130; total time=   0.2s\n",
      "[CV] END .................learning_rate=0.5, n_estimators=90; total time=   0.1s\n",
      "[CV] END ................learning_rate=0.5, n_estimators=100; total time=   0.1s\n",
      "[CV] END ................learning_rate=0.5, n_estimators=150; total time=   0.2s\n",
      "[CV] END ..............learning_rate=0.001, n_estimators=130; total time=   0.2s\n",
      "[CV] END ...............learning_rate=0.01, n_estimators=100; total time=   0.1s\n",
      "[CV] END ...............learning_rate=0.01, n_estimators=150; total time=   0.2s\n",
      "[CV] END .................learning_rate=0.5, n_estimators=90; total time=   0.1s\n",
      "[CV] END ................learning_rate=0.5, n_estimators=150; total time=   0.2s\n",
      "[CV] END .............learning_rate=0.0001, n_estimators=100; total time=   0.2s\n",
      "[CV] END ...............learning_rate=0.01, n_estimators=100; total time=   0.1s\n",
      "[CV] END ................learning_rate=0.1, n_estimators=130; total time=   0.2s\n",
      "[CV] END ................learning_rate=0.1, n_estimators=130; total time=   0.2s\n",
      "[CV] END ................learning_rate=0.5, n_estimators=150; total time=   0.2s\n"
     ]
    }
   ],
   "source": [
    "accuracy_score(y_test, y_predict1)"
   ]
  },
  {
   "cell_type": "code",
   "execution_count": null,
   "id": "c30300ed",
   "metadata": {},
   "outputs": [],
   "source": []
  }
 ],
 "metadata": {
  "kernelspec": {
   "display_name": "Python 3 (ipykernel)",
   "language": "python",
   "name": "python3"
  },
  "language_info": {
   "codemirror_mode": {
    "name": "ipython",
    "version": 3
   },
   "file_extension": ".py",
   "mimetype": "text/x-python",
   "name": "python",
   "nbconvert_exporter": "python",
   "pygments_lexer": "ipython3",
   "version": "3.9.12"
  }
 },
 "nbformat": 4,
 "nbformat_minor": 5
}
