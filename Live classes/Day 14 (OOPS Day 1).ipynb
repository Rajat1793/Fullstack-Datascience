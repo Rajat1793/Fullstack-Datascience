{
 "cells": [
  {
   "cell_type": "code",
   "execution_count": 1,
   "id": "99d894f2",
   "metadata": {},
   "outputs": [
    {
     "name": "stdout",
     "output_type": "stream",
     "text": [
      "29\n",
      "rajat rajat@gmail.com\n",
      "ram@gmail.com 1992\n",
      "<class '__main__.Person'>\n",
      "rajat jaiswal\n"
     ]
    }
   ],
   "source": [
    "class Person:\n",
    "\n",
    "    def __init__(self, name, surname, email, dob):\n",
    "        self.name = name\n",
    "        self.surname = surname\n",
    "        self.email =  email\n",
    "        self.dob = dob\n",
    "\n",
    "    # if we try to give multiple init function itr will always consider the latest one and we cannot have a multiple constructor functions\n",
    "    # def __init__(self, name, surname):\n",
    "    #     self.name = name\n",
    "    #     self.surname = surname\n",
    "\n",
    "    def age(self, current_year):\n",
    "        return (current_year - self.dob)\n",
    "\n",
    "\n",
    "raj_var = Person('rajat', 'jaiswal','rajat@gmail.com',1993)\n",
    "ram_var = Person('ram','sharma','ram@gmail.com',1992)\n",
    "\n",
    "print(raj_var.age(2022))\n",
    "\n",
    "print(raj_var.name, raj_var.email)\n",
    "print(ram_var.email, ram_var.dob)\n",
    "print(type(ram_var))\n",
    "print(raj_var.name + ' ' +raj_var.surname)"
   ]
  },
  {
   "cell_type": "code",
   "execution_count": 2,
   "id": "27fad126",
   "metadata": {},
   "outputs": [
    {
     "name": "stdout",
     "output_type": "stream",
     "text": [
      "enter the dob: 2022\n",
      "2022\n",
      "Email id :  sam@h.com\n"
     ]
    }
   ],
   "source": [
    "class Person:\n",
    "    def age(self, current_year, year_of_birth):\n",
    "        return current_year - year_of_birth\n",
    "\n",
    "    def email_id_input(self, email_id):\n",
    "        print(\"Email id : \", email_id)\n",
    "\n",
    "    def ask_name(self):\n",
    "        name = input(\"Enter your name: \")\n",
    "        return name\n",
    "\n",
    "    def ask_dob(self):\n",
    "        dob = input(\"enter the dob: \")\n",
    "        return dob\n",
    "\n",
    "raj = Person()\n",
    "print(raj.ask_dob())\n",
    "\n",
    "sam = Person()\n",
    "sam.email_id_input('sam@h.com')"
   ]
  },
  {
   "cell_type": "code",
   "execution_count": null,
   "id": "c656a50f",
   "metadata": {},
   "outputs": [],
   "source": []
  }
 ],
 "metadata": {
  "kernelspec": {
   "display_name": "Python 3 (ipykernel)",
   "language": "python",
   "name": "python3"
  },
  "language_info": {
   "codemirror_mode": {
    "name": "ipython",
    "version": 3
   },
   "file_extension": ".py",
   "mimetype": "text/x-python",
   "name": "python",
   "nbconvert_exporter": "python",
   "pygments_lexer": "ipython3",
   "version": "3.9.7"
  }
 },
 "nbformat": 4,
 "nbformat_minor": 5
}
