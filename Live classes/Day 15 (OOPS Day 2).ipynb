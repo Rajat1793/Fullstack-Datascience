{
 "cells": [
  {
   "cell_type": "code",
   "execution_count": 1,
   "id": "f717e0ff",
   "metadata": {},
   "outputs": [
    {
     "name": "stdout",
     "output_type": "stream",
     "text": [
      "rajat\n",
      "jaiswal\n"
     ]
    }
   ],
   "source": [
    "class Person:\n",
    "    def __init__(self, name, surname, dob):\n",
    "        self._name = name #_ is a anotation which declare variable is protected\n",
    "        self.__surname = surname # __ means its a private variable\n",
    "        self.dob = dob\n",
    "\n",
    "raj = Person('rajat','jaiswal',1992)\n",
    "# print(raj._name.upper())\n",
    "print(raj._name)\n",
    "print(raj._Person__surname)# calling private variable"
   ]
  },
  {
   "cell_type": "code",
   "execution_count": 2,
   "id": "57116ead",
   "metadata": {},
   "outputs": [
    {
     "name": "stdout",
     "output_type": "stream",
     "text": [
      "30\n",
      "29\n",
      "<class '__main__.Person'>\n",
      "30\n",
      "31\n",
      "<__main__.Employee object at 0x7fde90a975e0>\n",
      "1993\n",
      "rajat1\n",
      "jaiswal\n"
     ]
    }
   ],
   "source": [
    "class Person:\n",
    "\n",
    "    _name = 'rajat'\n",
    "    __surname = 'jaiswal'\n",
    "    dob = 1992\n",
    "\n",
    "    def _age(self, current_year):\n",
    "        return current_year - self.dob\n",
    "\n",
    "    def __age(self, current_year):\n",
    "        return  current_year - self.dob\n",
    "\n",
    "\n",
    "obj = Person()\n",
    "print(obj._age(2022))\n",
    "print((obj._Person__age(2021)))\n",
    "print(type(obj))\n",
    "\n",
    "class Employee(Person):\n",
    "    _name = 'rajat1'\n",
    "    __surname = 'jaiswal1'\n",
    "    dob = 1993\n",
    "\n",
    "obj1 = Employee()\n",
    "print(obj1._age(2023))\n",
    "print(obj1._Person__age(2024))\n",
    "print((obj1))\n",
    "print(obj1.dob)\n",
    "print(obj1._name)\n",
    "print(obj1._Person__surname)\n",
    "\n"
   ]
  },
  {
   "cell_type": "code",
   "execution_count": null,
   "id": "d123c78f",
   "metadata": {},
   "outputs": [],
   "source": []
  }
 ],
 "metadata": {
  "kernelspec": {
   "display_name": "Python 3 (ipykernel)",
   "language": "python",
   "name": "python3"
  },
  "language_info": {
   "codemirror_mode": {
    "name": "ipython",
    "version": 3
   },
   "file_extension": ".py",
   "mimetype": "text/x-python",
   "name": "python",
   "nbconvert_exporter": "python",
   "pygments_lexer": "ipython3",
   "version": "3.9.7"
  }
 },
 "nbformat": 4,
 "nbformat_minor": 5
}
