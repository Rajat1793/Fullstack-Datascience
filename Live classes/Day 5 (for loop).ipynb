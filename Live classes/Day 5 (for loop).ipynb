{
 "cells": [
  {
   "cell_type": "code",
   "execution_count": 1,
   "id": "5cffca6d",
   "metadata": {},
   "outputs": [],
   "source": [
    "l = [1,2,3, 4, 'rajat', \"jaiswal\", 45.54]"
   ]
  },
  {
   "cell_type": "code",
   "execution_count": 2,
   "id": "855e291f",
   "metadata": {},
   "outputs": [
    {
     "name": "stdout",
     "output_type": "stream",
     "text": [
      "1\n",
      "2\n",
      "3\n",
      "4\n",
      "rajat\n",
      "jaiswal\n",
      "45.54\n"
     ]
    }
   ],
   "source": [
    "for i in l:\n",
    "    print(i)"
   ]
  },
  {
   "cell_type": "code",
   "execution_count": 6,
   "id": "e452b5a2",
   "metadata": {},
   "outputs": [
    {
     "name": "stdout",
     "output_type": "stream",
     "text": [
      "1\n",
      "2\n",
      "3\n",
      "4\n",
      "rajat\n",
      "jaiswal\n",
      "45.54\n"
     ]
    }
   ],
   "source": [
    "for i in range(len(l)):\n",
    "    print(l[i])"
   ]
  },
  {
   "cell_type": "code",
   "execution_count": 8,
   "id": "79e019af",
   "metadata": {},
   "outputs": [
    {
     "name": "stdout",
     "output_type": "stream",
     "text": [
      "1\n",
      "3\n",
      "rajat\n",
      "45.54\n"
     ]
    }
   ],
   "source": [
    "for i in range(0,len(l),2):\n",
    "    print(l[i])"
   ]
  },
  {
   "cell_type": "code",
   "execution_count": 77,
   "id": "110b246d",
   "metadata": {},
   "outputs": [
    {
     "name": "stdout",
     "output_type": "stream",
     "text": [
      "45.54\n",
      "jaiswal\n",
      "rajat\n",
      "4\n",
      "3\n",
      "2\n",
      "1\n"
     ]
    }
   ],
   "source": [
    "for i in range(len(l)-1, -1, -1):\n",
    "    print(l[i])"
   ]
  },
  {
   "cell_type": "code",
   "execution_count": 12,
   "id": "02c8e1b5",
   "metadata": {},
   "outputs": [
    {
     "name": "stdout",
     "output_type": "stream",
     "text": [
      "r\n",
      "a\n",
      "j\n",
      "a\n",
      "t\n"
     ]
    }
   ],
   "source": [
    "for i in 'rajat':\n",
    "    print (i)"
   ]
  },
  {
   "cell_type": "code",
   "execution_count": 15,
   "id": "e8046f60",
   "metadata": {},
   "outputs": [
    {
     "name": "stdout",
     "output_type": "stream",
     "text": [
      "1\n",
      "printed 4\n"
     ]
    }
   ],
   "source": [
    "for i in l:\n",
    "    if i == 2:\n",
    "        print(\"printed 4\")\n",
    "        break\n",
    "    print(i)\n",
    "else:\n",
    "        print(\"Executed after if\")"
   ]
  },
  {
   "cell_type": "code",
   "execution_count": 16,
   "id": "edc2e1a2",
   "metadata": {},
   "outputs": [],
   "source": [
    "d = {'key':'rajat', 'class':\"flumm\"}\n",
    "     "
   ]
  },
  {
   "cell_type": "code",
   "execution_count": 17,
   "id": "1ef27fef",
   "metadata": {},
   "outputs": [
    {
     "name": "stdout",
     "output_type": "stream",
     "text": [
      "key : rajat\n",
      "class : flumm\n"
     ]
    }
   ],
   "source": [
    "for i in d:\n",
    "    print(i, \":\", d[i])"
   ]
  },
  {
   "cell_type": "code",
   "execution_count": 21,
   "id": "a507d55f",
   "metadata": {},
   "outputs": [
    {
     "name": "stdout",
     "output_type": "stream",
     "text": [
      "rajat\n",
      "flumm\n"
     ]
    }
   ],
   "source": [
    "for i in d:\n",
    "    print(d[i])"
   ]
  },
  {
   "cell_type": "code",
   "execution_count": 22,
   "id": "96ea65b3",
   "metadata": {},
   "outputs": [],
   "source": [
    "a = 'rajat'"
   ]
  },
  {
   "cell_type": "code",
   "execution_count": 30,
   "id": "565c2bfb",
   "metadata": {},
   "outputs": [
    {
     "name": "stdout",
     "output_type": "stream",
     "text": [
      "0 \n",
      "\n",
      "1 1 \n",
      "\n",
      "2 2 2 \n",
      "\n",
      "3 3 3 3 \n",
      "\n",
      "4 4 4 4 4 \n",
      "\n",
      "5 5 5 5 5 5 \n",
      "\n",
      "6 6 6 6 6 6 6 \n",
      "\n",
      "7 7 7 7 7 7 7 7 \n",
      "\n",
      "8 8 8 8 8 8 8 8 8 \n",
      "\n"
     ]
    }
   ],
   "source": [
    "for i in range(0,9):\n",
    "    for j in range(0, i+1):\n",
    "        print(i, end = ' ')\n",
    "    print('\\n')"
   ]
  },
  {
   "cell_type": "code",
   "execution_count": 34,
   "id": "a7524616",
   "metadata": {},
   "outputs": [
    {
     "name": "stdout",
     "output_type": "stream",
     "text": [
      "rajat \n",
      "\n",
      "rajat rajat rajat \n",
      "\n",
      "rajat rajat rajat rajat rajat \n",
      "\n",
      "rajat rajat rajat rajat rajat rajat rajat \n",
      "\n",
      "rajat rajat rajat rajat rajat rajat rajat rajat rajat \n",
      "\n"
     ]
    }
   ],
   "source": [
    "for i in range(0, 9, 2):\n",
    "    for j in range(0, i+1):\n",
    "        print(a, end = ' ')\n",
    "    print('\\n')"
   ]
  },
  {
   "cell_type": "code",
   "execution_count": 63,
   "id": "f0ca82c9",
   "metadata": {},
   "outputs": [
    {
     "name": "stdout",
     "output_type": "stream",
     "text": [
      "            rajat \n",
      "      rajat rajat rajat \n",
      "rajat rajat rajat rajat rajat \n"
     ]
    }
   ],
   "source": [
    "n = 3\n",
    "for i in range(n):\n",
    "    for j in range(i, n-1):\n",
    "        print(\" \" * len(a), end = ' ')\n",
    "    for j in range(i+1):\n",
    "        print(a, end = ' ')\n",
    "    for j in range(i):\n",
    "        print(a, end = ' ')\n",
    "    print()"
   ]
  },
  {
   "cell_type": "code",
   "execution_count": 67,
   "id": "03029a60",
   "metadata": {},
   "outputs": [
    {
     "name": "stdout",
     "output_type": "stream",
     "text": [
      "0 3\n",
      "1 23\n",
      "2 45\n",
      "3 67\n",
      "4 2\n",
      "5 3\n",
      "6 5\n",
      "7 6\n"
     ]
    }
   ],
   "source": [
    "t = (3, 23, 45, 67, 2, 3, 5, 6)\n",
    "for i in range(len(t)):\n",
    "    print(i, t[i])"
   ]
  },
  {
   "cell_type": "code",
   "execution_count": 68,
   "id": "4c5d848d",
   "metadata": {},
   "outputs": [
    {
     "name": "stdout",
     "output_type": "stream",
     "text": [
      "0 i\n",
      "1 n\n",
      "2 e\n",
      "3 u\n",
      "4 r\n",
      "5 o\n",
      "6 n\n"
     ]
    }
   ],
   "source": [
    "s = 'ineuron'\n",
    "for i in range(len(s)):\n",
    "    print(i, s[i])"
   ]
  },
  {
   "cell_type": "code",
   "execution_count": 72,
   "id": "4efe4178",
   "metadata": {},
   "outputs": [
    {
     "name": "stdout",
     "output_type": "stream",
     "text": [
      "6 n\n",
      "5 o\n",
      "4 r\n",
      "3 u\n",
      "2 e\n",
      "1 n\n",
      "0 i\n"
     ]
    }
   ],
   "source": [
    "s = 'ineuron'\n",
    "for i in range(len(s)-1, -1, -1):\n",
    "    print(i, s[i])"
   ]
  },
  {
   "cell_type": "code",
   "execution_count": 78,
   "id": "c70ae45b",
   "metadata": {},
   "outputs": [
    {
     "data": {
      "text/plain": [
       "{'key': 'rajat', 'class': 'flumm'}"
      ]
     },
     "execution_count": 78,
     "metadata": {},
     "output_type": "execute_result"
    }
   ],
   "source": [
    "d"
   ]
  },
  {
   "cell_type": "code",
   "execution_count": 81,
   "id": "e92e0881",
   "metadata": {},
   "outputs": [
    {
     "name": "stdout",
     "output_type": "stream",
     "text": [
      "('key', 'rajat')\n",
      "('class', 'flumm')\n"
     ]
    }
   ],
   "source": [
    "for i in tuple(d.items()):\n",
    "    print(i)"
   ]
  },
  {
   "cell_type": "code",
   "execution_count": 82,
   "id": "f31dc5bf",
   "metadata": {},
   "outputs": [
    {
     "data": {
      "text/plain": [
       "dict_items([('key', 'rajat'), ('class', 'flumm')])"
      ]
     },
     "execution_count": 82,
     "metadata": {},
     "output_type": "execute_result"
    }
   ],
   "source": [
    "d.items()"
   ]
  },
  {
   "cell_type": "code",
   "execution_count": 87,
   "id": "77858c42",
   "metadata": {},
   "outputs": [
    {
     "name": "stdout",
     "output_type": "stream",
     "text": [
      "('key', 'rajat') <class 'tuple'> <class 'str'>\n",
      "('class', 'flumm') <class 'tuple'> <class 'str'>\n"
     ]
    }
   ],
   "source": [
    "for i in tuple(d.items()):\n",
    "    print(i, type(i), type(i[1]))"
   ]
  },
  {
   "cell_type": "code",
   "execution_count": 89,
   "id": "d68aa595",
   "metadata": {},
   "outputs": [
    {
     "name": "stdout",
     "output_type": "stream",
     "text": [
      "[3242342, 2342, 32]\n"
     ]
    }
   ],
   "source": [
    "d1 = [ \"rajat\", \"jaiswal\", 3242342, \"rajat@dde\", 2342, 32]\n",
    "d2 = []\n",
    "for i in d1:\n",
    "    if(type(i) == int):\n",
    "        d2.append(i)\n",
    "print(d2)\n",
    "    "
   ]
  },
  {
   "cell_type": "code",
   "execution_count": 95,
   "id": "f9cdb598",
   "metadata": {},
   "outputs": [],
   "source": [
    "d4 = {1:3223, \"name\":\"rajat\", \"emai\":\"rajat@gmaiuk\", 23: \"aswee\", \"sdwd\":233223, 242:'3e23'}\n"
   ]
  },
  {
   "cell_type": "code",
   "execution_count": 97,
   "id": "a7232719",
   "metadata": {
    "scrolled": true
   },
   "outputs": [
    {
     "name": "stdout",
     "output_type": "stream",
     "text": [
      "1 : 3223\n",
      "23 : aswee\n",
      "242 : 3e23\n"
     ]
    }
   ],
   "source": [
    "for i in d4:\n",
    "    if type(i) == int:\n",
    "        print(i, \":\", d4[i])"
   ]
  },
  {
   "cell_type": "code",
   "execution_count": 100,
   "id": "8e34c228",
   "metadata": {},
   "outputs": [],
   "source": [
    "s = \"aaaabbccd\"\n"
   ]
  },
  {
   "cell_type": "code",
   "execution_count": 101,
   "id": "25e5d555",
   "metadata": {},
   "outputs": [
    {
     "name": "stdout",
     "output_type": "stream",
     "text": [
      "b : 2\n",
      "a : 4\n",
      "d : 1\n",
      "c : 2\n"
     ]
    }
   ],
   "source": [
    "for i in set(s):\n",
    "    print(i, \":\", s.count(i))"
   ]
  },
  {
   "cell_type": "code",
   "execution_count": 111,
   "id": "1b96cc10",
   "metadata": {},
   "outputs": [
    {
     "name": "stdout",
     "output_type": "stream",
     "text": [
      "5\n",
      "3\n",
      "4\n"
     ]
    }
   ],
   "source": [
    "i = 4534345345453534\n",
    "for j in set(str(i)):\n",
    "    print(j)"
   ]
  },
  {
   "cell_type": "code",
   "execution_count": 118,
   "id": "a3c2d34b",
   "metadata": {},
   "outputs": [
    {
     "data": {
      "text/plain": [
       "['rajat', 'jaiswal', [1, 2, 3, 5, 6], (3, 4, 5, 6), {3: 3, 'key2': 'jaiswal'}]"
      ]
     },
     "execution_count": 118,
     "metadata": {},
     "output_type": "execute_result"
    }
   ],
   "source": [
    "t =(\"rajat\", \"jaiswal\", [1,2,3,5,6],(3,4,5,6),{3:3, \"key2\":\"jaiswal\"})\n",
    "list(t)"
   ]
  },
  {
   "cell_type": "code",
   "execution_count": 117,
   "id": "532ca36b",
   "metadata": {},
   "outputs": [
    {
     "name": "stdout",
     "output_type": "stream",
     "text": [
      "3\n",
      "3\n",
      "3\n"
     ]
    }
   ],
   "source": [
    "for i in t:\n",
    "    if type(i) == list or type(i) == tuple or type(i) == dict:\n",
    "        for j in i:\n",
    "            if j == 3:\n",
    "                print(j)"
   ]
  },
  {
   "cell_type": "code",
   "execution_count": 128,
   "id": "33e681f4",
   "metadata": {},
   "outputs": [
    {
     "name": "stdout",
     "output_type": "stream",
     "text": [
      "4 5\n",
      "key1 rajat\n",
      "key2 jaiswal\n"
     ]
    }
   ],
   "source": [
    "s = {4:5, \"key1\":\"rajat\", \"key2\":\"jaiswal\"}\n",
    "for i,j in s.items():\n",
    "    print(i, j)"
   ]
  },
  {
   "cell_type": "code",
   "execution_count": 123,
   "id": "ddfce5bc",
   "metadata": {},
   "outputs": [
    {
     "name": "stdout",
     "output_type": "stream",
     "text": [
      "3\n",
      "3\n",
      "3\n",
      "(3, 3)\n",
      "('key2', 'jaiswal')\n"
     ]
    }
   ],
   "source": [
    "for i in t:\n",
    "    if type(i) == list or type(i) == tuple or type(i) == dict:\n",
    "        for j in i:\n",
    "            if j == 3:\n",
    "                print(j)\n",
    "    if type(i) == dict:\n",
    "        for k in i.items(): ##returning key and value\n",
    "            print(k)"
   ]
  },
  {
   "cell_type": "code",
   "execution_count": 124,
   "id": "d1353875",
   "metadata": {},
   "outputs": [
    {
     "name": "stdout",
     "output_type": "stream",
     "text": [
      "3\n",
      "3\n",
      "3\n",
      "3\n",
      "3\n"
     ]
    }
   ],
   "source": [
    "for i in t:\n",
    "    if type(i) == list or type(i) == tuple or type(i) == dict:\n",
    "        for j in i:\n",
    "            if j == 3:\n",
    "                print(j)\n",
    "    if type(i) == dict:\n",
    "        for k,v in i.items():\n",
    "            if k == 3 or v == 3:\n",
    "                print(k)\n",
    "                print(v)"
   ]
  },
  {
   "cell_type": "code",
   "execution_count": null,
   "id": "cf067fac",
   "metadata": {},
   "outputs": [],
   "source": []
  }
 ],
 "metadata": {
  "kernelspec": {
   "display_name": "Python 3 (ipykernel)",
   "language": "python",
   "name": "python3"
  },
  "language_info": {
   "codemirror_mode": {
    "name": "ipython",
    "version": 3
   },
   "file_extension": ".py",
   "mimetype": "text/x-python",
   "name": "python",
   "nbconvert_exporter": "python",
   "pygments_lexer": "ipython3",
   "version": "3.9.7"
  }
 },
 "nbformat": 4,
 "nbformat_minor": 5
}
