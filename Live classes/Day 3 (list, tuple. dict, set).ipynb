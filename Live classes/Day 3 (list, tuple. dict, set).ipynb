{
 "cells": [
  {
   "cell_type": "code",
   "execution_count": 1,
   "id": "c68df78a",
   "metadata": {},
   "outputs": [],
   "source": [
    "l = [1,2,3,4,5,\"rajat\",45.45,True]"
   ]
  },
  {
   "cell_type": "code",
   "execution_count": 2,
   "id": "2d2a1110",
   "metadata": {},
   "outputs": [
    {
     "data": {
      "text/plain": [
       "1"
      ]
     },
     "execution_count": 2,
     "metadata": {},
     "output_type": "execute_result"
    }
   ],
   "source": [
    "l[0]"
   ]
  },
  {
   "cell_type": "code",
   "execution_count": 3,
   "id": "b15e0e70",
   "metadata": {},
   "outputs": [
    {
     "data": {
      "text/plain": [
       "True"
      ]
     },
     "execution_count": 3,
     "metadata": {},
     "output_type": "execute_result"
    }
   ],
   "source": [
    "l[-1]"
   ]
  },
  {
   "cell_type": "code",
   "execution_count": 4,
   "id": "be28ee3b",
   "metadata": {},
   "outputs": [
    {
     "data": {
      "text/plain": [
       "8"
      ]
     },
     "execution_count": 4,
     "metadata": {},
     "output_type": "execute_result"
    }
   ],
   "source": [
    "len(l)"
   ]
  },
  {
   "cell_type": "code",
   "execution_count": 5,
   "id": "6c27aad2",
   "metadata": {},
   "outputs": [
    {
     "data": {
      "text/plain": [
       "[1, 2, 3, 4, 5]"
      ]
     },
     "execution_count": 5,
     "metadata": {},
     "output_type": "execute_result"
    }
   ],
   "source": [
    "l[0:5]"
   ]
  },
  {
   "cell_type": "code",
   "execution_count": 6,
   "id": "880a0e0a",
   "metadata": {},
   "outputs": [
    {
     "data": {
      "text/plain": [
       "[True, 45.45, 'rajat', 5, 4, 3, 2, 1]"
      ]
     },
     "execution_count": 6,
     "metadata": {},
     "output_type": "execute_result"
    }
   ],
   "source": [
    "l[::-1]"
   ]
  },
  {
   "cell_type": "code",
   "execution_count": 7,
   "id": "045587d1",
   "metadata": {},
   "outputs": [
    {
     "data": {
      "text/plain": [
       "[1, 3, 5, 45.45]"
      ]
     },
     "execution_count": 7,
     "metadata": {},
     "output_type": "execute_result"
    }
   ],
   "source": [
    "l[0:100:2]"
   ]
  },
  {
   "cell_type": "code",
   "execution_count": 8,
   "id": "47e8dec7",
   "metadata": {},
   "outputs": [
    {
     "data": {
      "text/plain": [
       "[]"
      ]
     },
     "execution_count": 8,
     "metadata": {},
     "output_type": "execute_result"
    }
   ],
   "source": [
    "l[0:8:-1]"
   ]
  },
  {
   "cell_type": "code",
   "execution_count": 9,
   "id": "6dce8d6f",
   "metadata": {},
   "outputs": [
    {
     "data": {
      "text/plain": [
       "[1, 2, 3]"
      ]
     },
     "execution_count": 9,
     "metadata": {},
     "output_type": "execute_result"
    }
   ],
   "source": [
    "l[0:3]"
   ]
  },
  {
   "cell_type": "code",
   "execution_count": 11,
   "id": "99a6915e",
   "metadata": {},
   "outputs": [
    {
     "data": {
      "text/plain": [
       "[1, 2, 3, 4, 5, 'rajat', 45.45, True, 'hello']"
      ]
     },
     "execution_count": 11,
     "metadata": {},
     "output_type": "execute_result"
    }
   ],
   "source": [
    "l + [\"hello\"]"
   ]
  },
  {
   "cell_type": "markdown",
   "id": "19d17e88",
   "metadata": {},
   "source": [
    "l*2"
   ]
  },
  {
   "cell_type": "code",
   "execution_count": 12,
   "id": "6f1f4f88",
   "metadata": {},
   "outputs": [
    {
     "data": {
      "text/plain": [
       "[1, 2, 3, 4, 5, 'rajat', 45.45, True, 1, 2, 3, 4, 5, 'rajat', 45.45, True]"
      ]
     },
     "execution_count": 12,
     "metadata": {},
     "output_type": "execute_result"
    }
   ],
   "source": [
    "l*2"
   ]
  },
  {
   "cell_type": "code",
   "execution_count": 13,
   "id": "a563f48e",
   "metadata": {},
   "outputs": [
    {
     "ename": "TypeError",
     "evalue": "'>' not supported between instances of 'str' and 'int'",
     "output_type": "error",
     "traceback": [
      "\u001b[0;31m---------------------------------------------------------------------------\u001b[0m",
      "\u001b[0;31mTypeError\u001b[0m                                 Traceback (most recent call last)",
      "\u001b[0;32m/var/folders/fv/7d20d0s14s5777d0m1bngrcw0000gp/T/ipykernel_9958/1790536805.py\u001b[0m in \u001b[0;36m<module>\u001b[0;34m\u001b[0m\n\u001b[0;32m----> 1\u001b[0;31m \u001b[0mmax\u001b[0m\u001b[0;34m(\u001b[0m\u001b[0ml\u001b[0m\u001b[0;34m)\u001b[0m\u001b[0;34m\u001b[0m\u001b[0;34m\u001b[0m\u001b[0m\n\u001b[0m",
      "\u001b[0;31mTypeError\u001b[0m: '>' not supported between instances of 'str' and 'int'"
     ]
    }
   ],
   "source": [
    "max(l)"
   ]
  },
  {
   "cell_type": "code",
   "execution_count": 14,
   "id": "8ff95ce2",
   "metadata": {},
   "outputs": [],
   "source": [
    "l2 = [2, 3,54,53, 5]"
   ]
  },
  {
   "cell_type": "code",
   "execution_count": 15,
   "id": "f35a192e",
   "metadata": {},
   "outputs": [
    {
     "data": {
      "text/plain": [
       "54"
      ]
     },
     "execution_count": 15,
     "metadata": {},
     "output_type": "execute_result"
    }
   ],
   "source": [
    "max(l2)"
   ]
  },
  {
   "cell_type": "markdown",
   "id": "72f159b7",
   "metadata": {},
   "source": [
    "min(l2)"
   ]
  },
  {
   "cell_type": "code",
   "execution_count": 17,
   "id": "873358cb",
   "metadata": {},
   "outputs": [],
   "source": [
    "l3 = ['rajat', 'jaiswal','kumar']"
   ]
  },
  {
   "cell_type": "code",
   "execution_count": 19,
   "id": "134928f0",
   "metadata": {},
   "outputs": [
    {
     "data": {
      "text/plain": [
       "'rajat'"
      ]
     },
     "execution_count": 19,
     "metadata": {},
     "output_type": "execute_result"
    }
   ],
   "source": [
    "max(l3)"
   ]
  },
  {
   "cell_type": "code",
   "execution_count": 20,
   "id": "e98c4a02",
   "metadata": {},
   "outputs": [
    {
     "data": {
      "text/plain": [
       "'jaiswal'"
      ]
     },
     "execution_count": 20,
     "metadata": {},
     "output_type": "execute_result"
    }
   ],
   "source": [
    "min(l3)"
   ]
  },
  {
   "cell_type": "code",
   "execution_count": 21,
   "id": "445e76b3",
   "metadata": {},
   "outputs": [
    {
     "data": {
      "text/plain": [
       "[1, 2, 3, 4, 5, 'rajat', 45.45, True]"
      ]
     },
     "execution_count": 21,
     "metadata": {},
     "output_type": "execute_result"
    }
   ],
   "source": [
    "l"
   ]
  },
  {
   "cell_type": "code",
   "execution_count": 22,
   "id": "839c18b0",
   "metadata": {},
   "outputs": [],
   "source": [
    "l.append(['a', 'b', 'c'])"
   ]
  },
  {
   "cell_type": "code",
   "execution_count": 23,
   "id": "4d58384d",
   "metadata": {},
   "outputs": [
    {
     "data": {
      "text/plain": [
       "[1, 2, 3, 4, 5, 'rajat', 45.45, True, ['a', 'b', 'c']]"
      ]
     },
     "execution_count": 23,
     "metadata": {},
     "output_type": "execute_result"
    }
   ],
   "source": [
    "l"
   ]
  },
  {
   "cell_type": "code",
   "execution_count": 27,
   "id": "501c5f09",
   "metadata": {},
   "outputs": [
    {
     "data": {
      "text/plain": [
       "45.45"
      ]
     },
     "execution_count": 27,
     "metadata": {},
     "output_type": "execute_result"
    }
   ],
   "source": [
    "l.pop()"
   ]
  },
  {
   "cell_type": "code",
   "execution_count": 28,
   "id": "bbe47459",
   "metadata": {},
   "outputs": [
    {
     "data": {
      "text/plain": [
       "[1, 2, 3, 4, 5, 'rajat']"
      ]
     },
     "execution_count": 28,
     "metadata": {},
     "output_type": "execute_result"
    }
   ],
   "source": [
    "l"
   ]
  },
  {
   "cell_type": "code",
   "execution_count": 32,
   "id": "5a1c35e3",
   "metadata": {},
   "outputs": [],
   "source": [
    "l.reverse()"
   ]
  },
  {
   "cell_type": "code",
   "execution_count": 33,
   "id": "83b8c867",
   "metadata": {},
   "outputs": [
    {
     "data": {
      "text/plain": [
       "['rajat', 5, 4, 3, 2, 1]"
      ]
     },
     "execution_count": 33,
     "metadata": {},
     "output_type": "execute_result"
    }
   ],
   "source": [
    "l"
   ]
  },
  {
   "cell_type": "code",
   "execution_count": 34,
   "id": "71c50287",
   "metadata": {},
   "outputs": [
    {
     "data": {
      "text/plain": [
       "[1, 2, 3, 4, 5, 'rajat']"
      ]
     },
     "execution_count": 34,
     "metadata": {},
     "output_type": "execute_result"
    }
   ],
   "source": [
    "l[::-1]"
   ]
  },
  {
   "cell_type": "code",
   "execution_count": 35,
   "id": "2fe5b6ed",
   "metadata": {},
   "outputs": [
    {
     "data": {
      "text/plain": [
       "['rajat', 5, 4, 3, 2, 1]"
      ]
     },
     "execution_count": 35,
     "metadata": {},
     "output_type": "execute_result"
    }
   ],
   "source": [
    "l"
   ]
  },
  {
   "cell_type": "code",
   "execution_count": 36,
   "id": "5da5ba0c",
   "metadata": {},
   "outputs": [],
   "source": [
    "l2.sort()"
   ]
  },
  {
   "cell_type": "code",
   "execution_count": 37,
   "id": "fa2a9ba0",
   "metadata": {},
   "outputs": [
    {
     "data": {
      "text/plain": [
       "[2, 3, 5, 53, 54]"
      ]
     },
     "execution_count": 37,
     "metadata": {},
     "output_type": "execute_result"
    }
   ],
   "source": [
    "l2"
   ]
  },
  {
   "cell_type": "code",
   "execution_count": 38,
   "id": "4578d6cd",
   "metadata": {},
   "outputs": [],
   "source": [
    "l1 = [1,2,3]\n",
    "l2= [4,5,6]\n",
    "l3 = [7,8,9]"
   ]
  },
  {
   "cell_type": "code",
   "execution_count": 40,
   "id": "6feebfd7",
   "metadata": {},
   "outputs": [],
   "source": [
    "l4 =[l1,l2,l3]"
   ]
  },
  {
   "cell_type": "markdown",
   "id": "f741e8fd",
   "metadata": {},
   "source": [
    "l4"
   ]
  },
  {
   "cell_type": "code",
   "execution_count": 41,
   "id": "8d016de3",
   "metadata": {},
   "outputs": [
    {
     "data": {
      "text/plain": [
       "[[1, 2, 3], [4, 5, 6], [7, 8, 9]]"
      ]
     },
     "execution_count": 41,
     "metadata": {},
     "output_type": "execute_result"
    }
   ],
   "source": [
    "l4"
   ]
  },
  {
   "cell_type": "code",
   "execution_count": 45,
   "id": "abfb3961",
   "metadata": {},
   "outputs": [
    {
     "data": {
      "text/plain": [
       "3"
      ]
     },
     "execution_count": 45,
     "metadata": {},
     "output_type": "execute_result"
    }
   ],
   "source": [
    "l4[0][2]"
   ]
  },
  {
   "cell_type": "code",
   "execution_count": 46,
   "id": "98b6f373",
   "metadata": {},
   "outputs": [
    {
     "data": {
      "text/plain": [
       "5"
      ]
     },
     "execution_count": 46,
     "metadata": {},
     "output_type": "execute_result"
    }
   ],
   "source": [
    "l4[1][1] "
   ]
  },
  {
   "cell_type": "code",
   "execution_count": 50,
   "id": "8e459746",
   "metadata": {},
   "outputs": [
    {
     "data": {
      "text/plain": [
       "0"
      ]
     },
     "execution_count": 50,
     "metadata": {},
     "output_type": "execute_result"
    }
   ],
   "source": [
    "l4.count(1)"
   ]
  },
  {
   "cell_type": "code",
   "execution_count": 52,
   "id": "5e5a7850",
   "metadata": {},
   "outputs": [],
   "source": [
    "l4.extend([45])"
   ]
  },
  {
   "cell_type": "code",
   "execution_count": 53,
   "id": "623c538c",
   "metadata": {},
   "outputs": [
    {
     "data": {
      "text/plain": [
       "[[1, 2, 3], [4, 5, 6], [7, 8, 9], 45]"
      ]
     },
     "execution_count": 53,
     "metadata": {},
     "output_type": "execute_result"
    }
   ],
   "source": [
    "l4"
   ]
  },
  {
   "cell_type": "code",
   "execution_count": 54,
   "id": "96d4d58e",
   "metadata": {},
   "outputs": [],
   "source": [
    "l4.extend(\"rajat\")"
   ]
  },
  {
   "cell_type": "code",
   "execution_count": 55,
   "id": "be253bd6",
   "metadata": {},
   "outputs": [
    {
     "data": {
      "text/plain": [
       "[[1, 2, 3], [4, 5, 6], [7, 8, 9], 45, 'r', 'a', 'j', 'a', 't']"
      ]
     },
     "execution_count": 55,
     "metadata": {},
     "output_type": "execute_result"
    }
   ],
   "source": [
    "l4"
   ]
  },
  {
   "cell_type": "code",
   "execution_count": 57,
   "id": "18b37d30",
   "metadata": {},
   "outputs": [
    {
     "data": {
      "text/plain": [
       "5"
      ]
     },
     "execution_count": 57,
     "metadata": {},
     "output_type": "execute_result"
    }
   ],
   "source": [
    "l4.index('a')"
   ]
  },
  {
   "cell_type": "code",
   "execution_count": 58,
   "id": "3ecdd65c",
   "metadata": {},
   "outputs": [],
   "source": [
    "l.insert(2,[1,2,3,4])"
   ]
  },
  {
   "cell_type": "code",
   "execution_count": 59,
   "id": "90508d1d",
   "metadata": {},
   "outputs": [
    {
     "data": {
      "text/plain": [
       "['rajat', 5, [1, 2, 3, 4], 4, 3, 2, 1]"
      ]
     },
     "execution_count": 59,
     "metadata": {},
     "output_type": "execute_result"
    }
   ],
   "source": [
    "l"
   ]
  },
  {
   "cell_type": "code",
   "execution_count": 60,
   "id": "c059f854",
   "metadata": {},
   "outputs": [
    {
     "data": {
      "text/plain": [
       "4"
      ]
     },
     "execution_count": 60,
     "metadata": {},
     "output_type": "execute_result"
    }
   ],
   "source": [
    "l.pop(3)"
   ]
  },
  {
   "cell_type": "code",
   "execution_count": 61,
   "id": "a0908321",
   "metadata": {},
   "outputs": [],
   "source": [
    "l.append(5)"
   ]
  },
  {
   "cell_type": "code",
   "execution_count": 62,
   "id": "8e0da423",
   "metadata": {},
   "outputs": [
    {
     "data": {
      "text/plain": [
       "['rajat', 5, [1, 2, 3, 4], 3, 2, 1, 5]"
      ]
     },
     "execution_count": 62,
     "metadata": {},
     "output_type": "execute_result"
    }
   ],
   "source": [
    "l"
   ]
  },
  {
   "cell_type": "code",
   "execution_count": 63,
   "id": "4326fa6e",
   "metadata": {},
   "outputs": [],
   "source": [
    "l.remove(5)"
   ]
  },
  {
   "cell_type": "code",
   "execution_count": 64,
   "id": "1847f108",
   "metadata": {},
   "outputs": [
    {
     "data": {
      "text/plain": [
       "['rajat', [1, 2, 3, 4], 3, 2, 1, 5]"
      ]
     },
     "execution_count": 64,
     "metadata": {},
     "output_type": "execute_result"
    }
   ],
   "source": [
    "l"
   ]
  },
  {
   "cell_type": "code",
   "execution_count": 65,
   "id": "6ffda285",
   "metadata": {},
   "outputs": [],
   "source": [
    "l.remove([1,2,3,4])"
   ]
  },
  {
   "cell_type": "code",
   "execution_count": 66,
   "id": "991df396",
   "metadata": {},
   "outputs": [
    {
     "data": {
      "text/plain": [
       "['rajat', 3, 2, 1, 5]"
      ]
     },
     "execution_count": 66,
     "metadata": {},
     "output_type": "execute_result"
    }
   ],
   "source": [
    "l"
   ]
  },
  {
   "cell_type": "code",
   "execution_count": 67,
   "id": "ec062821",
   "metadata": {},
   "outputs": [],
   "source": [
    "l[0] = 7"
   ]
  },
  {
   "cell_type": "code",
   "execution_count": 68,
   "id": "1b6b7b64",
   "metadata": {},
   "outputs": [
    {
     "data": {
      "text/plain": [
       "[7, 3, 2, 1, 5]"
      ]
     },
     "execution_count": 68,
     "metadata": {},
     "output_type": "execute_result"
    }
   ],
   "source": [
    "l"
   ]
  },
  {
   "cell_type": "code",
   "execution_count": 69,
   "id": "bd2e674f",
   "metadata": {},
   "outputs": [],
   "source": [
    "s = \"rajatjaiswal\""
   ]
  },
  {
   "cell_type": "code",
   "execution_count": 70,
   "id": "f9e17f84",
   "metadata": {},
   "outputs": [
    {
     "data": {
      "text/plain": [
       "'j'"
      ]
     },
     "execution_count": 70,
     "metadata": {},
     "output_type": "execute_result"
    }
   ],
   "source": [
    "s[2]"
   ]
  },
  {
   "cell_type": "code",
   "execution_count": 71,
   "id": "b6ef34f4",
   "metadata": {},
   "outputs": [
    {
     "ename": "TypeError",
     "evalue": "'str' object does not support item assignment",
     "output_type": "error",
     "traceback": [
      "\u001b[0;31m---------------------------------------------------------------------------\u001b[0m",
      "\u001b[0;31mTypeError\u001b[0m                                 Traceback (most recent call last)",
      "\u001b[0;32m/var/folders/fv/7d20d0s14s5777d0m1bngrcw0000gp/T/ipykernel_9958/461640476.py\u001b[0m in \u001b[0;36m<module>\u001b[0;34m\u001b[0m\n\u001b[0;32m----> 1\u001b[0;31m \u001b[0ms\u001b[0m\u001b[0;34m[\u001b[0m\u001b[0;36m2\u001b[0m\u001b[0;34m]\u001b[0m \u001b[0;34m=\u001b[0m \u001b[0;34m'z'\u001b[0m\u001b[0;34m\u001b[0m\u001b[0;34m\u001b[0m\u001b[0m\n\u001b[0m",
      "\u001b[0;31mTypeError\u001b[0m: 'str' object does not support item assignment"
     ]
    }
   ],
   "source": [
    "s[2] = 'z'"
   ]
  },
  {
   "cell_type": "code",
   "execution_count": 72,
   "id": "ee45ce6f",
   "metadata": {},
   "outputs": [],
   "source": [
    "t = (1,2,3,4,\"rajat\",5,6)"
   ]
  },
  {
   "cell_type": "code",
   "execution_count": 73,
   "id": "f1f98237",
   "metadata": {},
   "outputs": [
    {
     "data": {
      "text/plain": [
       "tuple"
      ]
     },
     "execution_count": 73,
     "metadata": {},
     "output_type": "execute_result"
    }
   ],
   "source": [
    "type(t)"
   ]
  },
  {
   "cell_type": "code",
   "execution_count": 75,
   "id": "f779dfbb",
   "metadata": {},
   "outputs": [
    {
     "data": {
      "text/plain": [
       "1"
      ]
     },
     "execution_count": 75,
     "metadata": {},
     "output_type": "execute_result"
    }
   ],
   "source": [
    "t[0]"
   ]
  },
  {
   "cell_type": "code",
   "execution_count": 76,
   "id": "9eaacb2d",
   "metadata": {},
   "outputs": [
    {
     "data": {
      "text/plain": [
       "(1, 2, 3)"
      ]
     },
     "execution_count": 76,
     "metadata": {},
     "output_type": "execute_result"
    }
   ],
   "source": [
    "t[0:3]"
   ]
  },
  {
   "cell_type": "code",
   "execution_count": 77,
   "id": "fbeb2224",
   "metadata": {},
   "outputs": [
    {
     "data": {
      "text/plain": [
       "(1, 3, 'rajat')"
      ]
     },
     "execution_count": 77,
     "metadata": {},
     "output_type": "execute_result"
    }
   ],
   "source": [
    "t[0:6:2]"
   ]
  },
  {
   "cell_type": "code",
   "execution_count": 81,
   "id": "10adba11",
   "metadata": {},
   "outputs": [
    {
     "data": {
      "text/plain": [
       "(6, 5, 'rajat', 4)"
      ]
     },
     "execution_count": 81,
     "metadata": {},
     "output_type": "execute_result"
    }
   ],
   "source": [
    "t[-1:-5:-1]"
   ]
  },
  {
   "cell_type": "code",
   "execution_count": 82,
   "id": "c3f1f1ad",
   "metadata": {},
   "outputs": [
    {
     "ename": "TypeError",
     "evalue": "'tuple' object does not support item assignment",
     "output_type": "error",
     "traceback": [
      "\u001b[0;31m---------------------------------------------------------------------------\u001b[0m",
      "\u001b[0;31mTypeError\u001b[0m                                 Traceback (most recent call last)",
      "\u001b[0;32m/var/folders/fv/7d20d0s14s5777d0m1bngrcw0000gp/T/ipykernel_9958/1871535924.py\u001b[0m in \u001b[0;36m<module>\u001b[0;34m\u001b[0m\n\u001b[0;32m----> 1\u001b[0;31m \u001b[0mt\u001b[0m\u001b[0;34m[\u001b[0m\u001b[0;36m2\u001b[0m\u001b[0;34m]\u001b[0m \u001b[0;34m=\u001b[0m \u001b[0;34m'rajat'\u001b[0m\u001b[0;34m\u001b[0m\u001b[0;34m\u001b[0m\u001b[0m\n\u001b[0m",
      "\u001b[0;31mTypeError\u001b[0m: 'tuple' object does not support item assignment"
     ]
    }
   ],
   "source": [
    "t[2] = 'rajat'"
   ]
  },
  {
   "cell_type": "code",
   "execution_count": 83,
   "id": "db5e605a",
   "metadata": {},
   "outputs": [],
   "source": [
    "t2 = ('a','b','c')"
   ]
  },
  {
   "cell_type": "code",
   "execution_count": 84,
   "id": "d4d79ede",
   "metadata": {},
   "outputs": [],
   "source": [
    "t = t+t2"
   ]
  },
  {
   "cell_type": "code",
   "execution_count": 85,
   "id": "f1e4fa92",
   "metadata": {},
   "outputs": [
    {
     "data": {
      "text/plain": [
       "(1, 2, 3, 4, 'rajat', 5, 6, 'a', 'b', 'c')"
      ]
     },
     "execution_count": 85,
     "metadata": {},
     "output_type": "execute_result"
    }
   ],
   "source": [
    "t"
   ]
  },
  {
   "cell_type": "code",
   "execution_count": 86,
   "id": "6f1f1bff",
   "metadata": {},
   "outputs": [],
   "source": [
    "t2 = list(t)"
   ]
  },
  {
   "cell_type": "code",
   "execution_count": 87,
   "id": "ba64bd25",
   "metadata": {},
   "outputs": [
    {
     "data": {
      "text/plain": [
       "[1, 2, 3, 4, 'rajat', 5, 6, 'a', 'b', 'c']"
      ]
     },
     "execution_count": 87,
     "metadata": {},
     "output_type": "execute_result"
    }
   ],
   "source": [
    "t2"
   ]
  },
  {
   "cell_type": "code",
   "execution_count": 92,
   "id": "e2eb6006",
   "metadata": {},
   "outputs": [
    {
     "data": {
      "text/plain": [
       "(1, 2, 3, 4, 'rajat', 5, 6, 'a', 'b', 'c')"
      ]
     },
     "execution_count": 92,
     "metadata": {},
     "output_type": "execute_result"
    }
   ],
   "source": [
    "tuple(t2)"
   ]
  },
  {
   "cell_type": "code",
   "execution_count": 89,
   "id": "7a4b3b3c",
   "metadata": {},
   "outputs": [
    {
     "data": {
      "text/plain": [
       "\"[1, 2, 3, 4, 'rajat', 5, 6, 'a', 'b', 'c']\""
      ]
     },
     "execution_count": 89,
     "metadata": {},
     "output_type": "execute_result"
    }
   ],
   "source": [
    "str(t2)"
   ]
  },
  {
   "cell_type": "code",
   "execution_count": 90,
   "id": "2f95c5cc",
   "metadata": {},
   "outputs": [
    {
     "data": {
      "text/plain": [
       "list"
      ]
     },
     "execution_count": 90,
     "metadata": {},
     "output_type": "execute_result"
    }
   ],
   "source": [
    "type(t2)"
   ]
  },
  {
   "cell_type": "code",
   "execution_count": 97,
   "id": "9724673a",
   "metadata": {},
   "outputs": [],
   "source": [
    "d = {}"
   ]
  },
  {
   "cell_type": "code",
   "execution_count": 98,
   "id": "95764182",
   "metadata": {},
   "outputs": [
    {
     "data": {
      "text/plain": [
       "dict"
      ]
     },
     "execution_count": 98,
     "metadata": {},
     "output_type": "execute_result"
    }
   ],
   "source": [
    "type(d)"
   ]
  },
  {
   "cell_type": "code",
   "execution_count": 108,
   "id": "843d44ee",
   "metadata": {},
   "outputs": [],
   "source": [
    "d1 = {1:2,3:4,'name':'rajat'}"
   ]
  },
  {
   "cell_type": "code",
   "execution_count": 105,
   "id": "d96498ca",
   "metadata": {},
   "outputs": [
    {
     "data": {
      "text/plain": [
       "'rajat'"
      ]
     },
     "execution_count": 105,
     "metadata": {},
     "output_type": "execute_result"
    }
   ],
   "source": [
    "d1['name']"
   ]
  },
  {
   "cell_type": "code",
   "execution_count": 101,
   "id": "736f51d7",
   "metadata": {},
   "outputs": [],
   "source": [
    "d2 = {1,2,3}"
   ]
  },
  {
   "cell_type": "code",
   "execution_count": 102,
   "id": "df93dff0",
   "metadata": {},
   "outputs": [
    {
     "ename": "TypeError",
     "evalue": "'set' object is not subscriptable",
     "output_type": "error",
     "traceback": [
      "\u001b[0;31m---------------------------------------------------------------------------\u001b[0m",
      "\u001b[0;31mTypeError\u001b[0m                                 Traceback (most recent call last)",
      "\u001b[0;32m/var/folders/fv/7d20d0s14s5777d0m1bngrcw0000gp/T/ipykernel_9958/97620530.py\u001b[0m in \u001b[0;36m<module>\u001b[0;34m\u001b[0m\n\u001b[0;32m----> 1\u001b[0;31m \u001b[0md2\u001b[0m\u001b[0;34m[\u001b[0m\u001b[0;36m1\u001b[0m\u001b[0;34m]\u001b[0m\u001b[0;34m\u001b[0m\u001b[0;34m\u001b[0m\u001b[0m\n\u001b[0m",
      "\u001b[0;31mTypeError\u001b[0m: 'set' object is not subscriptable"
     ]
    }
   ],
   "source": [
    "d2[1]"
   ]
  },
  {
   "cell_type": "code",
   "execution_count": 111,
   "id": "2232752d",
   "metadata": {},
   "outputs": [],
   "source": [
    "d3 = {'name':'rajat', 'l1':[1,2,3,4],'t1':(4,5,6,7,8)}"
   ]
  },
  {
   "cell_type": "code",
   "execution_count": 112,
   "id": "5c466830",
   "metadata": {},
   "outputs": [
    {
     "data": {
      "text/plain": [
       "{'name': 'rajat', 'l1': [1, 2, 3, 4], 't1': (4, 5, 6, 7, 8)}"
      ]
     },
     "execution_count": 112,
     "metadata": {},
     "output_type": "execute_result"
    }
   ],
   "source": [
    "d3"
   ]
  },
  {
   "cell_type": "code",
   "execution_count": 114,
   "id": "d15ee883",
   "metadata": {},
   "outputs": [
    {
     "data": {
      "text/plain": [
       "7"
      ]
     },
     "execution_count": 114,
     "metadata": {},
     "output_type": "execute_result"
    }
   ],
   "source": [
    "d3['t1'][3]"
   ]
  },
  {
   "cell_type": "code",
   "execution_count": 115,
   "id": "633d6a48",
   "metadata": {},
   "outputs": [
    {
     "data": {
      "text/plain": [
       "True"
      ]
     },
     "execution_count": 115,
     "metadata": {},
     "output_type": "execute_result"
    }
   ],
   "source": [
    "8 in d3['t1']"
   ]
  },
  {
   "cell_type": "code",
   "execution_count": 116,
   "id": "2a3639e6",
   "metadata": {},
   "outputs": [],
   "source": [
    "d4 = {\"name\":\"rajat\", 'con':\"ban\", 'name':'jaiswal'}"
   ]
  },
  {
   "cell_type": "code",
   "execution_count": 117,
   "id": "63c38950",
   "metadata": {},
   "outputs": [
    {
     "data": {
      "text/plain": [
       "{'name': 'jaiswal', 'con': 'ban'}"
      ]
     },
     "execution_count": 117,
     "metadata": {},
     "output_type": "execute_result"
    }
   ],
   "source": [
    "d4"
   ]
  },
  {
   "cell_type": "code",
   "execution_count": 119,
   "id": "9a1dcd45",
   "metadata": {},
   "outputs": [],
   "source": [
    "d4[\"ne\"]=\"newvalue\""
   ]
  },
  {
   "cell_type": "code",
   "execution_count": 120,
   "id": "145c6310",
   "metadata": {},
   "outputs": [
    {
     "data": {
      "text/plain": [
       "{'name': 'jaiswal', 'con': 'ban', 'ne': 'newvalue'}"
      ]
     },
     "execution_count": 120,
     "metadata": {},
     "output_type": "execute_result"
    }
   ],
   "source": [
    "d4"
   ]
  },
  {
   "cell_type": "code",
   "execution_count": 122,
   "id": "12a83954",
   "metadata": {},
   "outputs": [],
   "source": [
    "d4['k']=d3"
   ]
  },
  {
   "cell_type": "code",
   "execution_count": 123,
   "id": "ba98b781",
   "metadata": {},
   "outputs": [
    {
     "data": {
      "text/plain": [
       "{'name': 'jaiswal',\n",
       " 'con': 'ban',\n",
       " 'ne': 'newvalue',\n",
       " 'k': {'name': 'rajat', 'l1': [1, 2, 3, 4], 't1': (4, 5, 6, 7, 8)}}"
      ]
     },
     "execution_count": 123,
     "metadata": {},
     "output_type": "execute_result"
    }
   ],
   "source": [
    "d4"
   ]
  },
  {
   "cell_type": "code",
   "execution_count": 129,
   "id": "b2f9f8f5",
   "metadata": {},
   "outputs": [
    {
     "data": {
      "text/plain": [
       "(4, 5, 6, 7, 8)"
      ]
     },
     "execution_count": 129,
     "metadata": {},
     "output_type": "execute_result"
    }
   ],
   "source": [
    "d4['k']['t1']"
   ]
  },
  {
   "cell_type": "code",
   "execution_count": 127,
   "id": "407634e6",
   "metadata": {},
   "outputs": [],
   "source": [
    "d6 = {(1,2,3):\"im tuple\"}"
   ]
  },
  {
   "cell_type": "code",
   "execution_count": 128,
   "id": "604b641f",
   "metadata": {},
   "outputs": [
    {
     "data": {
      "text/plain": [
       "'im tuple'"
      ]
     },
     "execution_count": 128,
     "metadata": {},
     "output_type": "execute_result"
    }
   ],
   "source": [
    "d6[(1,2,3)]"
   ]
  },
  {
   "cell_type": "code",
   "execution_count": 130,
   "id": "a705c0d1",
   "metadata": {},
   "outputs": [
    {
     "ename": "SyntaxError",
     "evalue": "invalid syntax (1472202013.py, line 1)",
     "output_type": "error",
     "traceback": [
      "\u001b[0;36m  File \u001b[0;32m\"/var/folders/fv/7d20d0s14s5777d0m1bngrcw0000gp/T/ipykernel_9958/1472202013.py\"\u001b[0;36m, line \u001b[0;32m1\u001b[0m\n\u001b[0;31m    d7 = {{3:4}}:\"dictor\"\u001b[0m\n\u001b[0m                ^\u001b[0m\n\u001b[0;31mSyntaxError\u001b[0m\u001b[0;31m:\u001b[0m invalid syntax\n"
     ]
    }
   ],
   "source": [
    "d7 = {{3:4}}:\"dictor\""
   ]
  },
  {
   "cell_type": "code",
   "execution_count": 131,
   "id": "54eebc29",
   "metadata": {},
   "outputs": [
    {
     "ename": "TypeError",
     "evalue": "unsupported operand type(s) for +: 'set' and 'dict'",
     "output_type": "error",
     "traceback": [
      "\u001b[0;31m---------------------------------------------------------------------------\u001b[0m",
      "\u001b[0;31mTypeError\u001b[0m                                 Traceback (most recent call last)",
      "\u001b[0;32m/var/folders/fv/7d20d0s14s5777d0m1bngrcw0000gp/T/ipykernel_9958/1153330958.py\u001b[0m in \u001b[0;36m<module>\u001b[0;34m\u001b[0m\n\u001b[0;32m----> 1\u001b[0;31m \u001b[0md2\u001b[0m \u001b[0;34m+\u001b[0m\u001b[0md3\u001b[0m\u001b[0;34m\u001b[0m\u001b[0;34m\u001b[0m\u001b[0m\n\u001b[0m",
      "\u001b[0;31mTypeError\u001b[0m: unsupported operand type(s) for +: 'set' and 'dict'"
     ]
    }
   ],
   "source": [
    "d2 +d3"
   ]
  },
  {
   "cell_type": "code",
   "execution_count": 132,
   "id": "8dee9195",
   "metadata": {},
   "outputs": [
    {
     "data": {
      "text/plain": [
       "dict_keys(['name', 'l1', 't1'])"
      ]
     },
     "execution_count": 132,
     "metadata": {},
     "output_type": "execute_result"
    }
   ],
   "source": [
    "d3.keys()"
   ]
  },
  {
   "cell_type": "code",
   "execution_count": 133,
   "id": "329516b6",
   "metadata": {},
   "outputs": [
    {
     "data": {
      "text/plain": [
       "dict_values(['jaiswal', 'ban', 'newvalue', {'name': 'rajat', 'l1': [1, 2, 3, 4], 't1': (4, 5, 6, 7, 8)}])"
      ]
     },
     "execution_count": 133,
     "metadata": {},
     "output_type": "execute_result"
    }
   ],
   "source": [
    "d4.values()"
   ]
  },
  {
   "cell_type": "code",
   "execution_count": 134,
   "id": "bbcaa55a",
   "metadata": {},
   "outputs": [
    {
     "data": {
      "text/plain": [
       "dict_items([('name', 'jaiswal'), ('con', 'ban'), ('ne', 'newvalue'), ('k', {'name': 'rajat', 'l1': [1, 2, 3, 4], 't1': (4, 5, 6, 7, 8)})])"
      ]
     },
     "execution_count": 134,
     "metadata": {},
     "output_type": "execute_result"
    }
   ],
   "source": [
    "d4.items()"
   ]
  },
  {
   "cell_type": "code",
   "execution_count": 135,
   "id": "635996fd",
   "metadata": {},
   "outputs": [],
   "source": [
    "s = {1,2,3,4,5,6}"
   ]
  },
  {
   "cell_type": "code",
   "execution_count": 136,
   "id": "a102f892",
   "metadata": {},
   "outputs": [
    {
     "data": {
      "text/plain": [
       "set"
      ]
     },
     "execution_count": 136,
     "metadata": {},
     "output_type": "execute_result"
    }
   ],
   "source": [
    "type(s)"
   ]
  },
  {
   "cell_type": "code",
   "execution_count": 137,
   "id": "fa80c18a",
   "metadata": {},
   "outputs": [],
   "source": [
    "s = {1,1,1,2,4,5,6,6,7,7,7,8,8,9}"
   ]
  },
  {
   "cell_type": "code",
   "execution_count": 138,
   "id": "2aa32f64",
   "metadata": {},
   "outputs": [
    {
     "data": {
      "text/plain": [
       "{1, 2, 4, 5, 6, 7, 8, 9}"
      ]
     },
     "execution_count": 138,
     "metadata": {},
     "output_type": "execute_result"
    }
   ],
   "source": [
    "s"
   ]
  },
  {
   "cell_type": "code",
   "execution_count": 139,
   "id": "e0e7c8d2",
   "metadata": {},
   "outputs": [],
   "source": [
    "l4 =[1,2,3,4,4,5,5,5,6,7,7]"
   ]
  },
  {
   "cell_type": "code",
   "execution_count": 140,
   "id": "7f87847f",
   "metadata": {},
   "outputs": [
    {
     "data": {
      "text/plain": [
       "[1, 2, 3, 4, 4, 5, 5, 5, 6, 7, 7]"
      ]
     },
     "execution_count": 140,
     "metadata": {},
     "output_type": "execute_result"
    }
   ],
   "source": [
    "l4"
   ]
  },
  {
   "cell_type": "code",
   "execution_count": 142,
   "id": "94414e6d",
   "metadata": {},
   "outputs": [],
   "source": [
    "l4 = list(set(l4))"
   ]
  },
  {
   "cell_type": "code",
   "execution_count": 143,
   "id": "4dec1af4",
   "metadata": {},
   "outputs": [
    {
     "data": {
      "text/plain": [
       "[1, 2, 3, 4, 5, 6, 7]"
      ]
     },
     "execution_count": 143,
     "metadata": {},
     "output_type": "execute_result"
    }
   ],
   "source": [
    "l4"
   ]
  },
  {
   "cell_type": "code",
   "execution_count": 144,
   "id": "8620233b",
   "metadata": {},
   "outputs": [],
   "source": [
    "s.remove(4)"
   ]
  },
  {
   "cell_type": "code",
   "execution_count": 145,
   "id": "857821a8",
   "metadata": {},
   "outputs": [
    {
     "data": {
      "text/plain": [
       "{1, 2, 5, 6, 7, 8, 9}"
      ]
     },
     "execution_count": 145,
     "metadata": {},
     "output_type": "execute_result"
    }
   ],
   "source": [
    "s"
   ]
  },
  {
   "cell_type": "code",
   "execution_count": 146,
   "id": "ac146e3c",
   "metadata": {},
   "outputs": [
    {
     "ename": "KeyError",
     "evalue": "4",
     "output_type": "error",
     "traceback": [
      "\u001b[0;31m---------------------------------------------------------------------------\u001b[0m",
      "\u001b[0;31mKeyError\u001b[0m                                  Traceback (most recent call last)",
      "\u001b[0;32m/var/folders/fv/7d20d0s14s5777d0m1bngrcw0000gp/T/ipykernel_9958/3348318046.py\u001b[0m in \u001b[0;36m<module>\u001b[0;34m\u001b[0m\n\u001b[0;32m----> 1\u001b[0;31m \u001b[0ms\u001b[0m\u001b[0;34m.\u001b[0m\u001b[0mremove\u001b[0m\u001b[0;34m(\u001b[0m\u001b[0;36m4\u001b[0m\u001b[0;34m)\u001b[0m\u001b[0;34m\u001b[0m\u001b[0;34m\u001b[0m\u001b[0m\n\u001b[0m",
      "\u001b[0;31mKeyError\u001b[0m: 4"
     ]
    }
   ],
   "source": [
    "s.remove(4)"
   ]
  },
  {
   "cell_type": "code",
   "execution_count": 147,
   "id": "f94411e1",
   "metadata": {},
   "outputs": [],
   "source": [
    "s.discard(4)"
   ]
  },
  {
   "cell_type": "code",
   "execution_count": null,
   "id": "0b04aef0",
   "metadata": {},
   "outputs": [],
   "source": []
  }
 ],
 "metadata": {
  "kernelspec": {
   "display_name": "Python 3 (ipykernel)",
   "language": "python",
   "name": "python3"
  },
  "language_info": {
   "codemirror_mode": {
    "name": "ipython",
    "version": 3
   },
   "file_extension": ".py",
   "mimetype": "text/x-python",
   "name": "python",
   "nbconvert_exporter": "python",
   "pygments_lexer": "ipython3",
   "version": "3.9.7"
  }
 },
 "nbformat": 4,
 "nbformat_minor": 5
}
