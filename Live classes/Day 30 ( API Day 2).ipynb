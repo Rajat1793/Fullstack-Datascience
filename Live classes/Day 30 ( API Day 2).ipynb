{
 "cells": [
  {
   "cell_type": "code",
   "execution_count": 1,
   "id": "a9d0df14",
   "metadata": {},
   "outputs": [],
   "source": [
    "# fetching data from the mongodb using the api"
   ]
  },
  {
   "cell_type": "code",
   "execution_count": null,
   "id": "6747e6ba",
   "metadata": {},
   "outputs": [],
   "source": [
    "from flask import Flask, request, jsonify\n",
    "import pymongo\n",
    "from pymongo import collection\n",
    "\n",
    "url = \"mongodb://localhost:27017/\"\n",
    "db_name = \"student\"\n",
    "client = pymongo.MongoClient(url)\n",
    "dataBase = client[db_name]\n",
    "collection = dataBase[\"test1\"]\n",
    "\n",
    "# app is object for the class flask\n",
    "app = Flask(__name__)\n",
    "\n",
    "\n",
    "@app.route('/showdata', methods=['GET'])\n",
    "def showData():\n",
    "    if request.method == 'GET':\n",
    "        # list all the values present in mongo database\n",
    "        all_record = collection.find()\n",
    "        l = []\n",
    "        for index, record in enumerate(all_record):\n",
    "            l.append(f\"{index}: {record}\")\n",
    "        return l\n",
    "\n",
    "\n",
    "@app.route('/insertrecord', methods=['POST'])\n",
    "def insertData():\n",
    "    if request.method == 'POST':\n",
    "        comapnyName = request.json[\"companyName\"]\n",
    "        name = request.json[\"name\"]\n",
    "        job = request.json[\"job\"]\n",
    "        dob = request.json[\"dob\"]\n",
    "        # record = {\"'companyName': %s, 'name': %s, 'job': %s, 'dob': %s\", (comapnyName, name, job, dob,)}\n",
    "        record = {comapnyName: comapnyName, name: name, job: job, dob: dob}\n",
    "        collection.insert_one(record)\n",
    "        return \"Inserted successfully\"\n",
    "\n",
    "@app.route('/updaterecord',methods=['POST'])\n",
    "def updateRecord():\n",
    "    if request.method == 'POST':\n",
    "        companyName = request.json\n",
    "\n",
    "@app.route('/deleterecord',methods =['DELETE'])\n",
    "def deleteRecord():\n",
    "    if request.method == 'DELETE':\n",
    "        name = request.json['name']\n",
    "\n",
    "if __name__ == '__main__':\n",
    "    app.run()\n"
   ]
  },
  {
   "cell_type": "code",
   "execution_count": 2,
   "id": "6a23000d",
   "metadata": {},
   "outputs": [],
   "source": [
    "# getting the data from web using the get "
   ]
  },
  {
   "cell_type": "code",
   "execution_count": null,
   "id": "dab8d986",
   "metadata": {},
   "outputs": [],
   "source": [
    "from flask import Flask, request\n",
    "import mysql.connector as conn\n",
    "\n",
    "mydb = conn.connect(host=\"localhost\", user=\"root\", password=\"rootroot\")  # to establish the databases\n",
    "cursor = mydb.cursor()\n",
    "\n",
    "app = Flask(__name__)\n",
    "\n",
    "\n",
    "@app.route('/testget')\n",
    "def test():\n",
    "    # passing the data in address in unsecured way.. its a get\n",
    "    # get_name = request.args.get(\"get_name\")\n",
    "    # get_number = request.args.get(\"get_number\")\n",
    "    get_database = request.args.get(\"get_database\")\n",
    "    get_table= request.args.get(\"get_table\")\n",
    "    # return \"<h1>this is just get function test, lets see what it can do when i pass get argument in address name:{} number:{}</h1>\".format(get_name, get_number)\n",
    "    cursor.execute(f\"Select * from {get_database}.{get_table}\")\n",
    "    return \"<h1>Data fetched from the database \\n {}</h1>\".format(cursor.fetchall())\n",
    "\n",
    "if __name__ == '__main__':\n",
    "    app.run(port=5001)\n"
   ]
  }
 ],
 "metadata": {
  "kernelspec": {
   "display_name": "Python 3 (ipykernel)",
   "language": "python",
   "name": "python3"
  },
  "language_info": {
   "codemirror_mode": {
    "name": "ipython",
    "version": 3
   },
   "file_extension": ".py",
   "mimetype": "text/x-python",
   "name": "python",
   "nbconvert_exporter": "python",
   "pygments_lexer": "ipython3",
   "version": "3.9.12"
  }
 },
 "nbformat": 4,
 "nbformat_minor": 5
}
