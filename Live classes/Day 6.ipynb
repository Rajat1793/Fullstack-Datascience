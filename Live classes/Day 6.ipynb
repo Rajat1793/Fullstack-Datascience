{
 "cells": [
  {
   "cell_type": "code",
   "execution_count": 2,
   "id": "e7b1a743",
   "metadata": {},
   "outputs": [
    {
     "name": "stdout",
     "output_type": "stream",
     "text": [
      "1\n",
      "2\n",
      "3\n",
      "4\n",
      "5\n",
      "6\n",
      "7\n",
      "8\n",
      "9\n",
      "10\n"
     ]
    }
   ],
   "source": [
    "a =1 \n",
    "b = 10\n",
    "while a<=b:\n",
    "    print(a)\n",
    "    a +=1"
   ]
  },
  {
   "cell_type": "code",
   "execution_count": 3,
   "id": "a7b4d791",
   "metadata": {},
   "outputs": [
    {
     "name": "stdout",
     "output_type": "stream",
     "text": [
      "outside while\n"
     ]
    }
   ],
   "source": [
    "while a<=b :\n",
    "    print(a)\n",
    "    a =a + 2\n",
    "else:\n",
    "    print(\"outside while\")"
   ]
  },
  {
   "cell_type": "code",
   "execution_count": 4,
   "id": "358b4e8a",
   "metadata": {},
   "outputs": [
    {
     "name": "stdout",
     "output_type": "stream",
     "text": [
      "1\n",
      "2\n",
      "3\n",
      "4\n",
      "5\n"
     ]
    }
   ],
   "source": [
    "a =1\n",
    "b = 10\n",
    "while a<=b :\n",
    "    print(a)\n",
    "    if a == 5:\n",
    "        break\n",
    "    a =a +1\n",
    "else:\n",
    "    print(\"outside while\")"
   ]
  },
  {
   "cell_type": "code",
   "execution_count": 6,
   "id": "7c77d138",
   "metadata": {},
   "outputs": [
    {
     "name": "stdout",
     "output_type": "stream",
     "text": [
      "2\n",
      "3\n",
      "4\n",
      "5\n",
      "6\n",
      "7\n",
      "8\n",
      "9\n",
      "10\n"
     ]
    }
   ],
   "source": [
    "a =1\n",
    "b = 10\n",
    "while a< b :\n",
    "    a += 1\n",
    "    if a == 5:\n",
    "        pass\n",
    "    print(a)\n"
   ]
  },
  {
   "cell_type": "code",
   "execution_count": 8,
   "id": "0d482377",
   "metadata": {},
   "outputs": [],
   "source": [
    "l = [1, 2, 3, 4, 64, 63]"
   ]
  },
  {
   "cell_type": "code",
   "execution_count": 9,
   "id": "e1aeab45",
   "metadata": {},
   "outputs": [
    {
     "name": "stdout",
     "output_type": "stream",
     "text": [
      "1\n",
      "2\n",
      "3\n",
      "4\n",
      "64\n",
      "63\n"
     ]
    }
   ],
   "source": [
    "i = 0\n",
    "while i < len(l):\n",
    "    print(l[i])\n",
    "    i +=1\n",
    "    "
   ]
  },
  {
   "cell_type": "code",
   "execution_count": 18,
   "id": "768d1db4",
   "metadata": {},
   "outputs": [],
   "source": [
    "t = (6, 3, 4, 5, 6, 7, 8, 9)"
   ]
  },
  {
   "cell_type": "code",
   "execution_count": 19,
   "id": "4b42a491",
   "metadata": {},
   "outputs": [
    {
     "name": "stdout",
     "output_type": "stream",
     "text": [
      "4\n",
      "5\n"
     ]
    }
   ],
   "source": [
    "i = 1\n",
    "while i < len(t)-1:\n",
    "    if t[i] == 6 or t[i] == 7:\n",
    "        print(i)\n",
    "    i +=1"
   ]
  },
  {
   "cell_type": "code",
   "execution_count": 20,
   "id": "03e2a932",
   "metadata": {},
   "outputs": [
    {
     "name": "stdout",
     "output_type": "stream",
     "text": [
      "-3\n",
      "-4\n",
      "-8\n"
     ]
    }
   ],
   "source": [
    "i = -1\n",
    "while i >= -len(t):\n",
    "    if t[i] == 6 or t[i] == 7:\n",
    "        print(i)\n",
    "    i -=1"
   ]
  },
  {
   "cell_type": "code",
   "execution_count": 6,
   "id": "57215d8f",
   "metadata": {},
   "outputs": [],
   "source": [
    "d = { 'k1':'rajat', 'k2': [1, 2,3 , 5], 'k3':(2, 4, 5, 6,7)}"
   ]
  },
  {
   "cell_type": "code",
   "execution_count": 11,
   "id": "dcd57cea",
   "metadata": {},
   "outputs": [
    {
     "name": "stdout",
     "output_type": "stream",
     "text": [
      "rajat\n",
      "[1, 2, 3, 5]\n",
      "(2, 4, 5, 6, 7)\n"
     ]
    }
   ],
   "source": [
    "##extract values from dict using the while loop\n",
    "i = 0\n",
    "b = list(d.keys())\n",
    "while i < len(d):\n",
    "    print(d[b[i]])\n",
    "    i +=1\n",
    "    "
   ]
  },
  {
   "cell_type": "code",
   "execution_count": 12,
   "id": "fa9412ec",
   "metadata": {},
   "outputs": [
    {
     "name": "stdout",
     "output_type": "stream",
     "text": [
      "[('k1', 'rajat'), ('k2', [1, 2, 3, 5]), ('k3', (2, 4, 5, 6, 7))]\n"
     ]
    }
   ],
   "source": [
    "b = list(d.items())\n",
    "print(b)"
   ]
  },
  {
   "cell_type": "code",
   "execution_count": 14,
   "id": "46d67e65",
   "metadata": {},
   "outputs": [
    {
     "name": "stdout",
     "output_type": "stream",
     "text": [
      "['k1', 'k2', 'k3']\n"
     ]
    }
   ],
   "source": [
    "b = list(d.keys())\n",
    "print(b)"
   ]
  },
  {
   "cell_type": "code",
   "execution_count": 15,
   "id": "f91acfce",
   "metadata": {},
   "outputs": [
    {
     "name": "stdout",
     "output_type": "stream",
     "text": [
      "['rajat', [1, 2, 3, 5], (2, 4, 5, 6, 7)]\n"
     ]
    }
   ],
   "source": [
    "b = list(d.values())\n",
    "print(b)"
   ]
  },
  {
   "cell_type": "code",
   "execution_count": 16,
   "id": "a7878302",
   "metadata": {},
   "outputs": [
    {
     "name": "stdout",
     "output_type": "stream",
     "text": [
      "hello\n"
     ]
    }
   ],
   "source": [
    "def test():\n",
    "    print(\"hello\")\n",
    "    \n",
    "test()"
   ]
  },
  {
   "cell_type": "code",
   "execution_count": 17,
   "id": "9b30a97d",
   "metadata": {},
   "outputs": [
    {
     "data": {
      "text/plain": [
       "function"
      ]
     },
     "execution_count": 17,
     "metadata": {},
     "output_type": "execute_result"
    }
   ],
   "source": [
    "type(test)"
   ]
  },
  {
   "cell_type": "code",
   "execution_count": 18,
   "id": "15d4a656",
   "metadata": {},
   "outputs": [
    {
     "name": "stdout",
     "output_type": "stream",
     "text": [
      "hello\n"
     ]
    },
    {
     "data": {
      "text/plain": [
       "NoneType"
      ]
     },
     "execution_count": 18,
     "metadata": {},
     "output_type": "execute_result"
    }
   ],
   "source": [
    "type(test())"
   ]
  },
  {
   "cell_type": "code",
   "execution_count": 19,
   "id": "decf4339",
   "metadata": {},
   "outputs": [
    {
     "data": {
      "text/plain": [
       "'hello'"
      ]
     },
     "execution_count": 19,
     "metadata": {},
     "output_type": "execute_result"
    }
   ],
   "source": [
    "def test1():\n",
    "    return \"hello\"\n",
    "\n",
    "test1()"
   ]
  },
  {
   "cell_type": "code",
   "execution_count": 20,
   "id": "941fb305",
   "metadata": {},
   "outputs": [
    {
     "data": {
      "text/plain": [
       "str"
      ]
     },
     "execution_count": 20,
     "metadata": {},
     "output_type": "execute_result"
    }
   ],
   "source": [
    "type(test1())"
   ]
  },
  {
   "cell_type": "code",
   "execution_count": 21,
   "id": "193275d5",
   "metadata": {},
   "outputs": [
    {
     "data": {
      "text/plain": [
       "'helloworld'"
      ]
     },
     "execution_count": 21,
     "metadata": {},
     "output_type": "execute_result"
    }
   ],
   "source": [
    "test1() + \"world\""
   ]
  },
  {
   "cell_type": "code",
   "execution_count": 23,
   "id": "0a7c33cf",
   "metadata": {},
   "outputs": [
    {
     "data": {
      "text/plain": [
       "(1, 3, 4, 'adad', [2, 4, 4, 5])"
      ]
     },
     "execution_count": 23,
     "metadata": {},
     "output_type": "execute_result"
    }
   ],
   "source": [
    "def test2():\n",
    "    return 1, 3, 4, \"adad\", [2,4,4,5]\n",
    "\n",
    "test2()"
   ]
  },
  {
   "cell_type": "code",
   "execution_count": 25,
   "id": "8ba3f937",
   "metadata": {},
   "outputs": [
    {
     "data": {
      "text/plain": [
       "tuple"
      ]
     },
     "execution_count": 25,
     "metadata": {},
     "output_type": "execute_result"
    }
   ],
   "source": [
    "type(test2())"
   ]
  },
  {
   "cell_type": "code",
   "execution_count": 26,
   "id": "ef9f0d51",
   "metadata": {},
   "outputs": [],
   "source": [
    "a, b, c =10, 20, 30"
   ]
  },
  {
   "cell_type": "code",
   "execution_count": 28,
   "id": "4eed16f6",
   "metadata": {},
   "outputs": [],
   "source": [
    "def test3():\n",
    "    return 40\n",
    "\n"
   ]
  },
  {
   "cell_type": "code",
   "execution_count": 30,
   "id": "2b3be4fe",
   "metadata": {},
   "outputs": [
    {
     "ename": "TypeError",
     "evalue": "cannot unpack non-iterable int object",
     "output_type": "error",
     "traceback": [
      "\u001b[0;31m---------------------------------------------------------------------------\u001b[0m",
      "\u001b[0;31mTypeError\u001b[0m                                 Traceback (most recent call last)",
      "\u001b[0;32m/var/folders/fv/7d20d0s14s5777d0m1bngrcw0000gp/T/ipykernel_34249/2796993720.py\u001b[0m in \u001b[0;36m<module>\u001b[0;34m\u001b[0m\n\u001b[0;32m----> 1\u001b[0;31m \u001b[0ma\u001b[0m\u001b[0;34m,\u001b[0m \u001b[0mb\u001b[0m\u001b[0;34m,\u001b[0m \u001b[0mc\u001b[0m\u001b[0;34m,\u001b[0m \u001b[0md\u001b[0m \u001b[0;34m=\u001b[0m \u001b[0mtest3\u001b[0m\u001b[0;34m(\u001b[0m\u001b[0;34m)\u001b[0m\u001b[0;34m\u001b[0m\u001b[0;34m\u001b[0m\u001b[0m\n\u001b[0m",
      "\u001b[0;31mTypeError\u001b[0m: cannot unpack non-iterable int object"
     ]
    }
   ],
   "source": [
    "a, b, c, d = test3()\n"
   ]
  },
  {
   "cell_type": "code",
   "execution_count": 33,
   "id": "823a98b5",
   "metadata": {},
   "outputs": [
    {
     "data": {
      "text/plain": [
       "(1, 3, 4, 'adad', [2, 4, 4, 5])"
      ]
     },
     "execution_count": 33,
     "metadata": {},
     "output_type": "execute_result"
    }
   ],
   "source": [
    "test2()"
   ]
  },
  {
   "cell_type": "code",
   "execution_count": 34,
   "id": "ad6f8f4e",
   "metadata": {},
   "outputs": [
    {
     "ename": "ValueError",
     "evalue": "too many values to unpack (expected 4)",
     "output_type": "error",
     "traceback": [
      "\u001b[0;31m---------------------------------------------------------------------------\u001b[0m",
      "\u001b[0;31mValueError\u001b[0m                                Traceback (most recent call last)",
      "\u001b[0;32m/var/folders/fv/7d20d0s14s5777d0m1bngrcw0000gp/T/ipykernel_34249/3736917834.py\u001b[0m in \u001b[0;36m<module>\u001b[0;34m\u001b[0m\n\u001b[0;32m----> 1\u001b[0;31m \u001b[0m_\u001b[0m\u001b[0;34m,\u001b[0m\u001b[0m_\u001b[0m\u001b[0;34m,\u001b[0m\u001b[0m_\u001b[0m\u001b[0;34m,\u001b[0m\u001b[0mg\u001b[0m \u001b[0;34m=\u001b[0m \u001b[0mtest2\u001b[0m\u001b[0;34m(\u001b[0m\u001b[0;34m)\u001b[0m\u001b[0;34m\u001b[0m\u001b[0;34m\u001b[0m\u001b[0m\n\u001b[0m",
      "\u001b[0;31mValueError\u001b[0m: too many values to unpack (expected 4)"
     ]
    }
   ],
   "source": [
    "_,_,_,g = test2()"
   ]
  },
  {
   "cell_type": "code",
   "execution_count": 37,
   "id": "38509c53",
   "metadata": {},
   "outputs": [],
   "source": [
    "def test4():\n",
    "    a =1\n",
    "    b = 10\n",
    "    while a< b :\n",
    "        a += 1\n",
    "        if a == 5:\n",
    "            pass\n",
    "        print(a)\n"
   ]
  },
  {
   "cell_type": "code",
   "execution_count": 38,
   "id": "a91bcb42",
   "metadata": {},
   "outputs": [
    {
     "name": "stdout",
     "output_type": "stream",
     "text": [
      "2\n",
      "3\n",
      "4\n",
      "5\n",
      "6\n",
      "7\n",
      "8\n",
      "9\n",
      "10\n"
     ]
    }
   ],
   "source": [
    "test4()"
   ]
  },
  {
   "cell_type": "code",
   "execution_count": 39,
   "id": "c0373174",
   "metadata": {},
   "outputs": [],
   "source": [
    "def test5(a, b):\n",
    "    while a< b :\n",
    "        a += 1\n",
    "        if a == 5:\n",
    "            pass\n",
    "        print(a)"
   ]
  },
  {
   "cell_type": "code",
   "execution_count": 40,
   "id": "3265d59f",
   "metadata": {},
   "outputs": [
    {
     "name": "stdout",
     "output_type": "stream",
     "text": [
      "2\n",
      "3\n",
      "4\n",
      "5\n",
      "6\n"
     ]
    }
   ],
   "source": [
    "test5(1, 6)"
   ]
  },
  {
   "cell_type": "code",
   "execution_count": 41,
   "id": "69743349",
   "metadata": {},
   "outputs": [],
   "source": [
    "def test5(a, b):\n",
    "    while a<=b :\n",
    "        print(a)\n",
    "        return(a)\n",
    "        a =a + 2\n",
    "    else:\n",
    "        print(\"outside while\")"
   ]
  },
  {
   "cell_type": "code",
   "execution_count": 42,
   "id": "ee572754",
   "metadata": {},
   "outputs": [
    {
     "name": "stdout",
     "output_type": "stream",
     "text": [
      "outside while\n"
     ]
    }
   ],
   "source": [
    "test5(23,1)"
   ]
  },
  {
   "cell_type": "code",
   "execution_count": 43,
   "id": "bf43804f",
   "metadata": {},
   "outputs": [
    {
     "name": "stdout",
     "output_type": "stream",
     "text": [
      "1\n"
     ]
    },
    {
     "data": {
      "text/plain": [
       "1"
      ]
     },
     "execution_count": 43,
     "metadata": {},
     "output_type": "execute_result"
    }
   ],
   "source": [
    "test5(1,5)"
   ]
  },
  {
   "cell_type": "code",
   "execution_count": 46,
   "id": "d661993b",
   "metadata": {},
   "outputs": [],
   "source": [
    "def test6(a, b):\n",
    "    l = []\n",
    "    while a<=b :\n",
    "        l.append(a)\n",
    "        a =a + 2\n",
    "    else:\n",
    "        print(\"outside while\")\n",
    "    return l"
   ]
  },
  {
   "cell_type": "code",
   "execution_count": 47,
   "id": "82476fa6",
   "metadata": {},
   "outputs": [
    {
     "name": "stdout",
     "output_type": "stream",
     "text": [
      "outside while\n"
     ]
    },
    {
     "data": {
      "text/plain": [
       "[1, 3, 5]"
      ]
     },
     "execution_count": 47,
     "metadata": {},
     "output_type": "execute_result"
    }
   ],
   "source": [
    "test6(1, 5)"
   ]
  },
  {
   "cell_type": "code",
   "execution_count": 50,
   "id": "79cbcddc",
   "metadata": {},
   "outputs": [],
   "source": [
    "l = [1,3, 3,3, 3, 4, 6, 7, [2, 4, 5, 6,6 ,6, 2], 'rajat']"
   ]
  },
  {
   "cell_type": "code",
   "execution_count": 51,
   "id": "b4358499",
   "metadata": {},
   "outputs": [],
   "source": [
    "l1 =[]\n",
    "for i in l:\n",
    "    if type(i) == int:\n",
    "        l1.append(i)"
   ]
  },
  {
   "cell_type": "code",
   "execution_count": 52,
   "id": "04b06614",
   "metadata": {},
   "outputs": [
    {
     "data": {
      "text/plain": [
       "[1, 3, 3, 3, 3, 4, 6, 7]"
      ]
     },
     "execution_count": 52,
     "metadata": {},
     "output_type": "execute_result"
    }
   ],
   "source": [
    "l1"
   ]
  },
  {
   "cell_type": "code",
   "execution_count": 56,
   "id": "c01d6b96",
   "metadata": {},
   "outputs": [],
   "source": [
    "def test7(l2):\n",
    "    l1 =[]\n",
    "    for i in l2:\n",
    "        if type(i) == int:\n",
    "            l1.append(i)\n",
    "    return l1"
   ]
  },
  {
   "cell_type": "code",
   "execution_count": 55,
   "id": "a1a15def",
   "metadata": {},
   "outputs": [
    {
     "data": {
      "text/plain": [
       "[1, 3, 3, 3, 3, 4, 6, 7]"
      ]
     },
     "execution_count": 55,
     "metadata": {},
     "output_type": "execute_result"
    }
   ],
   "source": [
    "test7()"
   ]
  },
  {
   "cell_type": "code",
   "execution_count": 57,
   "id": "723a2ed4",
   "metadata": {},
   "outputs": [],
   "source": [
    "l3 = [213,2,3,4,5, 6,'rajat']"
   ]
  },
  {
   "cell_type": "code",
   "execution_count": 58,
   "id": "56b48b6f",
   "metadata": {},
   "outputs": [
    {
     "data": {
      "text/plain": [
       "[213, 2, 3, 4, 5, 6]"
      ]
     },
     "execution_count": 58,
     "metadata": {},
     "output_type": "execute_result"
    }
   ],
   "source": [
    "test7(l3)"
   ]
  },
  {
   "cell_type": "code",
   "execution_count": 59,
   "id": "0381727b",
   "metadata": {},
   "outputs": [],
   "source": [
    "def test8(t):\n",
    "    i = -1\n",
    "    while i >= -len(t):\n",
    "        if t[i] == 6 or t[i] == 7:\n",
    "            print(i)\n",
    "        i -=1\n"
   ]
  },
  {
   "cell_type": "code",
   "execution_count": 64,
   "id": "f3b6084e",
   "metadata": {},
   "outputs": [
    {
     "name": "stdout",
     "output_type": "stream",
     "text": [
      "-1\n",
      "-2\n",
      "-3\n",
      "-4\n"
     ]
    }
   ],
   "source": [
    "test8((1,3, 4,5,6, 6, 7,7))"
   ]
  },
  {
   "cell_type": "code",
   "execution_count": null,
   "id": "321c64ea",
   "metadata": {},
   "outputs": [],
   "source": []
  }
 ],
 "metadata": {
  "kernelspec": {
   "display_name": "Python 3 (ipykernel)",
   "language": "python",
   "name": "python3"
  },
  "language_info": {
   "codemirror_mode": {
    "name": "ipython",
    "version": 3
   },
   "file_extension": ".py",
   "mimetype": "text/x-python",
   "name": "python",
   "nbconvert_exporter": "python",
   "pygments_lexer": "ipython3",
   "version": "3.9.7"
  }
 },
 "nbformat": 4,
 "nbformat_minor": 5
}
