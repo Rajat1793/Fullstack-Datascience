{
 "cells": [
  {
   "cell_type": "code",
   "execution_count": 6,
   "id": "1b68e092",
   "metadata": {},
   "outputs": [
    {
     "name": "stdout",
     "output_type": "stream",
     "text": [
      "a is equal\n"
     ]
    }
   ],
   "source": [
    "a = 10 \n",
    "if a == 10:\n",
    "    print(\"a is equal\")"
   ]
  },
  {
   "cell_type": "code",
   "execution_count": 7,
   "id": "1c86ac64",
   "metadata": {},
   "outputs": [
    {
     "name": "stdout",
     "output_type": "stream",
     "text": [
      "a is bigger\n"
     ]
    }
   ],
   "source": [
    "a = 10 \n",
    "if a < 8:\n",
    "    print(\"a is smaller\")\n",
    "else:\n",
    "    print(\"a is bigger\")"
   ]
  },
  {
   "cell_type": "code",
   "execution_count": 9,
   "id": "ae5f2dbe",
   "metadata": {},
   "outputs": [
    {
     "name": "stdout",
     "output_type": "stream",
     "text": [
      "a is small\n"
     ]
    }
   ],
   "source": [
    "a = 11\n",
    "if a == 12:\n",
    "    print(\"A is bigger\")\n",
    "elif a == 10:\n",
    "    print(\"a is equal\")\n",
    "else:\n",
    "    print(\"a is small\")"
   ]
  },
  {
   "cell_type": "code",
   "execution_count": 10,
   "id": "f7b26e89",
   "metadata": {},
   "outputs": [
    {
     "data": {
      "text/plain": [
       "True"
      ]
     },
     "execution_count": 10,
     "metadata": {},
     "output_type": "execute_result"
    }
   ],
   "source": [
    "l = [1, 2, 4, 5, 6, 7]\n",
    "2 in l"
   ]
  },
  {
   "cell_type": "code",
   "execution_count": 11,
   "id": "eec82bb8",
   "metadata": {},
   "outputs": [
    {
     "name": "stdout",
     "output_type": "stream",
     "text": [
      "2 is in list\n"
     ]
    }
   ],
   "source": [
    "if 2 in l:\n",
    "    print(\"2 is in list\")\n",
    "else:\n",
    "    print(\"2 is not in list\")"
   ]
  },
  {
   "cell_type": "code",
   "execution_count": 12,
   "id": "4c9d43e5",
   "metadata": {},
   "outputs": [
    {
     "data": {
      "text/plain": [
       "False"
      ]
     },
     "execution_count": 12,
     "metadata": {},
     "output_type": "execute_result"
    }
   ],
   "source": [
    "3 in l"
   ]
  },
  {
   "cell_type": "code",
   "execution_count": 17,
   "id": "06f1bfb5",
   "metadata": {},
   "outputs": [
    {
     "name": "stdout",
     "output_type": "stream",
     "text": [
      "A is 2\n",
      "a is 13\n"
     ]
    }
   ],
   "source": [
    "if 2 in l:\n",
    "    print(\"A is 2\")\n",
    "elif 3 in l:\n",
    "    print(\"a is 10\")\n",
    "elif 4 in l:\n",
    "    print(\"a is 11\")\n",
    "if 2 in l:\n",
    "    print(\"a is 13\")"
   ]
  },
  {
   "cell_type": "code",
   "execution_count": 24,
   "id": "e346a017",
   "metadata": {},
   "outputs": [
    {
     "name": "stdout",
     "output_type": "stream",
     "text": [
      "22\n"
     ]
    }
   ],
   "source": [
    "b = input()"
   ]
  },
  {
   "cell_type": "code",
   "execution_count": 25,
   "id": "89d420ac",
   "metadata": {},
   "outputs": [
    {
     "data": {
      "text/plain": [
       "str"
      ]
     },
     "execution_count": 25,
     "metadata": {},
     "output_type": "execute_result"
    }
   ],
   "source": [
    "type(b)"
   ]
  },
  {
   "cell_type": "code",
   "execution_count": 20,
   "id": "48444ca7",
   "metadata": {},
   "outputs": [
    {
     "data": {
      "text/plain": [
       "'22hello'"
      ]
     },
     "execution_count": 20,
     "metadata": {},
     "output_type": "execute_result"
    }
   ],
   "source": [
    "b + \"hello\""
   ]
  },
  {
   "cell_type": "code",
   "execution_count": 22,
   "id": "70f8ed57",
   "metadata": {},
   "outputs": [
    {
     "name": "stdout",
     "output_type": "stream",
     "text": [
      "22\n"
     ]
    }
   ],
   "source": [
    "b = int(input())"
   ]
  },
  {
   "cell_type": "code",
   "execution_count": 26,
   "id": "588ca8b4",
   "metadata": {},
   "outputs": [
    {
     "name": "stdout",
     "output_type": "stream",
     "text": [
      "as112\n"
     ]
    },
    {
     "ename": "ValueError",
     "evalue": "invalid literal for int() with base 10: 'as112'",
     "output_type": "error",
     "traceback": [
      "\u001b[0;31m---------------------------------------------------------------------------\u001b[0m",
      "\u001b[0;31mValueError\u001b[0m                                Traceback (most recent call last)",
      "\u001b[0;32m/var/folders/fv/7d20d0s14s5777d0m1bngrcw0000gp/T/ipykernel_19570/3465577101.py\u001b[0m in \u001b[0;36m<module>\u001b[0;34m\u001b[0m\n\u001b[0;32m----> 1\u001b[0;31m \u001b[0mc\u001b[0m \u001b[0;34m=\u001b[0m \u001b[0mint\u001b[0m\u001b[0;34m(\u001b[0m\u001b[0minput\u001b[0m\u001b[0;34m(\u001b[0m\u001b[0;34m)\u001b[0m\u001b[0;34m)\u001b[0m\u001b[0;34m\u001b[0m\u001b[0;34m\u001b[0m\u001b[0m\n\u001b[0m",
      "\u001b[0;31mValueError\u001b[0m: invalid literal for int() with base 10: 'as112'"
     ]
    }
   ],
   "source": [
    "c = int(input())"
   ]
  },
  {
   "cell_type": "code",
   "execution_count": 32,
   "id": "94714d29",
   "metadata": {},
   "outputs": [
    {
     "name": "stdout",
     "output_type": "stream",
     "text": [
      "500\n",
      "its a number\n"
     ]
    }
   ],
   "source": [
    "c = int(input())\n",
    "if c == '500':\n",
    "    print(\"its a string\")\n",
    "else:\n",
    "    print(\"its a number\")"
   ]
  },
  {
   "cell_type": "code",
   "execution_count": 36,
   "id": "6b2e41ad",
   "metadata": {},
   "outputs": [
    {
     "name": "stdout",
     "output_type": "stream",
     "text": [
      "199\n",
      "price is <500\n",
      "price is 200\n"
     ]
    }
   ],
   "source": [
    "price = int(input())\n",
    "if price <= 500:\n",
    "    print(\"price is <500\")\n",
    "    if price < 200:\n",
    "        print(\"price is 200\")\n",
    "    elif price < 300:\n",
    "        print(\"price is 300\")\n",
    "    else:\n",
    "        print(\"price is 400\")\n",
    "else:\n",
    "    print(\"price is 600\")"
   ]
  },
  {
   "cell_type": "code",
   "execution_count": 41,
   "id": "2628d329",
   "metadata": {},
   "outputs": [
    {
     "name": "stdout",
     "output_type": "stream",
     "text": [
      "300\n",
      "no gre\n",
      "no tofel\n",
      "try something else\n"
     ]
    }
   ],
   "source": [
    "marks = int(input())\n",
    "if marks <600:\n",
    "    print(\"no gre\")\n",
    "    if marks<500:\n",
    "        print(\"no tofel\")\n",
    "        if marks<400:\n",
    "            print(\"try something else\")\n",
    "    else:\n",
    "        print(\"got tofel\")\n",
    "else:\n",
    "    print(\"got gre\")"
   ]
  },
  {
   "cell_type": "code",
   "execution_count": 40,
   "id": "8e383a24",
   "metadata": {},
   "outputs": [
    {
     "name": "stdout",
     "output_type": "stream",
     "text": [
      "Enter float value:-23\n",
      "value is -ve\n"
     ]
    }
   ],
   "source": [
    "val = float(input(\"Enter float value:\"))\n",
    "if val >0:\n",
    "    if val == 0:\n",
    "        print (\"value is greater than zero\")\n",
    "    else:\n",
    "        print(\"value is +ve\")\n",
    "else:\n",
    "    print(\"value is -ve\")"
   ]
  },
  {
   "cell_type": "code",
   "execution_count": 42,
   "id": "5c87a9f5",
   "metadata": {},
   "outputs": [],
   "source": [
    "a = 10\n",
    "if a <10 or a >10:\n",
    "    print(\"something\")"
   ]
  },
  {
   "cell_type": "code",
   "execution_count": 45,
   "id": "10224c84",
   "metadata": {},
   "outputs": [
    {
     "name": "stdout",
     "output_type": "stream",
     "text": [
      "hi\n"
     ]
    }
   ],
   "source": [
    "a = \"rajat\"\n",
    "if a == 'rajat' or a == 'Rajat':\n",
    "    print(\"hi\")"
   ]
  },
  {
   "cell_type": "code",
   "execution_count": 48,
   "id": "547f629e",
   "metadata": {},
   "outputs": [
    {
     "name": "stdout",
     "output_type": "stream",
     "text": [
      "print\n"
     ]
    }
   ],
   "source": [
    "a = 10\n",
    "b = 9 \n",
    "c = 12\n",
    "if a == 10 or (b == 9 and c == 11):\n",
    "    print(\"print\")\n",
    "else:\n",
    "    print('error')"
   ]
  },
  {
   "cell_type": "code",
   "execution_count": 59,
   "id": "c5766cad",
   "metadata": {},
   "outputs": [],
   "source": [
    "l = [1,2,3, 4, 5,'rajat',10]"
   ]
  },
  {
   "cell_type": "code",
   "execution_count": 68,
   "id": "39f2ce24",
   "metadata": {},
   "outputs": [
    {
     "name": "stdout",
     "output_type": "stream",
     "text": [
      "1\n",
      "2\n",
      "3\n",
      "4\n",
      "5\n",
      "rajat\n",
      "10\n"
     ]
    }
   ],
   "source": [
    "for i in range(len(l)):\n",
    "    print(l[i])"
   ]
  },
  {
   "cell_type": "code",
   "execution_count": 69,
   "id": "6eac4029",
   "metadata": {},
   "outputs": [
    {
     "name": "stdout",
     "output_type": "stream",
     "text": [
      "1\n",
      "2\n",
      "3\n",
      "4\n",
      "5\n",
      "rajat\n",
      "10\n"
     ]
    }
   ],
   "source": [
    "for i in l:\n",
    "    print(i)"
   ]
  },
  {
   "cell_type": "code",
   "execution_count": 70,
   "id": "9cfb334e",
   "metadata": {},
   "outputs": [
    {
     "name": "stdout",
     "output_type": "stream",
     "text": [
      "0\n",
      "1\n",
      "2\n",
      "3\n",
      "4\n",
      "5\n",
      "6\n"
     ]
    }
   ],
   "source": [
    "for i in range(len(l)):\n",
    "    print(i)"
   ]
  },
  {
   "cell_type": "code",
   "execution_count": null,
   "id": "c3d09e87",
   "metadata": {},
   "outputs": [],
   "source": [
    "for i in l:\n",
    "    "
   ]
  }
 ],
 "metadata": {
  "kernelspec": {
   "display_name": "Python 3 (ipykernel)",
   "language": "python",
   "name": "python3"
  },
  "language_info": {
   "codemirror_mode": {
    "name": "ipython",
    "version": 3
   },
   "file_extension": ".py",
   "mimetype": "text/x-python",
   "name": "python",
   "nbconvert_exporter": "python",
   "pygments_lexer": "ipython3",
   "version": "3.9.7"
  }
 },
 "nbformat": 4,
 "nbformat_minor": 5
}
