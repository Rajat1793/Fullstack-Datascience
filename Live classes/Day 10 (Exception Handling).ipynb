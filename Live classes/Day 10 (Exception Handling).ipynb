{
 "cells": [
  {
   "cell_type": "code",
   "execution_count": 1,
   "id": "ab95dd45",
   "metadata": {},
   "outputs": [
    {
     "ename": "TypeError",
     "evalue": "unsupported operand type(s) for +: 'int' and 'str'",
     "output_type": "error",
     "traceback": [
      "\u001b[0;31m---------------------------------------------------------------------------\u001b[0m",
      "\u001b[0;31mTypeError\u001b[0m                                 Traceback (most recent call last)",
      "\u001b[0;32m/var/folders/fv/7d20d0s14s5777d0m1bngrcw0000gp/T/ipykernel_68014/3300735753.py\u001b[0m in \u001b[0;36m<module>\u001b[0;34m\u001b[0m\n\u001b[1;32m      3\u001b[0m \u001b[0ma\u001b[0m \u001b[0;34m=\u001b[0m \u001b[0;36m10\u001b[0m\u001b[0;34m\u001b[0m\u001b[0;34m\u001b[0m\u001b[0m\n\u001b[1;32m      4\u001b[0m \u001b[0mb\u001b[0m \u001b[0;34m=\u001b[0m \u001b[0;34m\"s\"\u001b[0m\u001b[0;34m\u001b[0m\u001b[0;34m\u001b[0m\u001b[0m\n\u001b[0;32m----> 5\u001b[0;31m \u001b[0mc\u001b[0m \u001b[0;34m=\u001b[0m \u001b[0ma\u001b[0m \u001b[0;34m+\u001b[0m \u001b[0mb\u001b[0m\u001b[0;34m\u001b[0m\u001b[0;34m\u001b[0m\u001b[0m\n\u001b[0m\u001b[1;32m      6\u001b[0m \u001b[0mprint\u001b[0m\u001b[0;34m(\u001b[0m\u001b[0mc\u001b[0m\u001b[0;34m)\u001b[0m\u001b[0;34m\u001b[0m\u001b[0;34m\u001b[0m\u001b[0m\n",
      "\u001b[0;31mTypeError\u001b[0m: unsupported operand type(s) for +: 'int' and 'str'"
     ]
    }
   ],
   "source": [
    "#type error #runtime error #exception\n",
    "\n",
    "a = 10\n",
    "b = \"s\"\n",
    "c = a + b\n",
    "print(c)"
   ]
  },
  {
   "cell_type": "code",
   "execution_count": null,
   "id": "3238d148",
   "metadata": {},
   "outputs": [],
   "source": [
    "a = int(input(\"enter a number\"))\n",
    "b = int(input(\"enter a number\"))\n",
    "c = a / b\n",
    "print(c)"
   ]
  },
  {
   "cell_type": "code",
   "execution_count": null,
   "id": "411b73fa",
   "metadata": {
    "scrolled": true
   },
   "outputs": [],
   "source": [
    "#division by zero error\n",
    "\n",
    "a = int(input(\"enter a number\"))\n",
    "b = int(input(\"enter a number\"))\n",
    "c = a / b\n",
    "print(c)"
   ]
  },
  {
   "cell_type": "code",
   "execution_count": null,
   "id": "07fd1a5d",
   "metadata": {
    "scrolled": true
   },
   "outputs": [],
   "source": [
    "#try block\n",
    "\n",
    "a = int(input(\"enter a number\"))\n",
    "b = int(input(\"enter a number\"))\n",
    "try:\n",
    "    c = a / b\n",
    "    print(c)\n",
    "except:\n",
    "    print(\"b should not be zero\")\n",
    "    d = a + b\n",
    "print(d)"
   ]
  },
  {
   "cell_type": "code",
   "execution_count": null,
   "id": "a74f53f4",
   "metadata": {},
   "outputs": [],
   "source": [
    "#compile time error\n",
    "#we cannot handle syntax error using the try except block\n",
    "\n",
    "a = int(input(\"enter a number\"))\n",
    "b = int(input(\"enter a number\"))\n",
    "try:\n",
    "    c = a / b\n",
    "    print(c))\n",
    "except:\n",
    "    print(\"b should not be zero\")\n",
    "    d = a + b\n",
    "print(d)"
   ]
  },
  {
   "cell_type": "code",
   "execution_count": 7,
   "id": "c6dcae18",
   "metadata": {},
   "outputs": [
    {
     "name": "stdout",
     "output_type": "stream",
     "text": [
      "enter first number12\n",
      "enter second numberw\n",
      "String value\n",
      "enter first number1\n",
      "enter second number21\n",
      "0.047619047619047616\n"
     ]
    }
   ],
   "source": [
    "while(True):\n",
    "    try:\n",
    "        a = int(input(\"enter first number\"))\n",
    "        b = int(input(\"enter second number\"))\n",
    "        c = a/int(b)\n",
    "        print(c)\n",
    "        break\n",
    "    except ZeroDivisionError:\n",
    "        print(\"divide by zero error\")\n",
    "    except ValueError:\n",
    "        print(\"String value\")"
   ]
  },
  {
   "cell_type": "code",
   "execution_count": 11,
   "id": "bcce083b",
   "metadata": {},
   "outputs": [
    {
     "name": "stdout",
     "output_type": "stream",
     "text": [
      "enter first number10\n",
      "enter second number2\n",
      "non int value\n"
     ]
    }
   ],
   "source": [
    "a = int(input(\"enter first number\"))\n",
    "b = input(\"enter second number\") \n",
    "try:\n",
    "    c = a /b\n",
    "    print(c)\n",
    "    d = a + str(b)\n",
    "    print(d)\n",
    "except ZeroDivisionError:\n",
    "    print(\"divide by zero\")\n",
    "except TypeError:\n",
    "    print(\"non int value\")"
   ]
  },
  {
   "cell_type": "markdown",
   "id": "a443772a",
   "metadata": {},
   "source": [
    "### even if we dont write a class name in except block it will execute the except block. Class name is basically mentioned for our under standing and it can be any name based on the type of error"
   ]
  },
  {
   "cell_type": "code",
   "execution_count": 12,
   "id": "dbd74078",
   "metadata": {},
   "outputs": [
    {
     "name": "stdout",
     "output_type": "stream",
     "text": [
      "enter first number10\n",
      "enter second number2\n",
      "divide by zero or please input int value\n"
     ]
    }
   ],
   "source": [
    "a = int(input(\"enter first number\"))\n",
    "b = input(\"enter second number\") \n",
    "try:\n",
    "    c = a /b\n",
    "    print(c)\n",
    "    d = a + str(b)\n",
    "    print(d)\n",
    "except (ZeroDivisionError,TypeError):\n",
    "    print(\"divide by zero or please input int value\")\n"
   ]
  },
  {
   "cell_type": "code",
   "execution_count": 8,
   "id": "36f71fcd",
   "metadata": {},
   "outputs": [
    {
     "name": "stdout",
     "output_type": "stream",
     "text": [
      "enter first number10\n",
      "enter second number0\n",
      "division by zero\n",
      "enter first number1\n",
      "enter second number1\n",
      "1.0\n"
     ]
    }
   ],
   "source": [
    "#except block with alias\n",
    "\n",
    "while True:\n",
    "    try:\n",
    "        a = int(input(\"enter first number\"))\n",
    "        b = int(input(\"enter second number\"))\n",
    "        c = a/int(b)\n",
    "        print(c)\n",
    "        break\n",
    "    except ZeroDivisionError as e:\n",
    "        print(e)\n"
   ]
  },
  {
   "cell_type": "code",
   "execution_count": 1,
   "id": "f6c0e408",
   "metadata": {},
   "outputs": [
    {
     "name": "stdout",
     "output_type": "stream",
     "text": [
      "enter first number10\n",
      "enter second number0\n",
      "(<class 'ZeroDivisionError'>, ZeroDivisionError('division by zero'), <traceback object at 0x7fe990902940>)\n",
      "enter first number1\n",
      "enter second number1\n",
      "1.0\n"
     ]
    }
   ],
   "source": [
    "#exc info sys module\n",
    "\n",
    "import sys\n",
    "while True:\n",
    "    try:\n",
    "        a = int(input(\"enter first number\"))\n",
    "        b = int(input(\"enter second number\"))\n",
    "        c = a/int(b)\n",
    "        print(c)\n",
    "        break\n",
    "    except:\n",
    "        print(sys.exc_info())"
   ]
  },
  {
   "cell_type": "code",
   "execution_count": 1,
   "id": "188bb92b",
   "metadata": {},
   "outputs": [
    {
     "name": "stdout",
     "output_type": "stream",
     "text": [
      "enter first number10\n",
      "enter second number0\n",
      "class:  <class 'ZeroDivisionError'> message:  division by zero line no:  6\n",
      "enter first number1\n",
      "enter second number1\n",
      "1.0\n"
     ]
    }
   ],
   "source": [
    "import sys\n",
    "while True:\n",
    "    try:\n",
    "        a = int(input(\"enter first number\"))\n",
    "        b = int(input(\"enter second number\"))\n",
    "        c = a/int(b)\n",
    "        print(c)\n",
    "        break\n",
    "    except:\n",
    "        a,b,c = sys.exc_info()\n",
    "        print(\"class: \",a, \"message: \", b,\"line no: \",c.tb_lineno)"
   ]
  },
  {
   "cell_type": "code",
   "execution_count": 1,
   "id": "5a7219fb",
   "metadata": {},
   "outputs": [
    {
     "name": "stdout",
     "output_type": "stream",
     "text": [
      "enter first number10\n",
      "enter second number0\n",
      "Traceback (most recent call last):\n",
      "  File \"/var/folders/fv/7d20d0s14s5777d0m1bngrcw0000gp/T/ipykernel_90564/867741301.py\", line 8, in <module>\n",
      "    c = a/int(b)\n",
      "ZeroDivisionError: division by zero\n",
      "\n",
      "enter first number11\n",
      "enter second number11\n",
      "1.0\n"
     ]
    }
   ],
   "source": [
    "# traceback module gives a execption description\n",
    "\n",
    "import traceback\n",
    "while True:\n",
    "    try:\n",
    "        a = int(input(\"enter first number\"))\n",
    "        b = int(input(\"enter second number\"))\n",
    "        c = a/int(b)\n",
    "        print(c)\n",
    "        break\n",
    "    except:\n",
    "        print(traceback.format_exc())"
   ]
  },
  {
   "cell_type": "code",
   "execution_count": null,
   "id": "2a0c81a0",
   "metadata": {},
   "outputs": [
    {
     "name": "stdout",
     "output_type": "stream",
     "text": [
      "enter first number10\n",
      "enter second number0\n",
      "raise exception\n",
      "enter first number1\n",
      "enter second number1\n",
      "raise exception\n"
     ]
    }
   ],
   "source": [
    "#raise: we can raise the exception anywhere we want to \n",
    "while True:\n",
    "    try:\n",
    "        a = int(input(\"enter first number\"))\n",
    "        b = int(input(\"enter second number\"))\n",
    "        raise Exception(\"raise exception\")\n",
    "        c = a/int(b)\n",
    "        print(c)\n",
    "        break\n",
    "    except Exception as e:\n",
    "        print(e)\n",
    "\n"
   ]
  },
  {
   "cell_type": "code",
   "execution_count": 1,
   "id": "f2d95d11",
   "metadata": {},
   "outputs": [
    {
     "name": "stdout",
     "output_type": "stream",
     "text": [
      "enter first number-1\n",
      "enter second number2\n",
      "raise exception\n",
      "enter first number1\n",
      "enter second number1\n",
      "1.0\n"
     ]
    }
   ],
   "source": [
    "class myException(Exception):\n",
    "    pass\n",
    "#custom exception\n",
    "\n",
    "while True:\n",
    "    try:\n",
    "        a = int(input(\"enter first number\"))\n",
    "        b = int(input(\"enter second number\"))\n",
    "        if a < 0:\n",
    "            raise myException(\"raise exception\")\n",
    "        c = a/int(b)\n",
    "        print(c)\n",
    "        break\n",
    "    except Exception as e:\n",
    "        print(e)"
   ]
  },
  {
   "cell_type": "code",
   "execution_count": 6,
   "id": "2d1d4375",
   "metadata": {},
   "outputs": [
    {
     "name": "stdout",
     "output_type": "stream",
     "text": [
      "enter first number1\n",
      "enter second number1\n",
      "finaly block\n"
     ]
    }
   ],
   "source": [
    "## final block\n",
    "\n",
    "try:\n",
    "        a = int(input(\"enter first number\"))\n",
    "        b = int(input(\"enter second number\"))\n",
    "        if a < 0:\n",
    "            raise myException(\"raise exception\")\n",
    "# except:\n",
    "#     print(\"except block\")\n",
    "finally:\n",
    "    print(\"finaly block\")"
   ]
  },
  {
   "cell_type": "code",
   "execution_count": 9,
   "id": "6f2a3681",
   "metadata": {},
   "outputs": [
    {
     "name": "stdout",
     "output_type": "stream",
     "text": [
      "enter first number1\n",
      "enter second number1\n",
      "else block\n"
     ]
    }
   ],
   "source": [
    "#try except else\n",
    "# else block will only run when the try block dont generate a exception\n",
    "try:\n",
    "        a = int(input(\"enter first number\"))\n",
    "        b = int(input(\"enter second number\"))\n",
    "        if a < 0:\n",
    "            raise myException(\"raise exception\")\n",
    "except:\n",
    "    print(\"except block\")\n",
    "else:\n",
    "    print(\"else block\")\n",
    "    "
   ]
  },
  {
   "cell_type": "code",
   "execution_count": 8,
   "id": "056230b3",
   "metadata": {},
   "outputs": [
    {
     "name": "stdout",
     "output_type": "stream",
     "text": [
      "enter first number-1\n",
      "enter second number1\n",
      "except block\n"
     ]
    }
   ],
   "source": [
    "try:\n",
    "        a = int(input(\"enter first number\"))\n",
    "        b = int(input(\"enter second number\"))\n",
    "        if a < 0:\n",
    "            raise myException(\"raise exception\")\n",
    "except:\n",
    "    print(\"except block\")\n",
    "else:\n",
    "    print(\"finaly block\")\n",
    "    "
   ]
  },
  {
   "cell_type": "code",
   "execution_count": null,
   "id": "01d475d7",
   "metadata": {},
   "outputs": [],
   "source": []
  }
 ],
 "metadata": {
  "kernelspec": {
   "display_name": "Python 3 (ipykernel)",
   "language": "python",
   "name": "python3"
  },
  "language_info": {
   "codemirror_mode": {
    "name": "ipython",
    "version": 3
   },
   "file_extension": ".py",
   "mimetype": "text/x-python",
   "name": "python",
   "nbconvert_exporter": "python",
   "pygments_lexer": "ipython3",
   "version": "3.9.7"
  }
 },
 "nbformat": 4,
 "nbformat_minor": 5
}
