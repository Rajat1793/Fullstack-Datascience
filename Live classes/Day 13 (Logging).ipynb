{
 "cells": [
  {
   "cell_type": "markdown",
   "id": "ccf3c193",
   "metadata": {},
   "source": [
    "## Log file 1"
   ]
  },
  {
   "cell_type": "code",
   "execution_count": 1,
   "id": "6ea2effa",
   "metadata": {},
   "outputs": [
    {
     "name": "stdout",
     "output_type": "stream",
     "text": [
      "4\n"
     ]
    }
   ],
   "source": [
    "# importing module\n",
    "import logging\n",
    "\n",
    "# Create and configure logger\n",
    "logging.basicConfig(filename=\"logfile1.log\", level=logging.INFO)\n",
    "logging.info(\"this is new log file\")\n",
    "logging.warning(\"this is a warning message\")\n",
    "\n",
    "l = [1, 2, 4, 5, 6]\n",
    "for i in l:\n",
    "    if i == 2:\n",
    "        print(l[i])\n",
    "        logging.info(l[i])\n",
    "        logging.warning(\"2 is found in a  list\")\n",
    "\n",
    "\n",
    "logging.shutdown()\n",
    "logging.info(\"after the shutdown log\")"
   ]
  },
  {
   "cell_type": "raw",
   "id": "5df1e96c",
   "metadata": {},
   "source": [
    "INFO:root:this is new log file\n",
    "INFO:root:this is new log file\n",
    "INFO:root:[1, 2, 4, 5, 6]\n",
    "INFO:root:this is new log file\n",
    "INFO:root:4\n",
    "INFO:root:this is new log file\n",
    "WARNING:root:this is a warning message\n",
    "INFO:root:4\n",
    "WARNING:root:2 is found in a  list\n",
    "INFO:root:this is new log file\n",
    "WARNING:root:this is a warning message\n",
    "INFO:root:4\n",
    "WARNING:root:2 is found in a  list\n",
    "INFO:root:this is new log file\n",
    "WARNING:root:this is a warning message\n",
    "INFO:root:4\n",
    "WARNING:root:2 is found in a  list\n",
    "INFO:root:after the shutdown log\n"
   ]
  },
  {
   "cell_type": "raw",
   "id": "5c17e908",
   "metadata": {},
   "source": [
    "INFO:root:this is new log file\n",
    "WARNING:root:this is a warning message\n",
    "INFO:root:4\n",
    "WARNING:root:2 is found in a  list\n",
    "INFO:root:after the shutdown log\n"
   ]
  },
  {
   "cell_type": "markdown",
   "id": "9a3bf992",
   "metadata": {},
   "source": [
    "## log file 2"
   ]
  },
  {
   "cell_type": "code",
   "execution_count": 4,
   "id": "0fff28fc",
   "metadata": {},
   "outputs": [
    {
     "name": "stdout",
     "output_type": "stream",
     "text": [
      "0.4\n"
     ]
    }
   ],
   "source": [
    "import logging\n",
    "\n",
    "logging.basicConfig(filename=\"logfile2.log\", level=logging.INFO,\n",
    "                    format='%(name)s  %(levelname)s  %(asctime)s  %(message)s')\n",
    "\n",
    "\n",
    "def divide(a, b):\n",
    "    logging.info(\"number entered by user %s and %s\", a, b)\n",
    "    try:\n",
    "        logging.info(\"inside divide function\")\n",
    "        c = a / b\n",
    "        logging.info(\"division sucessfull %s\", c)\n",
    "        return c\n",
    "    except ZeroDivisionError as e:\n",
    "        logging.exception(e)\n",
    "\n",
    "\n",
    "print(divide(2, 5))\n"
   ]
  },
  {
   "cell_type": "raw",
   "id": "e8b6652a",
   "metadata": {},
   "source": [
    "2022-07-05 16:42:52,281 this log is with timestamp\n",
    "2022-07-05 16:45:01,493 this log is with timestamp root\n",
    " root  INFO 2022-07-05 16:46:01,722 this log is with timestamp\n",
    "root  INFO  2022-07-05 16:46:20,871  this log is with timestamp\n",
    "root  INFO  2022-07-05 16:54:20,038  number entered by user 2 and 0\n",
    "root  INFO  2022-07-05 16:54:27,889  number entered by user 2 and 0\n",
    "root  INFO  2022-07-05 16:54:32,213  number entered by user 2 and 1\n",
    "root  INFO  2022-07-05 16:58:11,215  number entered by user 2 and 1\n",
    "root  INFO  2022-07-05 16:58:11,215  inside divide function\n",
    "root  INFO  2022-07-05 16:58:11,215  division sucessfull 2.0\n",
    "root  INFO  2022-07-05 16:58:33,496  number entered by user 2 and 0\n",
    "root  INFO  2022-07-05 16:58:33,496  inside divide function\n",
    "root  ERROR  2022-07-05 16:58:33,497  division by zero\n",
    "Traceback (most recent call last):\n",
    "  File \"/Users/rajaiswal/Desktop/learning/FSDS python/log2.py\", line 9, in divide\n",
    "    c = a/b\n",
    "ZeroDivisionError: division by zero\n",
    "root  INFO  2022-07-05 16:59:21,182  number entered by user 2 and 0\n",
    "root  INFO  2022-07-05 16:59:21,182  inside divide function\n",
    "root  ERROR  2022-07-05 16:59:21,182  division by zero\n",
    "Traceback (most recent call last):\n",
    "  File \"/Users/rajaiswal/Desktop/learning/FSDS python/log2.py\", line 9, in divide\n",
    "    c = a/b\n",
    "ZeroDivisionError: division by zeroroot  INFO  2022-07-05 17:02:19,924  number entered by user 2 and 5\n",
    "root  INFO  2022-07-05 17:02:19,924  inside divide function\n",
    "root  INFO  2022-07-05 17:02:19,924  division sucessfull 0.4\n"
   ]
  },
  {
   "cell_type": "markdown",
   "id": "500a7855",
   "metadata": {},
   "source": [
    "## Log file 3"
   ]
  },
  {
   "cell_type": "code",
   "execution_count": 3,
   "id": "b09f7c86",
   "metadata": {},
   "outputs": [],
   "source": [
    "import logging\n",
    "\n",
    "logging.basicConfig(filename=\"logfile3.log\", level=logging.CRITICAL,\n",
    "                    format='%(name)s  %(levelname)s  %(asctime)s  %(message)s')\n",
    "\n",
    "\n",
    "# def divide(a, b):\n",
    "#     logging.info(\"number entered by user %s and %s\", a, b)\n",
    "#     try:\n",
    "#         logging.info(\"inside divide function\")\n",
    "#         c = a / b\n",
    "#         logging.info(\"division sucessfull %s\", c)\n",
    "#         return c\n",
    "#     except ZeroDivisionError as e:\n",
    "#         logging.exception(e)\n",
    "#\n",
    "# print(divide(2, 0))\n",
    "\n",
    "try:\n",
    "    logging.info(\"Opening a new file when logging level is CRITICAL\")\n",
    "    with open(\"rajat.txt\", \"r\"):\n",
    "        logging.info(\"Sucessfull read the file\")\n",
    "except Exception as e:\n",
    "    logging.critical(\"critical situation\")\n",
    "    logging.error(e)\n",
    "    logging.exception(e)\n",
    "\n"
   ]
  },
  {
   "cell_type": "raw",
   "id": "fec84e39",
   "metadata": {},
   "source": [
    "root  INFO  2022-07-05 17:05:12,313  number entered by user 2 and 5\n",
    "root  INFO  2022-07-05 17:05:12,313  inside divide function\n",
    "root  INFO  2022-07-05 17:05:12,313  division sucessfull 0.4\n",
    "root  INFO  2022-07-05 17:05:26,401  number entered by user 2 and 0\n",
    "root  INFO  2022-07-05 17:05:26,401  inside divide function\n",
    "root  ERROR  2022-07-05 17:05:26,401  division by zero\n",
    "Traceback (most recent call last):\n",
    "  File \"/Users/rajaiswal/Desktop/learning/FSDS python/log3.py\", line 10, in divide\n",
    "    c = a / b\n",
    "ZeroDivisionError: division by zero\n",
    "root  ERROR  2022-07-05 17:05:34,138  division by zero\n",
    "Traceback (most recent call last):\n",
    "  File \"/Users/rajaiswal/Desktop/learning/FSDS python/log3.py\", line 10, in divide\n",
    "    c = a / b\n",
    "ZeroDivisionError: division by zero\n",
    "root  ERROR  2022-07-05 17:08:12,367  division by zero\n",
    "Traceback (most recent call last):\n",
    "  File \"/Users/rajaiswal/Desktop/learning/FSDS python/log3.py\", line 11, in divide\n",
    "    c = a / b\n",
    "ZeroDivisionError: division by zero\n",
    "root  INFO  2022-07-05 17:17:47,994  Opening a new file when logging level is DEBUG\n",
    "root  CRITICAL  2022-07-05 17:17:47,994  critical situation\n",
    "root  ERROR  2022-07-05 17:17:47,994  [Errno 2] No such file or directory: 'rajat.txt'\n",
    "root  ERROR  2022-07-05 17:17:47,994  [Errno 2] No such file or directory: 'rajat.txt'\n",
    "Traceback (most recent call last):\n",
    "  File \"/Users/rajaiswal/Desktop/learning/FSDS python/log3.py\", line 21, in <module>\n",
    "    with open(\"rajat.txt\", \"r\"):\n",
    "FileNotFoundError: [Errno 2] No such file or directory: 'rajat.txt'\n",
    "root  INFO  2022-07-05 17:18:14,245  Opening a new file when logging level is INFO\n",
    "root  CRITICAL  2022-07-05 17:18:14,245  critical situation\n",
    "root  ERROR  2022-07-05 17:18:14,245  [Errno 2] No such file or directory: 'rajat.txt'\n",
    "root  ERROR  2022-07-05 17:18:14,245  [Errno 2] No such file or directory: 'rajat.txt'\n",
    "Traceback (most recent call last):\n",
    "  File \"/Users/rajaiswal/Desktop/learning/FSDS python/log3.py\", line 21, in <module>\n",
    "    with open(\"rajat.txt\", \"r\"):\n",
    "FileNotFoundError: [Errno 2] No such file or directory: 'rajat.txt'\n",
    "root  CRITICAL  2022-07-05 17:18:45,035  critical situation\n",
    "root  ERROR  2022-07-05 17:18:45,035  [Errno 2] No such file or directory: 'rajat.txt'\n",
    "root  ERROR  2022-07-05 17:18:45,035  [Errno 2] No such file or directory: 'rajat.txt'\n",
    "Traceback (most recent call last):\n",
    "  File \"/Users/rajaiswal/Desktop/learning/FSDS python/log3.py\", line 21, in <module>\n",
    "    with open(\"rajat.txt\", \"r\"):\n",
    "FileNotFoundError: [Errno 2] No such file or directory: 'rajat.txt'\n",
    "root  CRITICAL  2022-07-05 17:19:22,317  critical situation\n"
   ]
  },
  {
   "cell_type": "code",
   "execution_count": null,
   "id": "bc32649b",
   "metadata": {},
   "outputs": [],
   "source": []
  }
 ],
 "metadata": {
  "kernelspec": {
   "display_name": "Python 3 (ipykernel)",
   "language": "python",
   "name": "python3"
  },
  "language_info": {
   "codemirror_mode": {
    "name": "ipython",
    "version": 3
   },
   "file_extension": ".py",
   "mimetype": "text/x-python",
   "name": "python",
   "nbconvert_exporter": "python",
   "pygments_lexer": "ipython3",
   "version": "3.9.7"
  }
 },
 "nbformat": 4,
 "nbformat_minor": 5
}
