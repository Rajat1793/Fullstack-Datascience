{
 "cells": [
  {
   "cell_type": "code",
   "execution_count": 9,
   "id": "93261c9b",
   "metadata": {},
   "outputs": [],
   "source": [
    "def test(a , b):\n",
    "    '''This is my personal function for addition''' #creating a docstring for a function\n",
    "    return a+b\n"
   ]
  },
  {
   "cell_type": "code",
   "execution_count": 2,
   "id": "3e94d1b3",
   "metadata": {},
   "outputs": [
    {
     "data": {
      "text/plain": [
       "5"
      ]
     },
     "execution_count": 2,
     "metadata": {},
     "output_type": "execute_result"
    }
   ],
   "source": [
    "test(2, 3)"
   ]
  },
  {
   "cell_type": "code",
   "execution_count": 3,
   "id": "96bd4ade",
   "metadata": {},
   "outputs": [
    {
     "data": {
      "text/plain": [
       "'rajat jaiswal'"
      ]
     },
     "execution_count": 3,
     "metadata": {},
     "output_type": "execute_result"
    }
   ],
   "source": [
    "test('rajat ', 'jaiswal')"
   ]
  },
  {
   "cell_type": "code",
   "execution_count": 4,
   "id": "c3f81de3",
   "metadata": {},
   "outputs": [
    {
     "data": {
      "text/plain": [
       "30"
      ]
     },
     "execution_count": 4,
     "metadata": {},
     "output_type": "execute_result"
    }
   ],
   "source": [
    "test(a =10, b=20)"
   ]
  },
  {
   "cell_type": "code",
   "execution_count": 10,
   "id": "07b26e10",
   "metadata": {},
   "outputs": [],
   "source": [
    "def test1(a, b, c, d):\n",
    "    return a, b, c, d"
   ]
  },
  {
   "cell_type": "code",
   "execution_count": 12,
   "id": "07c28123",
   "metadata": {},
   "outputs": [
    {
     "data": {
      "text/plain": [
       "(1, 2, 'Hi', 3)"
      ]
     },
     "execution_count": 12,
     "metadata": {},
     "output_type": "execute_result"
    }
   ],
   "source": [
    "test1(1, 2,'Hi', 3)"
   ]
  },
  {
   "cell_type": "code",
   "execution_count": 13,
   "id": "69218907",
   "metadata": {},
   "outputs": [],
   "source": [
    "def test2(*a):\n",
    "    return a"
   ]
  },
  {
   "cell_type": "code",
   "execution_count": 14,
   "id": "0dad7ae9",
   "metadata": {},
   "outputs": [
    {
     "data": {
      "text/plain": [
       "(12,)"
      ]
     },
     "execution_count": 14,
     "metadata": {},
     "output_type": "execute_result"
    }
   ],
   "source": [
    "test2(12)"
   ]
  },
  {
   "cell_type": "code",
   "execution_count": 15,
   "id": "ead903bc",
   "metadata": {},
   "outputs": [
    {
     "data": {
      "text/plain": [
       "(1, 2, 3, 4, 'hi', 'world')"
      ]
     },
     "execution_count": 15,
     "metadata": {},
     "output_type": "execute_result"
    }
   ],
   "source": [
    "test2(1, 2, 3, 4, 'hi', 'world')"
   ]
  },
  {
   "cell_type": "code",
   "execution_count": 16,
   "id": "2dbaee67",
   "metadata": {},
   "outputs": [],
   "source": [
    "def test4(*args):\n",
    "    return args"
   ]
  },
  {
   "cell_type": "code",
   "execution_count": 17,
   "id": "5e01a735",
   "metadata": {},
   "outputs": [
    {
     "data": {
      "text/plain": [
       "(1, 2, 3, 4, 5)"
      ]
     },
     "execution_count": 17,
     "metadata": {},
     "output_type": "execute_result"
    }
   ],
   "source": [
    "test4(1,2,3,4,5)"
   ]
  },
  {
   "cell_type": "code",
   "execution_count": 21,
   "id": "c9afe07d",
   "metadata": {},
   "outputs": [],
   "source": [
    "def test5(*args):\n",
    "    l = []\n",
    "    for i in args:\n",
    "        l.append(i)\n",
    "    return l"
   ]
  },
  {
   "cell_type": "code",
   "execution_count": 22,
   "id": "8611558f",
   "metadata": {},
   "outputs": [
    {
     "data": {
      "text/plain": [
       "[1, 3, 4, 'hi', [12, 3, 44, 56]]"
      ]
     },
     "execution_count": 22,
     "metadata": {},
     "output_type": "execute_result"
    }
   ],
   "source": [
    "test5(1, 3, 4, 'hi',[12, 3,44, 56])"
   ]
  },
  {
   "cell_type": "code",
   "execution_count": 32,
   "id": "98f78823",
   "metadata": {},
   "outputs": [],
   "source": [
    "def test6(a,b,c, *args):\n",
    "    return(a,b, c, args)"
   ]
  },
  {
   "cell_type": "code",
   "execution_count": 27,
   "id": "be712895",
   "metadata": {},
   "outputs": [
    {
     "data": {
      "text/plain": [
       "('a', 'b', 'c', (1, 3, 4))"
      ]
     },
     "execution_count": 27,
     "metadata": {},
     "output_type": "execute_result"
    }
   ],
   "source": [
    "test6('a', 'b', 'c',1, 3, 4)"
   ]
  },
  {
   "cell_type": "code",
   "execution_count": 33,
   "id": "e0ed89ea",
   "metadata": {},
   "outputs": [],
   "source": [
    "def test7(*args, a, b, c):\n",
    "    return args, a, b, c"
   ]
  },
  {
   "cell_type": "code",
   "execution_count": 42,
   "id": "6d2c2fa9",
   "metadata": {},
   "outputs": [
    {
     "data": {
      "text/plain": [
       "(('a', 'b', 'c', 'd', 'e'), 1, 2, 3)"
      ]
     },
     "execution_count": 42,
     "metadata": {},
     "output_type": "execute_result"
    }
   ],
   "source": [
    "test7('a','b','c', 'd', 'e', a=1, b=2, c=3)"
   ]
  },
  {
   "cell_type": "code",
   "execution_count": 45,
   "id": "bf204379",
   "metadata": {},
   "outputs": [],
   "source": [
    "def test8(*m, **n):#** created a key value pair\n",
    "    return m, n"
   ]
  },
  {
   "cell_type": "code",
   "execution_count": 46,
   "id": "41ca6f8e",
   "metadata": {},
   "outputs": [
    {
     "data": {
      "text/plain": [
       "((1, 2, 3, 4), {'a': 1, 'b': 3, 'd': 5})"
      ]
     },
     "execution_count": 46,
     "metadata": {},
     "output_type": "execute_result"
    }
   ],
   "source": [
    "test8(1,2,3, 4, a=1,b=3, d=5)"
   ]
  },
  {
   "cell_type": "code",
   "execution_count": 48,
   "id": "e34037b5",
   "metadata": {},
   "outputs": [],
   "source": [
    "def test9(*m):\n",
    "    n = 1\n",
    "    for i in m:\n",
    "        if type(i) == int:\n",
    "            n = n*i\n",
    "    return n"
   ]
  },
  {
   "cell_type": "code",
   "execution_count": 49,
   "id": "d70ca41f",
   "metadata": {},
   "outputs": [
    {
     "data": {
      "text/plain": [
       "120"
      ]
     },
     "execution_count": 49,
     "metadata": {},
     "output_type": "execute_result"
    }
   ],
   "source": [
    "test9(1, 2, 3,4, 5)"
   ]
  },
  {
   "cell_type": "code",
   "execution_count": 52,
   "id": "d3bd1b02",
   "metadata": {},
   "outputs": [],
   "source": [
    "n = lambda a, b : a+b #lambda function anonumus function"
   ]
  },
  {
   "cell_type": "code",
   "execution_count": 51,
   "id": "8ca6d216",
   "metadata": {},
   "outputs": [
    {
     "data": {
      "text/plain": [
       "5"
      ]
     },
     "execution_count": 51,
     "metadata": {},
     "output_type": "execute_result"
    }
   ],
   "source": [
    "n(2, 3)"
   ]
  },
  {
   "cell_type": "code",
   "execution_count": 54,
   "id": "7d25d1fa",
   "metadata": {},
   "outputs": [
    {
     "data": {
      "text/plain": [
       "(1, 2, 3, 4)"
      ]
     },
     "execution_count": 54,
     "metadata": {},
     "output_type": "execute_result"
    }
   ],
   "source": [
    "b = lambda *m : m\n",
    "b(1, 2, 3,4)"
   ]
  },
  {
   "cell_type": "code",
   "execution_count": 61,
   "id": "17367577",
   "metadata": {},
   "outputs": [],
   "source": [
    "c = lambda *m, **n : m+n #we cannot concatenate tuple and dict"
   ]
  },
  {
   "cell_type": "code",
   "execution_count": 60,
   "id": "7b17356a",
   "metadata": {},
   "outputs": [
    {
     "ename": "TypeError",
     "evalue": "can only concatenate tuple (not \"dict\") to tuple",
     "output_type": "error",
     "traceback": [
      "\u001b[0;31m---------------------------------------------------------------------------\u001b[0m",
      "\u001b[0;31mTypeError\u001b[0m                                 Traceback (most recent call last)",
      "\u001b[0;32m/var/folders/fv/7d20d0s14s5777d0m1bngrcw0000gp/T/ipykernel_6266/2615626960.py\u001b[0m in \u001b[0;36m<module>\u001b[0;34m\u001b[0m\n\u001b[0;32m----> 1\u001b[0;31m \u001b[0mc\u001b[0m\u001b[0;34m(\u001b[0m\u001b[0;36m1\u001b[0m\u001b[0;34m,\u001b[0m\u001b[0;36m2\u001b[0m\u001b[0;34m,\u001b[0m\u001b[0;36m3\u001b[0m\u001b[0;34m,\u001b[0m \u001b[0;36m4\u001b[0m\u001b[0;34m,\u001b[0m \u001b[0ma\u001b[0m\u001b[0;34m=\u001b[0m\u001b[0;36m1\u001b[0m\u001b[0;34m,\u001b[0m\u001b[0mb\u001b[0m\u001b[0;34m=\u001b[0m\u001b[0;36m3\u001b[0m\u001b[0;34m,\u001b[0m \u001b[0md\u001b[0m\u001b[0;34m=\u001b[0m\u001b[0;36m5\u001b[0m\u001b[0;34m)\u001b[0m\u001b[0;34m\u001b[0m\u001b[0;34m\u001b[0m\u001b[0m\n\u001b[0m",
      "\u001b[0;32m/var/folders/fv/7d20d0s14s5777d0m1bngrcw0000gp/T/ipykernel_6266/2075183781.py\u001b[0m in \u001b[0;36m<lambda>\u001b[0;34m(*m, **n)\u001b[0m\n\u001b[0;32m----> 1\u001b[0;31m \u001b[0mc\u001b[0m \u001b[0;34m=\u001b[0m \u001b[0;32mlambda\u001b[0m \u001b[0;34m*\u001b[0m\u001b[0mm\u001b[0m\u001b[0;34m,\u001b[0m \u001b[0;34m**\u001b[0m\u001b[0mn\u001b[0m \u001b[0;34m:\u001b[0m \u001b[0mm\u001b[0m\u001b[0;34m+\u001b[0m\u001b[0mn\u001b[0m\u001b[0;34m\u001b[0m\u001b[0;34m\u001b[0m\u001b[0m\n\u001b[0m",
      "\u001b[0;31mTypeError\u001b[0m: can only concatenate tuple (not \"dict\") to tuple"
     ]
    }
   ],
   "source": [
    "c(1,2,3, 4, a=1,b=3, d=5)"
   ]
  },
  {
   "cell_type": "code",
   "execution_count": 62,
   "id": "7c7ea894",
   "metadata": {},
   "outputs": [],
   "source": [
    "t = (1, 2, 3, 4, 5)\n",
    "l = []\n",
    "for i in t:\n",
    "    l.append(i)"
   ]
  },
  {
   "cell_type": "code",
   "execution_count": 63,
   "id": "4a915dbc",
   "metadata": {},
   "outputs": [
    {
     "data": {
      "text/plain": [
       "[1, 2, 3, 4, 5]"
      ]
     },
     "execution_count": 63,
     "metadata": {},
     "output_type": "execute_result"
    }
   ],
   "source": [
    "l"
   ]
  },
  {
   "cell_type": "code",
   "execution_count": 64,
   "id": "2604a409",
   "metadata": {},
   "outputs": [
    {
     "data": {
      "text/plain": [
       "[1, 2, 3, 4, 5]"
      ]
     },
     "execution_count": 64,
     "metadata": {},
     "output_type": "execute_result"
    }
   ],
   "source": [
    "[i for i in t] #comprehension function"
   ]
  },
  {
   "cell_type": "code",
   "execution_count": 65,
   "id": "69291bd1",
   "metadata": {},
   "outputs": [
    {
     "data": {
      "text/plain": [
       "['r', 'a', 'j', 'a', 't']"
      ]
     },
     "execution_count": 65,
     "metadata": {},
     "output_type": "execute_result"
    }
   ],
   "source": [
    "s = 'rajat'\n",
    "[i for i in s]"
   ]
  },
  {
   "cell_type": "code",
   "execution_count": 67,
   "id": "eda57f92",
   "metadata": {},
   "outputs": [
    {
     "data": {
      "text/plain": [
       "[0, 1, 4, 9, 16, 25, 36, 49, 64, 81]"
      ]
     },
     "execution_count": 67,
     "metadata": {},
     "output_type": "execute_result"
    }
   ],
   "source": [
    "[i*i for i in range(10)] #square of a number using the comprehension function"
   ]
  },
  {
   "cell_type": "code",
   "execution_count": 68,
   "id": "ffb813a5",
   "metadata": {},
   "outputs": [],
   "source": [
    "l = lambda *x: [i for i in x] #lambda function to convert tuple in list"
   ]
  },
  {
   "cell_type": "code",
   "execution_count": 69,
   "id": "435c6a19",
   "metadata": {},
   "outputs": [
    {
     "data": {
      "text/plain": [
       "[1, 2, 3, 4, 5]"
      ]
     },
     "execution_count": 69,
     "metadata": {},
     "output_type": "execute_result"
    }
   ],
   "source": [
    "l(1,2, 3, 4, 5)"
   ]
  },
  {
   "cell_type": "code",
   "execution_count": 72,
   "id": "2c626d1a",
   "metadata": {},
   "outputs": [],
   "source": [
    "m = lambda *x: [i **2 for i in x] #list comprehension for a square using the lambda"
   ]
  },
  {
   "cell_type": "code",
   "execution_count": 71,
   "id": "cba49aca",
   "metadata": {},
   "outputs": [
    {
     "data": {
      "text/plain": [
       "[1, 4, 9, 16, 25]"
      ]
     },
     "execution_count": 71,
     "metadata": {},
     "output_type": "execute_result"
    }
   ],
   "source": [
    "m(1, 2, 3, 4,5)"
   ]
  },
  {
   "cell_type": "code",
   "execution_count": 73,
   "id": "66169698",
   "metadata": {},
   "outputs": [
    {
     "ename": "SyntaxError",
     "evalue": "invalid syntax (542049652.py, line 2)",
     "output_type": "error",
     "traceback": [
      "\u001b[0;36m  File \u001b[0;32m\"/var/folders/fv/7d20d0s14s5777d0m1bngrcw0000gp/T/ipykernel_6266/542049652.py\"\u001b[0;36m, line \u001b[0;32m2\u001b[0m\n\u001b[0;31m    count(*)\u001b[0m\n\u001b[0m           ^\u001b[0m\n\u001b[0;31mSyntaxError\u001b[0m\u001b[0;31m:\u001b[0m invalid syntax\n"
     ]
    }
   ],
   "source": [
    "def test10(**kwargs):\n",
    "    count(*)"
   ]
  },
  {
   "cell_type": "code",
   "execution_count": 83,
   "id": "90152195",
   "metadata": {},
   "outputs": [],
   "source": [
    "#to count number of keys in dict\n",
    "def test10(**kwargs): \n",
    "    count = 0\n",
    "    print(kwargs)\n",
    "    print(kwargs.values())\n",
    "    for v in kwargs.values():\n",
    "        if type(v) == str or type(v) == list:\n",
    "            count +=1\n",
    "    return count"
   ]
  },
  {
   "cell_type": "code",
   "execution_count": 84,
   "id": "0174a970",
   "metadata": {},
   "outputs": [
    {
     "name": "stdout",
     "output_type": "stream",
     "text": [
      "{'a': 1, 'b': 'rajat', 'c': 12, 'd': 'jaiswal', 'e': [1, 2, 3, 4, 'hello']}\n",
      "dict_values([1, 'rajat', 12, 'jaiswal', [1, 2, 3, 4, 'hello']])\n"
     ]
    },
    {
     "data": {
      "text/plain": [
       "3"
      ]
     },
     "execution_count": 84,
     "metadata": {},
     "output_type": "execute_result"
    }
   ],
   "source": [
    "test10(a=1, b='rajat', c = 12, d='jaiswal', e = [1,2,3,4, \"hello\"])"
   ]
  },
  {
   "cell_type": "code",
   "execution_count": 85,
   "id": "c4a5a681",
   "metadata": {},
   "outputs": [
    {
     "name": "stdout",
     "output_type": "stream",
     "text": [
      "{'a': 1, 'b': 'rajat', 'c': 12, 'd': 'jaiswal', 'e': [1, 2, 3, 4, 'hello']}\n",
      "dict_values([1, 'rajat', 12, 'jaiswal', [1, 2, 3, 4, 'hello']])\n"
     ]
    },
    {
     "data": {
      "text/plain": [
       "3"
      ]
     },
     "execution_count": 85,
     "metadata": {},
     "output_type": "execute_result"
    }
   ],
   "source": [
    "test10(a=1, b='rajat', c = 12, d='jaiswal', e = [1,2,3,4, \"hello\"])"
   ]
  },
  {
   "cell_type": "code",
   "execution_count": 86,
   "id": "344ab42a",
   "metadata": {},
   "outputs": [],
   "source": [
    "def test11(**kwargs):\n",
    "    return list(kwargs.values())"
   ]
  },
  {
   "cell_type": "code",
   "execution_count": 87,
   "id": "50fe3d9b",
   "metadata": {},
   "outputs": [
    {
     "data": {
      "text/plain": [
       "[1, 'rajat', 12, 'jaiswal', [1, 2, 3, 4, 'hello']]"
      ]
     },
     "execution_count": 87,
     "metadata": {},
     "output_type": "execute_result"
    }
   ],
   "source": [
    "test11(a=1, b='rajat', c = 12, d='jaiswal', e = [1,2,3,4, \"hello\"])"
   ]
  },
  {
   "cell_type": "code",
   "execution_count": null,
   "id": "2342944f",
   "metadata": {},
   "outputs": [],
   "source": []
  }
 ],
 "metadata": {
  "kernelspec": {
   "display_name": "Python 3 (ipykernel)",
   "language": "python",
   "name": "python3"
  },
  "language_info": {
   "codemirror_mode": {
    "name": "ipython",
    "version": 3
   },
   "file_extension": ".py",
   "mimetype": "text/x-python",
   "name": "python",
   "nbconvert_exporter": "python",
   "pygments_lexer": "ipython3",
   "version": "3.9.7"
  }
 },
 "nbformat": 4,
 "nbformat_minor": 5
}
