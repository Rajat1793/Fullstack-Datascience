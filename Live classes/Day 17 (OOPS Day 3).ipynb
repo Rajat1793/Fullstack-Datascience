{
 "cells": [
  {
   "cell_type": "markdown",
   "id": "b6e771a4",
   "metadata": {},
   "source": [
    "## Inheritance"
   ]
  },
  {
   "cell_type": "code",
   "execution_count": 1,
   "id": "6e3dba7d",
   "metadata": {},
   "outputs": [
    {
     "name": "stdout",
     "output_type": "stream",
     "text": [
      "<__main__.Tata object at 0x7f80c8a253a0>\n",
      "Sedan\n",
      "Inside the mileage class\n",
      "None\n"
     ]
    }
   ],
   "source": [
    "#inheritance\n",
    "\n",
    "class Car:\n",
    "    def __init__(self, body, engine, tyre):\n",
    "        self.body =  body\n",
    "        self.engine = engine\n",
    "        self.tyre = tyre\n",
    "\n",
    "    def mileage(self):\n",
    "        print(\"Inside the mileage class\")\n",
    "\n",
    "class Tata(Car):\n",
    "    pass\n",
    "\n",
    "t = Tata('Sedan', 'itech','radial')\n",
    "print(t)\n",
    "print(t.body)\n",
    "print(t.mileage())\n",
    "\n"
   ]
  },
  {
   "cell_type": "markdown",
   "id": "d0de2c64",
   "metadata": {},
   "source": [
    "## Multilevel inheritance"
   ]
  },
  {
   "cell_type": "code",
   "execution_count": 2,
   "id": "57475012",
   "metadata": {},
   "outputs": [
    {
     "name": "stdout",
     "output_type": "stream",
     "text": [
      "inside bank account open\n",
      "inside bank transaction\n",
      "inside hdfc to icici\n",
      "None\n",
      "inside bank deposit\n",
      "inside bank transaction\n",
      "inside hdfc to icici\n",
      "None\n"
     ]
    }
   ],
   "source": [
    "#multilevel inheritance\n",
    "\n",
    "class Bank:\n",
    "    def transaction(self):\n",
    "        return (\"inside bank transaction\")\n",
    "    def account_open(self):\n",
    "        return(\"inside bank account open\")\n",
    "    def deposit(self):\n",
    "        return(\"inside bank deposit\")\n",
    "\n",
    "class hdfcbank(Bank):\n",
    "    def hdfc_to_icici(self):\n",
    "        print(\"inside hdfc to icici\")\n",
    "\n",
    "class icici(hdfcbank):\n",
    "    pass\n",
    "\n",
    "i = icici()\n",
    "h = hdfcbank()\n",
    "print(i.account_open())\n",
    "print(i.transaction())\n",
    "print(i.hdfc_to_icici())\n",
    "print( h.deposit())\n",
    "print(h.transaction())\n",
    "print(h.hdfc_to_icici())\n",
    "\n"
   ]
  },
  {
   "cell_type": "markdown",
   "id": "bec335be",
   "metadata": {},
   "source": [
    "## Multiple inheritance"
   ]
  },
  {
   "cell_type": "code",
   "execution_count": 3,
   "id": "c01e681d",
   "metadata": {},
   "outputs": [
    {
     "name": "stdout",
     "output_type": "stream",
     "text": [
      "inside bank transaction\n",
      "inside hdfc to icici\n",
      "Inside the hdfc bank  test\n",
      "inside bank transaction\n",
      "inside hdfc to icici\n",
      "Inside the bank test\n",
      "inside hdfc to icici\n",
      "Inside the bank test\n",
      "inside rajat bank\n"
     ]
    }
   ],
   "source": [
    "#multiple inheritance\n",
    "\n",
    "class Bank:\n",
    "    def transaction(self):\n",
    "        return (\"inside bank transaction\")\n",
    "    def account_open(self):\n",
    "        return(\"inside bank account open\")\n",
    "    def deposit(self):\n",
    "        return(\"inside bank deposit\")\n",
    "    def test(self):\n",
    "        return(\"Inside the bank test\")\n",
    "\n",
    "class hdfcbank:\n",
    "    def hdfc_to_icici(self):\n",
    "        return(\"inside hdfc to icici\")\n",
    "    def test(self):\n",
    "        return(\"Inside the hdfc bank  test\")\n",
    "\n",
    "class rajatbank:\n",
    "    def account(self):\n",
    "        return(\"inside rajat bank\")\n",
    "\n",
    "class icici(hdfcbank, Bank):\n",
    "    pass\n",
    "\n",
    "class icici1(Bank, hdfcbank):\n",
    "    pass\n",
    "\n",
    "class icici2(Bank, hdfcbank, rajatbank):\n",
    "    pass\n",
    "\n",
    "i = icici()\n",
    "print(i.transaction())\n",
    "print(i.hdfc_to_icici())\n",
    "print(i.test())\n",
    "\n",
    "j = icici1()\n",
    "print(j.transaction())\n",
    "print(j.hdfc_to_icici())\n",
    "print(j.test())\n",
    "\n",
    "k = icici2()\n",
    "print(k.hdfc_to_icici())\n",
    "print(k.test())\n",
    "print(k.account())\n"
   ]
  },
  {
   "cell_type": "markdown",
   "id": "b753c99c",
   "metadata": {},
   "source": [
    "## Method overriding"
   ]
  },
  {
   "cell_type": "code",
   "execution_count": 4,
   "id": "3986ecf6",
   "metadata": {},
   "outputs": [
    {
     "name": "stdout",
     "output_type": "stream",
     "text": [
      "inside the student function inside tution class\n",
      "rajat\n"
     ]
    }
   ],
   "source": [
    "#method overriding\n",
    "\n",
    "class school:\n",
    "    student1 = 'rajat'\n",
    "    def student(self):\n",
    "        return (\"inside the student funtion inside school class\")\n",
    "    def active(self):\n",
    "        return(\"inside the active\")\n",
    "    def inactive(self):\n",
    "        return(\"inside the inactive\")\n",
    "\n",
    "class tution(school):\n",
    "    def student(self):\n",
    "        return(\"inside the student function inside tution class\")\n",
    "\n",
    "t = tution()\n",
    "\n",
    "print(t.student())\n",
    "print(t.student1)"
   ]
  },
  {
   "cell_type": "markdown",
   "id": "ad6ccef9",
   "metadata": {},
   "source": [
    "## Data abstraction/ data hiding"
   ]
  },
  {
   "cell_type": "code",
   "execution_count": 5,
   "id": "ccc221fb",
   "metadata": {},
   "outputs": [
    {
     "name": "stdout",
     "output_type": "stream",
     "text": [
      "inside the class of student  data science\n",
      "data science\n"
     ]
    }
   ],
   "source": [
    "# data abstraction/ data hiding\n",
    "\n",
    "class Student:\n",
    "    __subject = \"data science\"\n",
    "\n",
    "    def stud(self):\n",
    "        print(\"inside the class of student \", Student.__subject)\n",
    "\n",
    "\n",
    "i = Student()\n",
    "i.stud()\n",
    "print(i._Student__subject)\n",
    "\n",
    "\n"
   ]
  },
  {
   "cell_type": "markdown",
   "id": "86420c18",
   "metadata": {},
   "source": [
    "## Encapsulation"
   ]
  },
  {
   "cell_type": "code",
   "execution_count": 6,
   "id": "4761436d",
   "metadata": {},
   "outputs": [
    {
     "name": "stdout",
     "output_type": "stream",
     "text": [
      "data science\n",
      "data analytics\n",
      "data business\n",
      "data business\n",
      "big data\n",
      "big data change\n"
     ]
    }
   ],
   "source": [
    "#encapsulation\n",
    "\n",
    "class Student:\n",
    "    def __init__(self):\n",
    "        self.subject = \"data science\"\n",
    "\n",
    "    def stud(self):\n",
    "        print(self.subject)\n",
    "\n",
    "s = Student()\n",
    "s.stud()\n",
    "s.subject = \"data analytics\"\n",
    "s.stud()\n",
    "\n",
    "\n",
    "# protected variable cant be changed by creating the object\n",
    "class Student1:\n",
    "    def __init__(self):\n",
    "        self.__subject = \"data business\"\n",
    "\n",
    "    def stud(self):\n",
    "        print(self.__subject)\n",
    "\n",
    "s1 = Student1()\n",
    "s1.stud()\n",
    "s1.subject = \"data opertation\"\n",
    "s1.stud()\n",
    "\n",
    "#changing the value of a protected variable using the function\n",
    "class Student2:\n",
    "    def __init__(self):\n",
    "        self.__subject = \"big data\"\n",
    "\n",
    "    def stud(self):\n",
    "        print(self.__subject)\n",
    "\n",
    "    def stud_change(self, new_value):\n",
    "        self.__subject = new_value\n",
    "\n",
    "s2 = Student2()\n",
    "s2.stud()\n",
    "s2.stud_change(\"big data change\")\n",
    "s2.stud()\n"
   ]
  },
  {
   "cell_type": "markdown",
   "id": "30d60401",
   "metadata": {},
   "source": [
    "## Polymorphism"
   ]
  },
  {
   "cell_type": "code",
   "execution_count": 7,
   "id": "2e24a3b9",
   "metadata": {},
   "outputs": [
    {
     "name": "stdout",
     "output_type": "stream",
     "text": [
      "inside school student\n",
      "inside tution student\n"
     ]
    }
   ],
   "source": [
    "#polymorphism\n",
    "\n",
    "class School():\n",
    "    def student(self):\n",
    "        print(\"inside school student\")\n",
    "\n",
    "class Tution():\n",
    "    def student(self):\n",
    "        print(\"inside tution student\")\n",
    "\n",
    "def SchoolTution(a):\n",
    "    a.student()\n",
    "\n",
    "i = School()\n",
    "j = Tution()\n",
    "SchoolTution(i)\n",
    "SchoolTution(j)"
   ]
  },
  {
   "cell_type": "code",
   "execution_count": null,
   "id": "e2abec3f",
   "metadata": {},
   "outputs": [],
   "source": []
  }
 ],
 "metadata": {
  "kernelspec": {
   "display_name": "Python 3 (ipykernel)",
   "language": "python",
   "name": "python3"
  },
  "language_info": {
   "codemirror_mode": {
    "name": "ipython",
    "version": 3
   },
   "file_extension": ".py",
   "mimetype": "text/x-python",
   "name": "python",
   "nbconvert_exporter": "python",
   "pygments_lexer": "ipython3",
   "version": "3.9.7"
  }
 },
 "nbformat": 4,
 "nbformat_minor": 5
}
