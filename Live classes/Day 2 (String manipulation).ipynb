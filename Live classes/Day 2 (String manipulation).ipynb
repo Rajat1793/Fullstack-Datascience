{
 "cells": [
  {
   "cell_type": "code",
   "execution_count": 1,
   "id": "c005316c",
   "metadata": {},
   "outputs": [],
   "source": [
    "s = \"rajatjaiswal\""
   ]
  },
  {
   "cell_type": "code",
   "execution_count": 3,
   "id": "2ec81322",
   "metadata": {},
   "outputs": [
    {
     "data": {
      "text/plain": [
       "str"
      ]
     },
     "execution_count": 3,
     "metadata": {},
     "output_type": "execute_result"
    }
   ],
   "source": [
    "type(s)"
   ]
  },
  {
   "cell_type": "code",
   "execution_count": 4,
   "id": "31f7a6e2",
   "metadata": {},
   "outputs": [
    {
     "data": {
      "text/plain": [
       "'r'"
      ]
     },
     "execution_count": 4,
     "metadata": {},
     "output_type": "execute_result"
    }
   ],
   "source": [
    "s [0]"
   ]
  },
  {
   "cell_type": "code",
   "execution_count": 5,
   "id": "a09bd485",
   "metadata": {},
   "outputs": [
    {
     "data": {
      "text/plain": [
       "'j'"
      ]
     },
     "execution_count": 5,
     "metadata": {},
     "output_type": "execute_result"
    }
   ],
   "source": [
    "s[5]"
   ]
  },
  {
   "cell_type": "code",
   "execution_count": 6,
   "id": "2eecff9e",
   "metadata": {},
   "outputs": [
    {
     "data": {
      "text/plain": [
       "'w'"
      ]
     },
     "execution_count": 6,
     "metadata": {},
     "output_type": "execute_result"
    }
   ],
   "source": [
    "s[-3]"
   ]
  },
  {
   "cell_type": "code",
   "execution_count": 7,
   "id": "c97457f5",
   "metadata": {},
   "outputs": [
    {
     "ename": "SyntaxError",
     "evalue": "invalid syntax (560524003.py, line 1)",
     "output_type": "error",
     "traceback": [
      "\u001b[0;36m  File \u001b[0;32m\"/var/folders/fv/7d20d0s14s5777d0m1bngrcw0000gp/T/ipykernel_13992/560524003.py\"\u001b[0;36m, line \u001b[0;32m1\u001b[0m\n\u001b[0;31m    'rajatjasiswal's'\u001b[0m\n\u001b[0m                   ^\u001b[0m\n\u001b[0;31mSyntaxError\u001b[0m\u001b[0;31m:\u001b[0m invalid syntax\n"
     ]
    }
   ],
   "source": [
    "'rajatjasiswal's'"
   ]
  },
  {
   "cell_type": "code",
   "execution_count": 26,
   "id": "0e6b7c72",
   "metadata": {},
   "outputs": [],
   "source": [
    "a = \"rajatjaiswal\""
   ]
  },
  {
   "cell_type": "code",
   "execution_count": null,
   "id": "436c5c52",
   "metadata": {},
   "outputs": [],
   "source": []
  },
  {
   "cell_type": "code",
   "execution_count": 16,
   "id": "a66b2305",
   "metadata": {},
   "outputs": [
    {
     "data": {
      "text/plain": [
       "\"rajatjaiswal's is attending the FSDS class\""
      ]
     },
     "execution_count": 16,
     "metadata": {},
     "output_type": "execute_result"
    }
   ],
   "source": [
    "a"
   ]
  },
  {
   "cell_type": "code",
   "execution_count": 17,
   "id": "2d738f44",
   "metadata": {},
   "outputs": [
    {
     "data": {
      "text/plain": [
       "'s'"
      ]
     },
     "execution_count": 17,
     "metadata": {},
     "output_type": "execute_result"
    }
   ],
   "source": [
    "a[-2]"
   ]
  },
  {
   "cell_type": "code",
   "execution_count": 19,
   "id": "d9f8c9ce",
   "metadata": {},
   "outputs": [
    {
     "data": {
      "text/plain": [
       "\"atjaiswal's is at\""
      ]
     },
     "execution_count": 19,
     "metadata": {},
     "output_type": "execute_result"
    }
   ],
   "source": [
    "a[3:20]"
   ]
  },
  {
   "cell_type": "code",
   "execution_count": 21,
   "id": "296f8f9b",
   "metadata": {},
   "outputs": [
    {
     "data": {
      "text/plain": [
       "\"tasa' sa\""
      ]
     },
     "execution_count": 21,
     "metadata": {},
     "output_type": "execute_result"
    }
   ],
   "source": [
    "a[4:20:2]"
   ]
  },
  {
   "cell_type": "code",
   "execution_count": 23,
   "id": "395b0b57",
   "metadata": {},
   "outputs": [
    {
     "data": {
      "text/plain": [
       "''"
      ]
     },
     "execution_count": 23,
     "metadata": {},
     "output_type": "execute_result"
    }
   ],
   "source": [
    "a[2:20:-1]"
   ]
  },
  {
   "cell_type": "code",
   "execution_count": 25,
   "id": "304646d4",
   "metadata": {},
   "outputs": [
    {
     "data": {
      "text/plain": [
       "\"tta si s'lawsiajta\""
      ]
     },
     "execution_count": 25,
     "metadata": {},
     "output_type": "execute_result"
    }
   ],
   "source": [
    "a[20:2:-1]"
   ]
  },
  {
   "cell_type": "code",
   "execution_count": 27,
   "id": "badc96eb",
   "metadata": {},
   "outputs": [
    {
     "data": {
      "text/plain": [
       "'rajatjais'"
      ]
     },
     "execution_count": 27,
     "metadata": {},
     "output_type": "execute_result"
    }
   ],
   "source": [
    "a[:-3]"
   ]
  },
  {
   "cell_type": "code",
   "execution_count": 30,
   "id": "3a353750",
   "metadata": {},
   "outputs": [
    {
     "data": {
      "text/plain": [
       "'al'"
      ]
     },
     "execution_count": 30,
     "metadata": {},
     "output_type": "execute_result"
    }
   ],
   "source": [
    "a[-2:]"
   ]
  },
  {
   "cell_type": "code",
   "execution_count": 33,
   "id": "ee0e5151",
   "metadata": {},
   "outputs": [
    {
     "data": {
      "text/plain": [
       "'rjtasa'"
      ]
     },
     "execution_count": 33,
     "metadata": {},
     "output_type": "execute_result"
    }
   ],
   "source": [
    "a[::2]"
   ]
  },
  {
   "cell_type": "code",
   "execution_count": 35,
   "id": "fc81f669",
   "metadata": {},
   "outputs": [
    {
     "data": {
      "text/plain": [
       "'lawsiajtajar'"
      ]
     },
     "execution_count": 35,
     "metadata": {},
     "output_type": "execute_result"
    }
   ],
   "source": [
    "a[::-1]"
   ]
  },
  {
   "cell_type": "code",
   "execution_count": 38,
   "id": "446059f3",
   "metadata": {},
   "outputs": [
    {
     "data": {
      "text/plain": [
       "''"
      ]
     },
     "execution_count": 38,
     "metadata": {},
     "output_type": "execute_result"
    }
   ],
   "source": [
    "a[-2:-7:1]"
   ]
  },
  {
   "cell_type": "code",
   "execution_count": 39,
   "id": "c3be7aec",
   "metadata": {},
   "outputs": [
    {
     "data": {
      "text/plain": [
       "'jaisw'"
      ]
     },
     "execution_count": 39,
     "metadata": {},
     "output_type": "execute_result"
    }
   ],
   "source": [
    "a[-7:-2:1]"
   ]
  },
  {
   "cell_type": "code",
   "execution_count": 41,
   "id": "40ab6952",
   "metadata": {},
   "outputs": [
    {
     "data": {
      "text/plain": [
       "''"
      ]
     },
     "execution_count": 41,
     "metadata": {},
     "output_type": "execute_result"
    }
   ],
   "source": [
    "a[:-1:-1]"
   ]
  },
  {
   "cell_type": "code",
   "execution_count": 43,
   "id": "9e5c1970",
   "metadata": {},
   "outputs": [
    {
     "data": {
      "text/plain": [
       "'rajatjaiswa'"
      ]
     },
     "execution_count": 43,
     "metadata": {},
     "output_type": "execute_result"
    }
   ],
   "source": [
    "a[:-1:1]"
   ]
  },
  {
   "cell_type": "code",
   "execution_count": 45,
   "id": "4bb61da8",
   "metadata": {},
   "outputs": [
    {
     "data": {
      "text/plain": [
       "'rajatjaiswal1'"
      ]
     },
     "execution_count": 45,
     "metadata": {},
     "output_type": "execute_result"
    }
   ],
   "source": [
    "a + \"1\""
   ]
  },
  {
   "cell_type": "code",
   "execution_count": 47,
   "id": "6e772af2",
   "metadata": {},
   "outputs": [
    {
     "data": {
      "text/plain": [
       "'rajatjaiswal2'"
      ]
     },
     "execution_count": 47,
     "metadata": {},
     "output_type": "execute_result"
    }
   ],
   "source": [
    "a + str(2)"
   ]
  },
  {
   "cell_type": "code",
   "execution_count": 49,
   "id": "fb904565",
   "metadata": {},
   "outputs": [
    {
     "data": {
      "text/plain": [
       "12"
      ]
     },
     "execution_count": 49,
     "metadata": {},
     "output_type": "execute_result"
    }
   ],
   "source": [
    "len(a)"
   ]
  },
  {
   "cell_type": "code",
   "execution_count": 51,
   "id": "7b4b92c8",
   "metadata": {},
   "outputs": [
    {
     "data": {
      "text/plain": [
       "'rajatjaiswalrajatjaiswal'"
      ]
     },
     "execution_count": 51,
     "metadata": {},
     "output_type": "execute_result"
    }
   ],
   "source": [
    "a * 2"
   ]
  },
  {
   "cell_type": "code",
   "execution_count": 58,
   "id": "130cdb2a",
   "metadata": {},
   "outputs": [
    {
     "data": {
      "text/plain": [
       "4"
      ]
     },
     "execution_count": 58,
     "metadata": {},
     "output_type": "execute_result"
    }
   ],
   "source": [
    "a.count('a')"
   ]
  },
  {
   "cell_type": "code",
   "execution_count": 61,
   "id": "4383f39a",
   "metadata": {},
   "outputs": [
    {
     "data": {
      "text/plain": [
       "['r', 'j', 'tj', 'isw', 'l']"
      ]
     },
     "execution_count": 61,
     "metadata": {},
     "output_type": "execute_result"
    }
   ],
   "source": [
    "a.split('a')"
   ]
  },
  {
   "cell_type": "code",
   "execution_count": 65,
   "id": "9c400eb2",
   "metadata": {},
   "outputs": [],
   "source": [
    "py = '''Python is dynamically-typed and garbage-collected. It supports multiple programming paradigms, including structured (particularly procedural), object-oriented and functional programming. It is often described as a \"batteries included\" language due to its comprehensive standard library.[31][32]'''"
   ]
  },
  {
   "cell_type": "code",
   "execution_count": 66,
   "id": "57d97619",
   "metadata": {},
   "outputs": [
    {
     "data": {
      "text/plain": [
       "'Python is dynamically-typed and garbage-collected. It supports multiple programming paradigms, including structured (particularly procedural), object-oriented and functional programming. It is often described as a \"batteries included\" language due to its comprehensive standard library.[31][32]'"
      ]
     },
     "execution_count": 66,
     "metadata": {},
     "output_type": "execute_result"
    }
   ],
   "source": [
    "py"
   ]
  },
  {
   "cell_type": "code",
   "execution_count": 68,
   "id": "19554c0d",
   "metadata": {},
   "outputs": [
    {
     "data": {
      "text/plain": [
       "['Python',\n",
       " 'is',\n",
       " 'dynamically-typed',\n",
       " 'and',\n",
       " 'garbage-collected.',\n",
       " 'It',\n",
       " 'supports',\n",
       " 'multiple',\n",
       " 'programming',\n",
       " 'paradigms,',\n",
       " 'including',\n",
       " 'structured',\n",
       " '(particularly',\n",
       " 'procedural),',\n",
       " 'object-oriented',\n",
       " 'and',\n",
       " 'functional',\n",
       " 'programming.',\n",
       " 'It',\n",
       " 'is',\n",
       " 'often',\n",
       " 'described',\n",
       " 'as',\n",
       " 'a',\n",
       " '\"batteries',\n",
       " 'included\"',\n",
       " 'language',\n",
       " 'due',\n",
       " 'to',\n",
       " 'its',\n",
       " 'comprehensive',\n",
       " 'standard',\n",
       " 'library.[31][32]']"
      ]
     },
     "execution_count": 68,
     "metadata": {},
     "output_type": "execute_result"
    }
   ],
   "source": [
    "py.split(' ')"
   ]
  },
  {
   "cell_type": "code",
   "execution_count": 70,
   "id": "fbe2f3eb",
   "metadata": {},
   "outputs": [
    {
     "data": {
      "text/plain": [
       "'PYTHON IS DYNAMICALLY-TYPED AND GARBAGE-COLLECTED. IT SUPPORTS MULTIPLE PROGRAMMING PARADIGMS, INCLUDING STRUCTURED (PARTICULARLY PROCEDURAL), OBJECT-ORIENTED AND FUNCTIONAL PROGRAMMING. IT IS OFTEN DESCRIBED AS A \"BATTERIES INCLUDED\" LANGUAGE DUE TO ITS COMPREHENSIVE STANDARD LIBRARY.[31][32]'"
      ]
     },
     "execution_count": 70,
     "metadata": {},
     "output_type": "execute_result"
    }
   ],
   "source": [
    "py.upper()"
   ]
  },
  {
   "cell_type": "code",
   "execution_count": 72,
   "id": "55c963a3",
   "metadata": {},
   "outputs": [
    {
     "data": {
      "text/plain": [
       "['PYTHON',\n",
       " 'IS',\n",
       " 'DYNAMICALLY-TYPED',\n",
       " 'AND',\n",
       " 'GARBAGE-COLLECTED.',\n",
       " 'IT',\n",
       " 'SUPPORTS',\n",
       " 'MULTIPLE',\n",
       " 'PROGRAMMING',\n",
       " 'PARADIGMS,',\n",
       " 'INCLUDING',\n",
       " 'STRUCTURED',\n",
       " '(PARTICULARLY',\n",
       " 'PROCEDURAL),',\n",
       " 'OBJECT-ORIENTED',\n",
       " 'AND',\n",
       " 'FUNCTIONAL',\n",
       " 'PROGRAMMING.',\n",
       " 'IT',\n",
       " 'IS',\n",
       " 'OFTEN',\n",
       " 'DESCRIBED',\n",
       " 'AS',\n",
       " 'A',\n",
       " '\"BATTERIES',\n",
       " 'INCLUDED\"',\n",
       " 'LANGUAGE',\n",
       " 'DUE',\n",
       " 'TO',\n",
       " 'ITS',\n",
       " 'COMPREHENSIVE',\n",
       " 'STANDARD',\n",
       " 'LIBRARY.[31][32]']"
      ]
     },
     "execution_count": 72,
     "metadata": {},
     "output_type": "execute_result"
    }
   ],
   "source": [
    "py.upper().split(' ')"
   ]
  },
  {
   "cell_type": "code",
   "execution_count": 77,
   "id": "18c8a307",
   "metadata": {},
   "outputs": [
    {
     "data": {
      "text/plain": [
       "'Rajatjaiswal'"
      ]
     },
     "execution_count": 77,
     "metadata": {},
     "output_type": "execute_result"
    }
   ],
   "source": [
    "a.title()"
   ]
  },
  {
   "cell_type": "code",
   "execution_count": 79,
   "id": "06c5cbb7",
   "metadata": {},
   "outputs": [],
   "source": [
    "a = 'rajat jaiswal'"
   ]
  },
  {
   "cell_type": "code",
   "execution_count": 81,
   "id": "8758a484",
   "metadata": {},
   "outputs": [
    {
     "data": {
      "text/plain": [
       "'Rajat Jaiswal'"
      ]
     },
     "execution_count": 81,
     "metadata": {},
     "output_type": "execute_result"
    }
   ],
   "source": [
    "a.title()"
   ]
  },
  {
   "cell_type": "code",
   "execution_count": 83,
   "id": "11e55f77",
   "metadata": {},
   "outputs": [
    {
     "data": {
      "text/plain": [
       "'Rajat jaiswal'"
      ]
     },
     "execution_count": 83,
     "metadata": {},
     "output_type": "execute_result"
    }
   ],
   "source": [
    "a.capitalize()"
   ]
  },
  {
   "cell_type": "code",
   "execution_count": 85,
   "id": "17412f2b",
   "metadata": {},
   "outputs": [
    {
     "data": {
      "text/plain": [
       "'RAJAT JAISWAL'"
      ]
     },
     "execution_count": 85,
     "metadata": {},
     "output_type": "execute_result"
    }
   ],
   "source": [
    "a.swapcase()"
   ]
  },
  {
   "cell_type": "code",
   "execution_count": 90,
   "id": "fdacd89f",
   "metadata": {},
   "outputs": [
    {
     "data": {
      "text/plain": [
       "<reversed at 0x7fa521d0c5e0>"
      ]
     },
     "execution_count": 90,
     "metadata": {},
     "output_type": "execute_result"
    }
   ],
   "source": [
    "reversed(a)"
   ]
  },
  {
   "cell_type": "code",
   "execution_count": 91,
   "id": "9f8ad831",
   "metadata": {},
   "outputs": [
    {
     "data": {
      "text/plain": [
       "'l a w s i a j   t a j a r'"
      ]
     },
     "execution_count": 91,
     "metadata": {},
     "output_type": "execute_result"
    }
   ],
   "source": [
    "\" \".join(reversed(a))"
   ]
  },
  {
   "cell_type": "code",
   "execution_count": 102,
   "id": "d81e6163",
   "metadata": {},
   "outputs": [],
   "source": [
    "a = \"rajat jaiswal\""
   ]
  },
  {
   "cell_type": "code",
   "execution_count": 97,
   "id": "c39fe688",
   "metadata": {},
   "outputs": [
    {
     "data": {
      "text/plain": [
       "'Python is dynamically-typed and garbage-collected. It supports multiple programming paradigms, including structured (particularly procedural), object-oriented and functional programming. It is often described as a \"batteries included\" language due to its comprehensive standard library.[31][32'"
      ]
     },
     "execution_count": 97,
     "metadata": {},
     "output_type": "execute_result"
    }
   ],
   "source": [
    "py.strip('[ ]')"
   ]
  },
  {
   "cell_type": "code",
   "execution_count": 99,
   "id": "b5bebe0a",
   "metadata": {},
   "outputs": [
    {
     "data": {
      "text/plain": [
       "' ! !r!a!j!a!t! ! ! !j!a!i!s!w!a!l! ! ! '"
      ]
     },
     "execution_count": 99,
     "metadata": {},
     "output_type": "execute_result"
    }
   ],
   "source": [
    "\"!\".join(a)"
   ]
  },
  {
   "cell_type": "code",
   "execution_count": 103,
   "id": "9e519145",
   "metadata": {},
   "outputs": [
    {
     "data": {
      "text/plain": [
       "'!!!!!!!!!!!!!!!!!!rajat jaiswal!!!!!!!!!!!!!!!!!!!'"
      ]
     },
     "execution_count": 103,
     "metadata": {},
     "output_type": "execute_result"
    }
   ],
   "source": [
    "a.center(50, '!')"
   ]
  },
  {
   "cell_type": "code",
   "execution_count": 105,
   "id": "a15f4c9b",
   "metadata": {},
   "outputs": [
    {
     "data": {
      "text/plain": [
       "True"
      ]
     },
     "execution_count": 105,
     "metadata": {},
     "output_type": "execute_result"
    }
   ],
   "source": [
    "a.islower()"
   ]
  },
  {
   "cell_type": "code",
   "execution_count": 107,
   "id": "9a32e52a",
   "metadata": {},
   "outputs": [
    {
     "data": {
      "text/plain": [
       "False"
      ]
     },
     "execution_count": 107,
     "metadata": {},
     "output_type": "execute_result"
    }
   ],
   "source": [
    "a.isspace()"
   ]
  },
  {
   "cell_type": "code",
   "execution_count": 109,
   "id": "60c9ba5d",
   "metadata": {},
   "outputs": [],
   "source": [
    "b = \"sadas3232\""
   ]
  },
  {
   "cell_type": "code",
   "execution_count": 111,
   "id": "cdfc5889",
   "metadata": {},
   "outputs": [
    {
     "data": {
      "text/plain": [
       "False"
      ]
     },
     "execution_count": 111,
     "metadata": {},
     "output_type": "execute_result"
    }
   ],
   "source": [
    "b.isdigit()"
   ]
  },
  {
   "cell_type": "code",
   "execution_count": 113,
   "id": "b0ca20f5",
   "metadata": {},
   "outputs": [
    {
     "data": {
      "text/plain": [
       "False"
      ]
     },
     "execution_count": 113,
     "metadata": {},
     "output_type": "execute_result"
    }
   ],
   "source": [
    "b.isnumeric()"
   ]
  },
  {
   "cell_type": "code",
   "execution_count": 115,
   "id": "7c228347",
   "metadata": {},
   "outputs": [
    {
     "data": {
      "text/plain": [
       "True"
      ]
     },
     "execution_count": 115,
     "metadata": {},
     "output_type": "execute_result"
    }
   ],
   "source": [
    "b.isalnum()"
   ]
  },
  {
   "cell_type": "code",
   "execution_count": 117,
   "id": "dcf4a556",
   "metadata": {},
   "outputs": [
    {
     "data": {
      "text/plain": [
       "True"
      ]
     },
     "execution_count": 117,
     "metadata": {},
     "output_type": "execute_result"
    }
   ],
   "source": [
    "a.startswith('r')"
   ]
  },
  {
   "cell_type": "code",
   "execution_count": 119,
   "id": "02ed26d4",
   "metadata": {},
   "outputs": [
    {
     "data": {
      "text/plain": [
       "False"
      ]
     },
     "execution_count": 119,
     "metadata": {},
     "output_type": "execute_result"
    }
   ],
   "source": [
    "a.startswith('R')"
   ]
  },
  {
   "cell_type": "code",
   "execution_count": 120,
   "id": "1717c591",
   "metadata": {},
   "outputs": [
    {
     "data": {
      "text/plain": [
       "True"
      ]
     },
     "execution_count": 120,
     "metadata": {},
     "output_type": "execute_result"
    }
   ],
   "source": [
    "a.isascii()"
   ]
  },
  {
   "cell_type": "code",
   "execution_count": null,
   "id": "3642fcdd",
   "metadata": {},
   "outputs": [],
   "source": []
  }
 ],
 "metadata": {
  "kernelspec": {
   "display_name": "Python 3 (ipykernel)",
   "language": "python",
   "name": "python3"
  },
  "language_info": {
   "codemirror_mode": {
    "name": "ipython",
    "version": 3
   },
   "file_extension": ".py",
   "mimetype": "text/x-python",
   "name": "python",
   "nbconvert_exporter": "python",
   "pygments_lexer": "ipython3",
   "version": "3.9.7"
  }
 },
 "nbformat": 4,
 "nbformat_minor": 5
}
