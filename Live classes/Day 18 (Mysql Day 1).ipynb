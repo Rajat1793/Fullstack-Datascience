{
 "cells": [
  {
   "cell_type": "code",
   "execution_count": 1,
   "id": "458c3c8b",
   "metadata": {},
   "outputs": [
    {
     "name": "stdout",
     "output_type": "stream",
     "text": [
      "<mysql.connector.connection.MySQLConnection object at 0x7f8c895d2d00>\n",
      "[('rajat jaiswal', 'raj@gmail.com'), ('rajat jaiswal', 'raj@gmail.com'), ('rajat jaiswal', 'raj@gmail.com'), ('rajat jaiswal', 'raj@gmail.com')]\n",
      "<class 'tuple'>\n"
     ]
    }
   ],
   "source": [
    "import mysql.connector as conn\n",
    "\n",
    "mydb = conn.connect(host=\"localhost\", user=\"root\", password=\"rootroot\")  # to establish the databases\n",
    "print(mydb)\n",
    "cursor = mydb.cursor()  # to create a cursor in database\n",
    "# cursor.execute(\"create database student\")\n",
    "# cursor.execute(\"show databases\")  # to execute the queries in db\n",
    "# print(cursor.fetchall())  # to fetch all the data from database\n",
    "\n",
    "# cursor.execute(\"create table student.details(stud_id int(10), name varchar(20), email varchar(30), class varchar(10), phone_number int(10))\")\n",
    "\n",
    "# cursor.execute(\"select * from student.details\")\n",
    "\n",
    "# q1 = \"insert into student.details values(01,'rajat jaiswal','raj@gmail.com','2',1234567);\"\n",
    "# cursor.execute(q1)\n",
    "# mydb.commit()\n",
    "cursor.execute(\"select name, email from student.details\")\n",
    "\n",
    "l = []\n",
    "for i in cursor.fetchall():\n",
    "    l.append(i)\n",
    "\n",
    "print(l)\n",
    "print(type(l[0]))"
   ]
  },
  {
   "cell_type": "code",
   "execution_count": null,
   "id": "227b5b93",
   "metadata": {},
   "outputs": [],
   "source": []
  }
 ],
 "metadata": {
  "kernelspec": {
   "display_name": "Python 3 (ipykernel)",
   "language": "python",
   "name": "python3"
  },
  "language_info": {
   "codemirror_mode": {
    "name": "ipython",
    "version": 3
   },
   "file_extension": ".py",
   "mimetype": "text/x-python",
   "name": "python",
   "nbconvert_exporter": "python",
   "pygments_lexer": "ipython3",
   "version": "3.9.12"
  }
 },
 "nbformat": 4,
 "nbformat_minor": 5
}
