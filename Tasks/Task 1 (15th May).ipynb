{
 "cells": [
  {
   "cell_type": "code",
   "execution_count": 1,
   "id": "ccc68ea8",
   "metadata": {},
   "outputs": [
    {
     "ename": "SyntaxError",
     "evalue": "invalid syntax (1134528296.py, line 2)",
     "output_type": "error",
     "traceback": [
      "\u001b[0;36m  File \u001b[0;32m\"/var/folders/fv/7d20d0s14s5777d0m1bngrcw0000gp/T/ipykernel_35307/1134528296.py\"\u001b[0;36m, line \u001b[0;32m2\u001b[0m\n\u001b[0;31m    1 . Try to extract data from index one to index 300 with a jump of 3\u001b[0m\n\u001b[0m            ^\u001b[0m\n\u001b[0;31mSyntaxError\u001b[0m\u001b[0;31m:\u001b[0m invalid syntax\n"
     ]
    }
   ],
   "source": [
    "s = \"this is My First Python programming class and i am learNING python string and its function\"\n",
    "1 . Try to extract data from index one to index 300 with a jump of 3 \n",
    "2. Try to reverse a string without using reverse function \n",
    "3. Try to split a string after conversion of entire string in uppercase \n",
    "4. try to convert the whole string into lower case \n",
    "5 . Try to capitalize the whole string \n",
    "6 . Write a diference between isalnum() and isalpha()\n",
    "7. Try to give an example of expand tab\n",
    "8 . Give an example of strip , lstrip and rstrip \n",
    "9.  Replace a string charecter by another charector by taking your own example \n",
    "\"sudhanshu\"\n",
    "10 . Try  to give a defination of string center function with and exmple \n",
    "11 . Write your own definition of compiler and interpretor without copy paste form internet in your own language\n",
    "12 . Python is a interpreted of compiled language give a clear ans with your understanding \n",
    "13 . Try to write a usecase of python with your understanding ."
   ]
  },
  {
   "cell_type": "code",
   "execution_count": 4,
   "id": "a8002deb",
   "metadata": {},
   "outputs": [],
   "source": [
    "s = \"this is My First Python programming class and i am learNING python string and its function\""
   ]
  },
  {
   "cell_type": "code",
   "execution_count": 5,
   "id": "b88326d7",
   "metadata": {},
   "outputs": [
    {
     "data": {
      "text/plain": [
       "'hiyrPoranl  maNynr   cn'"
      ]
     },
     "execution_count": 5,
     "metadata": {},
     "output_type": "execute_result"
    }
   ],
   "source": [
    "s[1:300:4]"
   ]
  },
  {
   "cell_type": "code",
   "execution_count": 6,
   "id": "4f3ac33a",
   "metadata": {},
   "outputs": [
    {
     "data": {
      "text/plain": [
       "'noitcnuf sti dna gnirts nohtyp GNINrael ma i dna ssalc gnimmargorp nohtyP tsriF yM si siht'"
      ]
     },
     "execution_count": 6,
     "metadata": {},
     "output_type": "execute_result"
    }
   ],
   "source": [
    "s[::-1]"
   ]
  },
  {
   "cell_type": "code",
   "execution_count": 12,
   "id": "a50ab891",
   "metadata": {},
   "outputs": [
    {
     "data": {
      "text/plain": [
       "['THIS',\n",
       " 'IS',\n",
       " 'MY',\n",
       " 'FIRST',\n",
       " 'PYTHON',\n",
       " 'PROGRAMMING',\n",
       " 'CLASS',\n",
       " 'AND',\n",
       " 'I',\n",
       " 'AM',\n",
       " 'LEARNING',\n",
       " 'PYTHON',\n",
       " 'STRING',\n",
       " 'AND',\n",
       " 'ITS',\n",
       " 'FUNCTION']"
      ]
     },
     "execution_count": 12,
     "metadata": {},
     "output_type": "execute_result"
    }
   ],
   "source": [
    "s.upper().split(' ')"
   ]
  },
  {
   "cell_type": "code",
   "execution_count": 13,
   "id": "9b6c560a",
   "metadata": {},
   "outputs": [
    {
     "data": {
      "text/plain": [
       "'this is my first python programming class and i am learning python string and its function'"
      ]
     },
     "execution_count": 13,
     "metadata": {},
     "output_type": "execute_result"
    }
   ],
   "source": [
    "s.lower()"
   ]
  },
  {
   "cell_type": "code",
   "execution_count": 14,
   "id": "cf49ae61",
   "metadata": {},
   "outputs": [
    {
     "data": {
      "text/plain": [
       "'This is my first python programming class and i am learning python string and its function'"
      ]
     },
     "execution_count": 14,
     "metadata": {},
     "output_type": "execute_result"
    }
   ],
   "source": [
    "s.capitalize()"
   ]
  },
  {
   "cell_type": "code",
   "execution_count": 15,
   "id": "0f3f3493",
   "metadata": {},
   "outputs": [
    {
     "ename": "SyntaxError",
     "evalue": "illegal target for annotation (3140697401.py, line 1)",
     "output_type": "error",
     "traceback": [
      "\u001b[0;36m  File \u001b[0;32m\"/var/folders/fv/7d20d0s14s5777d0m1bngrcw0000gp/T/ipykernel_35307/3140697401.py\"\u001b[0;36m, line \u001b[0;32m1\u001b[0m\n\u001b[0;31m    isalnum(): check if the characters present in the string are alphanumeric(combination of alphabets and numbers)\u001b[0m\n\u001b[0m    ^\u001b[0m\n\u001b[0;31mSyntaxError\u001b[0m\u001b[0;31m:\u001b[0m illegal target for annotation\n"
     ]
    }
   ],
   "source": [
    "isalnum(): check if the characters present in the string are alphanumeric(combination of alphabets and numbers) \n",
    "    and return true\n",
    "isalpha(): check if all the characters present in the string are alphabets and return true"
   ]
  },
  {
   "cell_type": "code",
   "execution_count": 18,
   "id": "a73fc11b",
   "metadata": {},
   "outputs": [],
   "source": [
    "s1 = \"hello\\tworld\""
   ]
  },
  {
   "cell_type": "code",
   "execution_count": 19,
   "id": "37b97f2c",
   "metadata": {},
   "outputs": [
    {
     "data": {
      "text/plain": [
       "'hello   world'"
      ]
     },
     "execution_count": 19,
     "metadata": {},
     "output_type": "execute_result"
    }
   ],
   "source": [
    "s1.expandtabs()"
   ]
  },
  {
   "cell_type": "code",
   "execution_count": 20,
   "id": "95a18ec6",
   "metadata": {},
   "outputs": [],
   "source": [
    "s2 = \"    hello.   world.   \""
   ]
  },
  {
   "cell_type": "code",
   "execution_count": 22,
   "id": "d46d1661",
   "metadata": {},
   "outputs": [
    {
     "data": {
      "text/plain": [
       "'hello.   world.'"
      ]
     },
     "execution_count": 22,
     "metadata": {},
     "output_type": "execute_result"
    }
   ],
   "source": [
    "s2.strip()"
   ]
  },
  {
   "cell_type": "code",
   "execution_count": 23,
   "id": "c61f95a1",
   "metadata": {},
   "outputs": [
    {
     "data": {
      "text/plain": [
       "'hello.   world.   '"
      ]
     },
     "execution_count": 23,
     "metadata": {},
     "output_type": "execute_result"
    }
   ],
   "source": [
    "s2.lstrip()"
   ]
  },
  {
   "cell_type": "code",
   "execution_count": 24,
   "id": "b1d6deb2",
   "metadata": {},
   "outputs": [
    {
     "data": {
      "text/plain": [
       "'    hello.   world.'"
      ]
     },
     "execution_count": 24,
     "metadata": {},
     "output_type": "execute_result"
    }
   ],
   "source": [
    "s2.rstrip()"
   ]
  },
  {
   "cell_type": "code",
   "execution_count": 32,
   "id": "0998406b",
   "metadata": {},
   "outputs": [],
   "source": [
    "s3 = 'rajat jaiswal'"
   ]
  },
  {
   "cell_type": "code",
   "execution_count": 33,
   "id": "6904815e",
   "metadata": {},
   "outputs": [
    {
     "data": {
      "text/plain": [
       "'r#j#t j#isw#l'"
      ]
     },
     "execution_count": 33,
     "metadata": {},
     "output_type": "execute_result"
    }
   ],
   "source": [
    "s3.replace('a', '#')"
   ]
  },
  {
   "cell_type": "code",
   "execution_count": 40,
   "id": "756c7c7a",
   "metadata": {},
   "outputs": [
    {
     "data": {
      "text/plain": [
       "'!!!rajat jaiswal!!!!'"
      ]
     },
     "execution_count": 40,
     "metadata": {},
     "output_type": "execute_result"
    }
   ],
   "source": [
    "s3.center(20, '!')"
   ]
  },
  {
   "cell_type": "raw",
   "id": "5055b669",
   "metadata": {},
   "source": [
    "center function cernter align the string with total string size specifed "
   ]
  },
  {
   "cell_type": "code",
   "execution_count": null,
   "id": "fc245bb8",
   "metadata": {},
   "outputs": [],
   "source": [
    "Compiler: Compiler analysis the whole codea at once and generate the bytecode, \n",
    "    it takes time to analyse the whole code while execution is faster\n",
    "Interpretter: Interpretter analysis the code line by line and dont generate the bytecode, \n",
    "    it analysis the code faster but the execution takes time"
   ]
  },
  {
   "cell_type": "code",
   "execution_count": null,
   "id": "bb054487",
   "metadata": {},
   "outputs": [],
   "source": [
    "Python code is first compiled then interpreted. compilation part of the code is hidden from the user, if we save\n",
    "the the code in notpad via .py extension and run the code via command prompt a new folder will be created with the \n",
    "bytecode if we run bytecode file using the python<bytecodefile> we will get the output for the code we have writtern"
   ]
  },
  {
   "cell_type": "code",
   "execution_count": null,
   "id": "c91e4d7b",
   "metadata": {},
   "outputs": [],
   "source": [
    "Python is used in data analytics, creating a web pages, creation of test script for the testing purpose"
   ]
  }
 ],
 "metadata": {
  "kernelspec": {
   "display_name": "Python 3 (ipykernel)",
   "language": "python",
   "name": "python3"
  },
  "language_info": {
   "codemirror_mode": {
    "name": "ipython",
    "version": 3
   },
   "file_extension": ".py",
   "mimetype": "text/x-python",
   "name": "python",
   "nbconvert_exporter": "python",
   "pygments_lexer": "ipython3",
   "version": "3.9.7"
  }
 },
 "nbformat": 4,
 "nbformat_minor": 5
}
