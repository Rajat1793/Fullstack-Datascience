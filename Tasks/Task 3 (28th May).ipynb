{
 "cells": [
  {
   "cell_type": "markdown",
   "id": "8eda8381",
   "metadata": {},
   "source": [
    "q1 :\n",
    "ineruon \n",
    "ineruon ineruon \n",
    "ineruon ineruon ineruon\n",
    "ineruon ineruon ineruon ineruon\n",
    "\n",
    "q2 - \n",
    "\n",
    "          ineruon\n",
    "    ineruon      ineruon\n",
    "ineruon\t\tineruon \tineruon\n",
    "\tineruon\t\t ineruon\n",
    "\t\t  ineruon\n",
    "\n",
    "l = [[1,2,3,4] , (2,3,4,5,6) , (3,4,5,6,7) , set([23,4,5,45,4,4,5,45,45,4,5]) , {'k1' :\"sudh\" , \"k2\" : \"ineuron\",\"k3\":\n",
    "            \"kumar\" , 3:6 , 7:8} , [\"ineuron\" , \"data science \"]]\n",
    "\n",
    "q3 : Try to extract all the list entity \n",
    "q4 : Try to extract all the dict enteties\n",
    "q5 : Try to extract all the tuples entities\n",
    "q6 : Try to extract all the numerical data it may b a part of dict key and values \n",
    "q7 : Try to give summation of all the numeric data \n",
    "q8 : Try to filter out all the odd values out all numeric data which is a part of a list \n",
    "q9 : Try to extract \"ineruon\" out of this data\n",
    "q10 :Try to find out a number of occurances of all the data \n",
    "q11 : Try to find out number of keys in dict element\n",
    "q12 : Try to filter out all the string data \n",
    "q13 : Try to Find  out alphanum in data\n",
    "q14 : Try to find out multiplication of all numeric value in  the individual collection inside dataset \n",
    "q15 : Try to unwrape all the collection inside collection and create a flat list \n",
    "    \n",
    "    \n",
    "before 29th may 2022 3 PM IST you have to send an answer to me or to shivan \n",
    "sudhanshu@ineuron.ai\n",
    "shivan@ineuron.ai"
   ]
  },
  {
   "cell_type": "raw",
   "id": "38c8b9ce",
   "metadata": {},
   "source": [
    "Q1 :\n",
    "ineruon\n",
    "\n",
    "ineruon ineruon\n",
    "\n",
    "ineruon ineruon ineruon\n",
    "\n",
    "ineruon ineruon ineruon ineruon\n"
   ]
  },
  {
   "cell_type": "code",
   "execution_count": 1,
   "id": "2497e6cf",
   "metadata": {},
   "outputs": [
    {
     "name": "stdout",
     "output_type": "stream",
     "text": [
      "ineuron \r\n",
      "ineuron ineuron \r\n",
      "ineuron ineuron ineuron \r\n",
      "ineuron ineuron ineuron ineuron \r\n"
     ]
    }
   ],
   "source": [
    "string = 'ineuron'\n",
    "n = 4\n",
    "for i in range(0, n):\n",
    "    for j in range(0, i+1):\n",
    "        print(string, end = ' ')\n",
    "    print('\\r')"
   ]
  },
  {
   "cell_type": "raw",
   "id": "a9b59e6b",
   "metadata": {},
   "source": [
    "Q2:\n",
    "\n",
    "          ineruon\n",
    "    ineruon      ineruon\n",
    "ineruon\t\tineruon \tineruon\n",
    "\tineruon\t\t ineruon\n",
    "\t\t  ineruon"
   ]
  },
  {
   "cell_type": "markdown",
   "id": "17f5710f",
   "metadata": {},
   "source": [
    "### Didn't get the logic right"
   ]
  },
  {
   "cell_type": "code",
   "execution_count": 2,
   "id": "c2b54179",
   "metadata": {},
   "outputs": [],
   "source": [
    "l = [[1,2,3,4] , (2,3,4,5,6) , (3,4,5,6,7) , set([23,4,5,45,4,4,5,45,45,4,5]) , {'k1' :\"sudh\" , \"k2\" : \"ineuron\",\"k3\":\n",
    "            \"kumar\" , 3:6 , 7:8} , [\"ineuron\" , \"data science \"]]"
   ]
  },
  {
   "cell_type": "markdown",
   "id": "3aaa497d",
   "metadata": {},
   "source": [
    "## q3 : Try to extract all the list entity "
   ]
  },
  {
   "cell_type": "code",
   "execution_count": 4,
   "id": "de48c09f",
   "metadata": {},
   "outputs": [
    {
     "name": "stdout",
     "output_type": "stream",
     "text": [
      "[0, 5]\n"
     ]
    }
   ],
   "source": [
    "l1 = []\n",
    "for i in range(len(l)):\n",
    "    if type(l[i]) == list:\n",
    "        l1.append(i)\n",
    "print(l1)"
   ]
  },
  {
   "cell_type": "code",
   "execution_count": 3,
   "id": "847d4876",
   "metadata": {},
   "outputs": [
    {
     "name": "stdout",
     "output_type": "stream",
     "text": [
      "1 2 3 4 ineuron data science  "
     ]
    }
   ],
   "source": [
    "for i in l:\n",
    "    if type(i) == list:\n",
    "        for j in i:\n",
    "            print(j, end = ' ')"
   ]
  },
  {
   "cell_type": "markdown",
   "id": "a739aa2a",
   "metadata": {},
   "source": [
    "## q4 : Try to extract all the dict enteties"
   ]
  },
  {
   "cell_type": "code",
   "execution_count": 5,
   "id": "c89a36f7",
   "metadata": {},
   "outputs": [
    {
     "name": "stdout",
     "output_type": "stream",
     "text": [
      "k1 k2 k3 3 7 "
     ]
    }
   ],
   "source": [
    "for i in l:\n",
    "    if type(i) == dict:\n",
    "        for j in i:\n",
    "            print(j, end = ' ')"
   ]
  },
  {
   "cell_type": "markdown",
   "id": "40ca8b95",
   "metadata": {},
   "source": [
    "## q5 : Try to extract all the tuples entities"
   ]
  },
  {
   "cell_type": "code",
   "execution_count": 6,
   "id": "364b8061",
   "metadata": {},
   "outputs": [
    {
     "name": "stdout",
     "output_type": "stream",
     "text": [
      "2 3 4 5 6 3 4 5 6 7 "
     ]
    }
   ],
   "source": [
    "for i in l:\n",
    "    if type(i) == tuple:\n",
    "        for j in i:\n",
    "            print(j, end = ' ')"
   ]
  },
  {
   "cell_type": "markdown",
   "id": "362a4ff9",
   "metadata": {},
   "source": [
    "## q6 : Try to extract all the numerical data it may b a part of dict key and values "
   ]
  },
  {
   "cell_type": "code",
   "execution_count": 7,
   "id": "6cab0b33",
   "metadata": {},
   "outputs": [
    {
     "name": "stdout",
     "output_type": "stream",
     "text": [
      "1 2 3 4 2 3 4 5 6 3 4 5 6 7 45 4 5 23 3 7 "
     ]
    }
   ],
   "source": [
    "for i in l:\n",
    "    if type(i) == list or type(i) == tuple or type(i) == dict or type(i) == set:\n",
    "        for j in i:\n",
    "            if type(j) == int:\n",
    "                print(j, end = ' ')"
   ]
  },
  {
   "cell_type": "markdown",
   "id": "9584f353",
   "metadata": {},
   "source": [
    "## q7 : Try to give summation of all the numeric data"
   ]
  },
  {
   "cell_type": "code",
   "execution_count": 49,
   "id": "9a7eccc1",
   "metadata": {},
   "outputs": [
    {
     "name": "stdout",
     "output_type": "stream",
     "text": [
      "1 2 3 4 2 3 4 5 6 3 4 5 6 7 45 4 5 23 3 7 \n",
      "Sum: 142\n"
     ]
    }
   ],
   "source": [
    "total = 0\n",
    "for i in l:\n",
    "    if type(i) == list or type(i) == tuple or type(i) == dict or type(i) == set:\n",
    "        for j in i:\n",
    "            if type(j) == int:\n",
    "                print(j, end = ' ')\n",
    "                total += j\n",
    "print('\\nSum:',total)"
   ]
  },
  {
   "cell_type": "markdown",
   "id": "4de36661",
   "metadata": {},
   "source": [
    "## q8 : Try to filter out all the odd values out all numeric data which is a part of a list "
   ]
  },
  {
   "cell_type": "code",
   "execution_count": 11,
   "id": "258cfd88",
   "metadata": {},
   "outputs": [
    {
     "name": "stdout",
     "output_type": "stream",
     "text": [
      "[2, 4, 2, 4, 6, 4, 6, 4]\n"
     ]
    }
   ],
   "source": [
    "new_list = []\n",
    "for i in l:\n",
    "    if type(i) == list or type(i) == tuple or type(i) == dict or type(i) == set:\n",
    "        for j in i:\n",
    "            if type(j) == int:\n",
    "                if j%2 == 0:\n",
    "                    new_list.append(j)\n",
    "print(new_list)"
   ]
  },
  {
   "cell_type": "markdown",
   "id": "97b7feab",
   "metadata": {},
   "source": [
    "## q9 : Try to extract \"ineruon\" out of this data"
   ]
  },
  {
   "cell_type": "code",
   "execution_count": 31,
   "id": "aae20199",
   "metadata": {},
   "outputs": [
    {
     "name": "stdout",
     "output_type": "stream",
     "text": [
      "k2\n",
      "ineuron\n",
      "k2\n",
      "ineuron\n",
      "k2\n",
      "ineuron\n",
      "k2\n",
      "ineuron\n",
      "k2\n",
      "ineuron\n",
      "ineuron\n"
     ]
    }
   ],
   "source": [
    "for i in l:\n",
    "        for j in i:\n",
    "            if j == 'ineuron':\n",
    "                print(j)\n",
    "            if type(i) == dict:\n",
    "                #print(i.items())\n",
    "                for k,v in i.items():\n",
    "                    if k == 'ineuron' or v == 'ineuron':\n",
    "                        print(k)\n",
    "                        print(v)"
   ]
  },
  {
   "cell_type": "markdown",
   "id": "e55eec89",
   "metadata": {},
   "source": [
    "## q10 :Try to find out a number of occurances of all the data "
   ]
  },
  {
   "cell_type": "code",
   "execution_count": 33,
   "id": "72ef7dd3",
   "metadata": {},
   "outputs": [
    {
     "name": "stdout",
     "output_type": "stream",
     "text": [
      "[1, 2, 3, 4] : 1\n",
      "(2, 3, 4, 5, 6) : 1\n",
      "(3, 4, 5, 6, 7) : 1\n",
      "{45, 4, 5, 23} : 1\n",
      "{'k1': 'sudh', 'k2': 'ineuron', 'k3': 'kumar', 3: 6, 7: 8} : 1\n",
      "['ineuron', 'data science '] : 1\n"
     ]
    }
   ],
   "source": [
    "for i in list(l):\n",
    "    print(i, \":\", l.count(i))"
   ]
  },
  {
   "cell_type": "markdown",
   "id": "18af9761",
   "metadata": {},
   "source": [
    "## q11 : Try to find out number of keys in dict element"
   ]
  },
  {
   "cell_type": "code",
   "execution_count": null,
   "id": "d9c617e6",
   "metadata": {},
   "outputs": [],
   "source": []
  },
  {
   "cell_type": "markdown",
   "id": "4dc8803d",
   "metadata": {},
   "source": [
    "## q12 : Try to filter out all the string data"
   ]
  },
  {
   "cell_type": "code",
   "execution_count": 46,
   "id": "60748b18",
   "metadata": {},
   "outputs": [
    {
     "name": "stdout",
     "output_type": "stream",
     "text": [
      "k1 k2 k3 ineuron data science  "
     ]
    }
   ],
   "source": [
    "for i in l:\n",
    "    if type(i) == list or type(i) == tuple or type(i) == dict or type(i) == set:\n",
    "        for j in i:\n",
    "            if type(j) == str:\n",
    "                print(j, end = ' ')\n",
    "            "
   ]
  },
  {
   "cell_type": "markdown",
   "id": "eefd282d",
   "metadata": {},
   "source": [
    "## q13 : Try to Find  out alphanum in data"
   ]
  },
  {
   "cell_type": "code",
   "execution_count": null,
   "id": "64a5e4f5",
   "metadata": {},
   "outputs": [],
   "source": []
  },
  {
   "cell_type": "markdown",
   "id": "00fbe7da",
   "metadata": {},
   "source": [
    "## q14 : Try to find out multiplication of all numeric value in  the individual collection inside dataset "
   ]
  },
  {
   "cell_type": "code",
   "execution_count": 51,
   "id": "4148c7a4",
   "metadata": {},
   "outputs": [
    {
     "name": "stdout",
     "output_type": "stream",
     "text": [
      "1 2 3 4 2 3 4 5 6 3 4 5 6 7 45 4 5 23 3 7 \n",
      "Sum: 0\n"
     ]
    }
   ],
   "source": []
  },
  {
   "cell_type": "markdown",
   "id": "d6ebbee4",
   "metadata": {},
   "source": [
    "## q15 : Try to unwrape all the collection inside collection and create a flat list "
   ]
  },
  {
   "cell_type": "code",
   "execution_count": 52,
   "id": "89986e8f",
   "metadata": {},
   "outputs": [
    {
     "data": {
      "text/plain": [
       "[[1, 2, 3, 4],\n",
       " (2, 3, 4, 5, 6),\n",
       " (3, 4, 5, 6, 7),\n",
       " {4, 5, 23, 45},\n",
       " {'k1': 'sudh', 'k2': 'ineuron', 'k3': 'kumar', 3: 6, 7: 8},\n",
       " ['ineuron', 'data science ']]"
      ]
     },
     "execution_count": 52,
     "metadata": {},
     "output_type": "execute_result"
    }
   ],
   "source": [
    "list(l)"
   ]
  },
  {
   "cell_type": "code",
   "execution_count": null,
   "id": "d82a1ea4",
   "metadata": {},
   "outputs": [],
   "source": []
  }
 ],
 "metadata": {
  "kernelspec": {
   "display_name": "Python 3 (ipykernel)",
   "language": "python",
   "name": "python3"
  },
  "language_info": {
   "codemirror_mode": {
    "name": "ipython",
    "version": 3
   },
   "file_extension": ".py",
   "mimetype": "text/x-python",
   "name": "python",
   "nbconvert_exporter": "python",
   "pygments_lexer": "ipython3",
   "version": "3.9.7"
  }
 },
 "nbformat": 4,
 "nbformat_minor": 5
}
