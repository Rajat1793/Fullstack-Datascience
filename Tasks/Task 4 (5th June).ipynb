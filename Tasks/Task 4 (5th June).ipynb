{
 "cells": [
  {
   "cell_type": "raw",
   "id": "d35e0024",
   "metadata": {},
   "source": [
    "q1 : Try to print a prime number in between 1 to 1000\n",
    "q2 : Try to write a function which  is equivalent  to print function in python\n",
    "q3 : Try to write a function which is a replica of list append , extend and pop function \n",
    "q4 : Try to write a lambda function which can return a concatination of all the string that we will pass\n",
    "q5 : Try to write a lambda function which can return list of square of all the data between 1-100 \n",
    "q6 : Try to write a 10 Different different example of lambda function with a choice of your taks \n",
    "q7 : Try to wwrite a funtion whihc can perform a read operation from .txt file "
   ]
  },
  {
   "cell_type": "markdown",
   "id": "ecb4f6d9",
   "metadata": {},
   "source": [
    "##  q1 : Try to print a prime number in between 1 to 1000"
   ]
  },
  {
   "cell_type": "code",
   "execution_count": 29,
   "id": "58a99010",
   "metadata": {},
   "outputs": [],
   "source": [
    "def prime_num(low, high):\n",
    "    prime_list = []\n",
    "    for i in range(low, high+1):\n",
    "        if i > 1:\n",
    "            #print(\"value of i: \", i)\n",
    "            for j in range(2, i):\n",
    "                if (i % j)== 0:\n",
    "                    #print(\"inside if\")\n",
    "                    break\n",
    "            else:\n",
    "                print(i)"
   ]
  },
  {
   "cell_type": "code",
   "execution_count": 30,
   "id": "a8a28ef9",
   "metadata": {},
   "outputs": [
    {
     "name": "stdout",
     "output_type": "stream",
     "text": [
      "2\n",
      "3\n",
      "5\n",
      "7\n",
      "11\n",
      "13\n",
      "17\n",
      "19\n",
      "23\n",
      "29\n",
      "31\n",
      "37\n",
      "41\n",
      "43\n",
      "47\n",
      "53\n",
      "59\n",
      "61\n",
      "67\n",
      "71\n",
      "73\n",
      "79\n",
      "83\n",
      "89\n",
      "97\n",
      "101\n",
      "103\n",
      "107\n",
      "109\n",
      "113\n",
      "127\n",
      "131\n",
      "137\n",
      "139\n",
      "149\n",
      "151\n",
      "157\n",
      "163\n",
      "167\n",
      "173\n",
      "179\n",
      "181\n",
      "191\n",
      "193\n",
      "197\n",
      "199\n",
      "211\n",
      "223\n",
      "227\n",
      "229\n",
      "233\n",
      "239\n",
      "241\n",
      "251\n",
      "257\n",
      "263\n",
      "269\n",
      "271\n",
      "277\n",
      "281\n",
      "283\n",
      "293\n",
      "307\n",
      "311\n",
      "313\n",
      "317\n",
      "331\n",
      "337\n",
      "347\n",
      "349\n",
      "353\n",
      "359\n",
      "367\n",
      "373\n",
      "379\n",
      "383\n",
      "389\n",
      "397\n",
      "401\n",
      "409\n",
      "419\n",
      "421\n",
      "431\n",
      "433\n",
      "439\n",
      "443\n",
      "449\n",
      "457\n",
      "461\n",
      "463\n",
      "467\n",
      "479\n",
      "487\n",
      "491\n",
      "499\n",
      "503\n",
      "509\n",
      "521\n",
      "523\n",
      "541\n",
      "547\n",
      "557\n",
      "563\n",
      "569\n",
      "571\n",
      "577\n",
      "587\n",
      "593\n",
      "599\n",
      "601\n",
      "607\n",
      "613\n",
      "617\n",
      "619\n",
      "631\n",
      "641\n",
      "643\n",
      "647\n",
      "653\n",
      "659\n",
      "661\n",
      "673\n",
      "677\n",
      "683\n",
      "691\n",
      "701\n",
      "709\n",
      "719\n",
      "727\n",
      "733\n",
      "739\n",
      "743\n",
      "751\n",
      "757\n",
      "761\n",
      "769\n",
      "773\n",
      "787\n",
      "797\n",
      "809\n",
      "811\n",
      "821\n",
      "823\n",
      "827\n",
      "829\n",
      "839\n",
      "853\n",
      "857\n",
      "859\n",
      "863\n",
      "877\n",
      "881\n",
      "883\n",
      "887\n",
      "907\n",
      "911\n",
      "919\n",
      "929\n",
      "937\n",
      "941\n",
      "947\n",
      "953\n",
      "967\n",
      "971\n",
      "977\n",
      "983\n",
      "991\n",
      "997\n"
     ]
    }
   ],
   "source": [
    "prime_num(1, 1000)"
   ]
  },
  {
   "cell_type": "markdown",
   "id": "3b8a4adc",
   "metadata": {},
   "source": [
    "## q2: Try to write a function which  is equivalent  to print function in python"
   ]
  },
  {
   "cell_type": "code",
   "execution_count": null,
   "id": "5fa71fbc",
   "metadata": {},
   "outputs": [],
   "source": []
  },
  {
   "cell_type": "markdown",
   "id": "595f6996",
   "metadata": {},
   "source": [
    "## q3 : Try to write a function which is a replica of list append , extend and pop function "
   ]
  },
  {
   "cell_type": "code",
   "execution_count": null,
   "id": "cb65317d",
   "metadata": {},
   "outputs": [],
   "source": []
  },
  {
   "cell_type": "markdown",
   "id": "0c2b3b01",
   "metadata": {},
   "source": [
    "## q4 : Try to write a lambda function which can return a concatination of all the string that we will pass"
   ]
  },
  {
   "cell_type": "code",
   "execution_count": 96,
   "id": "84bd0058",
   "metadata": {},
   "outputs": [
    {
     "data": {
      "text/plain": [
       "['hihello', 'hihello']"
      ]
     },
     "execution_count": 96,
     "metadata": {},
     "output_type": "execute_result"
    }
   ],
   "source": [
    "x = lambda *x:[''.join(x) for i in x]\n",
    "x('hi','hello')"
   ]
  },
  {
   "cell_type": "markdown",
   "id": "3d0ffdbf",
   "metadata": {},
   "source": [
    "## q5 : Try to write a lambda function which can return list of square of all the data between 1-100 "
   ]
  },
  {
   "cell_type": "code",
   "execution_count": 52,
   "id": "918e713f",
   "metadata": {},
   "outputs": [
    {
     "name": "stdout",
     "output_type": "stream",
     "text": [
      "1 4 9 16 25 36 49 64 81 100 121 144 169 196 225 256 289 324 361 400 441 484 529 576 625 676 729 784 841 900 961 1024 1089 1156 1225 1296 1369 1444 1521 1600 1681 1764 1849 1936 2025 2116 2209 2304 2401 2500 2601 2704 2809 2916 3025 3136 3249 3364 3481 3600 3721 3844 3969 4096 4225 4356 4489 4624 4761 4900 5041 5184 5329 5476 5625 5776 5929 6084 6241 6400 6561 6724 6889 7056 7225 7396 7569 7744 7921 8100 8281 8464 8649 8836 9025 9216 9409 9604 9801 10000 "
     ]
    }
   ],
   "source": [
    "tables = [lambda x=x: x*x for x in range(1, 101)]\n",
    "for table in tables:\n",
    "    print(table(), end = ' ')"
   ]
  },
  {
   "cell_type": "markdown",
   "id": "ad0b7db2",
   "metadata": {},
   "source": [
    "## q6 : Try to write a 10 Different different example of lambda function with a choice of your taks "
   ]
  },
  {
   "cell_type": "code",
   "execution_count": 70,
   "id": "cef0e301",
   "metadata": {},
   "outputs": [
    {
     "name": "stdout",
     "output_type": "stream",
     "text": [
      "hello\n"
     ]
    }
   ],
   "source": [
    "#Ex1: Read a string \n",
    "x = lambda x : print(x)\n",
    "x('hello')"
   ]
  },
  {
   "cell_type": "code",
   "execution_count": 71,
   "id": "77d353be",
   "metadata": {},
   "outputs": [
    {
     "data": {
      "text/plain": [
       "6"
      ]
     },
     "execution_count": 71,
     "metadata": {},
     "output_type": "execute_result"
    }
   ],
   "source": [
    "#ex2: mathmatical problem\n",
    "x = lambda a, b: a+b\n",
    "x(2, 4)"
   ]
  },
  {
   "cell_type": "code",
   "execution_count": 73,
   "id": "ed28c618",
   "metadata": {},
   "outputs": [
    {
     "data": {
      "text/plain": [
       "8"
      ]
     },
     "execution_count": 73,
     "metadata": {},
     "output_type": "execute_result"
    }
   ],
   "source": [
    "#ex3: cube of a number\n",
    "x = lambda x: x**x*x\n",
    "x(2)"
   ]
  },
  {
   "cell_type": "code",
   "execution_count": 74,
   "id": "f70dd5c2",
   "metadata": {},
   "outputs": [
    {
     "data": {
      "text/plain": [
       "3"
      ]
     },
     "execution_count": 74,
     "metadata": {},
     "output_type": "execute_result"
    }
   ],
   "source": [
    "#ex4 if else \n",
    "x = lambda a, b : a if(a > b) else b\n",
    "x(2, 3)"
   ]
  },
  {
   "cell_type": "code",
   "execution_count": 75,
   "id": "58ffd0b3",
   "metadata": {},
   "outputs": [
    {
     "data": {
      "text/plain": [
       "[1, 2, 3, 4, 5, 6]"
      ]
     },
     "execution_count": 75,
     "metadata": {},
     "output_type": "execute_result"
    }
   ],
   "source": [
    "#ex5 print list\n",
    "x = lambda *x: [i for i in x]\n",
    "x(1, 2,3, 4,5,6)"
   ]
  },
  {
   "cell_type": "markdown",
   "id": "c9440e30",
   "metadata": {},
   "source": [
    "## q7 : Try to write a funtion which can perform a read operation from .txt file "
   ]
  },
  {
   "cell_type": "code",
   "execution_count": 55,
   "id": "2e263328",
   "metadata": {},
   "outputs": [
    {
     "name": "stdout",
     "output_type": "stream",
     "text": [
      "reading from file:  Hello World\n"
     ]
    }
   ],
   "source": [
    "file = open(\"hello.txt\",\"r\")\n",
    "print(\"reading from file: \",file.read())"
   ]
  },
  {
   "cell_type": "code",
   "execution_count": null,
   "id": "6c1e60f6",
   "metadata": {},
   "outputs": [],
   "source": []
  }
 ],
 "metadata": {
  "kernelspec": {
   "display_name": "Python 3 (ipykernel)",
   "language": "python",
   "name": "python3"
  },
  "language_info": {
   "codemirror_mode": {
    "name": "ipython",
    "version": 3
   },
   "file_extension": ".py",
   "mimetype": "text/x-python",
   "name": "python",
   "nbconvert_exporter": "python",
   "pygments_lexer": "ipython3",
   "version": "3.9.7"
  }
 },
 "nbformat": 4,
 "nbformat_minor": 5
}
