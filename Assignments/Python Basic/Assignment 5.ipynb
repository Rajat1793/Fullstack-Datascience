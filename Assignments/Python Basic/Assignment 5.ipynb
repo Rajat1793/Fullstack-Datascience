{
 "cells": [
  {
   "cell_type": "markdown",
   "id": "8a65677e",
   "metadata": {},
   "source": [
    "## 1. What does an empty dictionary&#39;s code look like?"
   ]
  },
  {
   "cell_type": "code",
   "execution_count": 1,
   "id": "5f3b9e32",
   "metadata": {},
   "outputs": [
    {
     "data": {
      "text/plain": [
       "dict"
      ]
     },
     "execution_count": 1,
     "metadata": {},
     "output_type": "execute_result"
    }
   ],
   "source": [
    "item = {}\n",
    "type(item)"
   ]
  },
  {
   "cell_type": "markdown",
   "id": "dc2472e6",
   "metadata": {},
   "source": [
    "## 2. What is the value of a dictionary value with the key &#39;foo&#39; and the value 42?"
   ]
  },
  {
   "cell_type": "code",
   "execution_count": 2,
   "id": "cf0ebc8d",
   "metadata": {},
   "outputs": [
    {
     "name": "stdout",
     "output_type": "stream",
     "text": [
      "42\n"
     ]
    }
   ],
   "source": [
    "item = {'foo':42}\n",
    "type(item)\n",
    "print(item['foo'])"
   ]
  },
  {
   "cell_type": "markdown",
   "id": "de8387ad",
   "metadata": {},
   "source": [
    "## 3. What is the most significant distinction between a dictionary and a list?"
   ]
  },
  {
   "cell_type": "raw",
   "id": "36705bc0",
   "metadata": {},
   "source": [
    "Dictionary stores the value in form of Key value pair and items stored in a dictionary are unordered"
   ]
  },
  {
   "cell_type": "markdown",
   "id": "7d1615f9",
   "metadata": {},
   "source": [
    "## 4. What happens if you try to access spam[&#39;foo&#39;] if spam is {&#39;bar&#39;: 100}?"
   ]
  },
  {
   "cell_type": "raw",
   "id": "739d9ea6",
   "metadata": {},
   "source": [
    "We will get key error as there is no key in dictionary by name of foo"
   ]
  },
  {
   "cell_type": "code",
   "execution_count": 3,
   "id": "49bd1127",
   "metadata": {},
   "outputs": [
    {
     "ename": "KeyError",
     "evalue": "'foo'",
     "output_type": "error",
     "traceback": [
      "\u001b[0;31m---------------------------------------------------------------------------\u001b[0m",
      "\u001b[0;31mKeyError\u001b[0m                                  Traceback (most recent call last)",
      "Input \u001b[0;32mIn [3]\u001b[0m, in \u001b[0;36m<cell line: 2>\u001b[0;34m()\u001b[0m\n\u001b[1;32m      1\u001b[0m spam \u001b[38;5;241m=\u001b[39m {\u001b[38;5;124m'\u001b[39m\u001b[38;5;124mbar\u001b[39m\u001b[38;5;124m'\u001b[39m:\u001b[38;5;241m100\u001b[39m}\n\u001b[0;32m----> 2\u001b[0m \u001b[38;5;28mprint\u001b[39m(\u001b[43mspam\u001b[49m\u001b[43m[\u001b[49m\u001b[38;5;124;43m'\u001b[39;49m\u001b[38;5;124;43mfoo\u001b[39;49m\u001b[38;5;124;43m'\u001b[39;49m\u001b[43m]\u001b[49m)\n",
      "\u001b[0;31mKeyError\u001b[0m: 'foo'"
     ]
    }
   ],
   "source": [
    "spam = {'bar':100}\n",
    "print(spam['foo'])"
   ]
  },
  {
   "cell_type": "markdown",
   "id": "54404c08",
   "metadata": {},
   "source": [
    "## 5. If a dictionary is stored in spam, what is the difference between the expressions &#39;cat&#39; in spam and &#39;cat&#39; in spam.keys()?"
   ]
  },
  {
   "cell_type": "raw",
   "id": "5086fdc8",
   "metadata": {},
   "source": [
    "When we try to call the expression cat with the spam it will return the value store inside the key cat where \n",
    "as spam.keys() will return the keys in the dictionary spam"
   ]
  },
  {
   "cell_type": "code",
   "execution_count": 4,
   "id": "caf4338c",
   "metadata": {},
   "outputs": [
    {
     "name": "stdout",
     "output_type": "stream",
     "text": [
      "dict_keys(['cat'])\n",
      "xyz\n"
     ]
    }
   ],
   "source": [
    "spam = {'cat':'xyz'}\n",
    "print(spam.keys())\n",
    "print(spam['cat'])"
   ]
  },
  {
   "cell_type": "markdown",
   "id": "fe84500d",
   "metadata": {},
   "source": [
    "## 6. If a dictionary is stored in spam, what is the difference between the expressions &#39;cat&#39; in spam and &#39;cat&#39; in spam.values()?"
   ]
  },
  {
   "cell_type": "raw",
   "id": "a9002c15",
   "metadata": {},
   "source": [
    "'cat' in spam checks whether there is a 'cat' key in the dictionary, while 'cat' in spam.values() checks whether there is a value 'cat' for one of the keys in spam."
   ]
  },
  {
   "cell_type": "code",
   "execution_count": 5,
   "id": "9ec42368",
   "metadata": {},
   "outputs": [
    {
     "name": "stdout",
     "output_type": "stream",
     "text": [
      "dict_values(['xyz', 'lab'])\n",
      "xyz\n"
     ]
    }
   ],
   "source": [
    "spam = {'cat':'xyz','dog':'lab'}\n",
    "print(spam.values())\n",
    "print(spam['cat'])"
   ]
  },
  {
   "cell_type": "markdown",
   "id": "ff684dbf",
   "metadata": {},
   "source": [
    "## 7. What is a shortcut for the following code? if &#39;color&#39; not in spam: spam[&#39;color&#39;] = &#39;black&#39;"
   ]
  },
  {
   "cell_type": "code",
   "execution_count": 6,
   "id": "83bf7379",
   "metadata": {},
   "outputs": [
    {
     "data": {
      "text/plain": [
       "'black'"
      ]
     },
     "execution_count": 6,
     "metadata": {},
     "output_type": "execute_result"
    }
   ],
   "source": [
    "spam.setdefault('color', 'black')"
   ]
  },
  {
   "cell_type": "markdown",
   "id": "2c61685b",
   "metadata": {},
   "source": [
    "## 8. How do you &quot;pretty print&quot; dictionary values using which module and function?"
   ]
  },
  {
   "cell_type": "code",
   "execution_count": 7,
   "id": "b7a61ed0",
   "metadata": {},
   "outputs": [
    {
     "name": "stdout",
     "output_type": "stream",
     "text": [
      "Pretty printing has been turned OFF\n"
     ]
    }
   ],
   "source": [
    "pprint(spam)"
   ]
  }
 ],
 "metadata": {
  "kernelspec": {
   "display_name": "Python 3 (ipykernel)",
   "language": "python",
   "name": "python3"
  },
  "language_info": {
   "codemirror_mode": {
    "name": "ipython",
    "version": 3
   },
   "file_extension": ".py",
   "mimetype": "text/x-python",
   "name": "python",
   "nbconvert_exporter": "python",
   "pygments_lexer": "ipython3",
   "version": "3.9.12"
  }
 },
 "nbformat": 4,
 "nbformat_minor": 5
}
