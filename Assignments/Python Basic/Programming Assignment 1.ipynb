{
 "cells": [
  {
   "cell_type": "markdown",
   "id": "0b26d4ad",
   "metadata": {},
   "source": [
    "## Write a Python program to print \" Hello Python\""
   ]
  },
  {
   "cell_type": "code",
   "execution_count": 1,
   "id": "1eb5fc9e",
   "metadata": {},
   "outputs": [
    {
     "name": "stdout",
     "output_type": "stream",
     "text": [
      "Hello Python\n"
     ]
    }
   ],
   "source": [
    "print('Hello Python')"
   ]
  },
  {
   "cell_type": "markdown",
   "id": "a2b35ca7",
   "metadata": {},
   "source": [
    "## Write a Python program to do arithmetical operations addition and division"
   ]
  },
  {
   "cell_type": "code",
   "execution_count": 2,
   "id": "eacd0226",
   "metadata": {},
   "outputs": [
    {
     "name": "stdout",
     "output_type": "stream",
     "text": [
      "Sum:  30\n",
      "Div:  0.5\n"
     ]
    }
   ],
   "source": [
    "def calc(a, b):\n",
    "    add = a + b\n",
    "    print(\"Sum: \", add)\n",
    "    if b == 0:\n",
    "        print(\"Number cannot be divided\")\n",
    "    else:\n",
    "        div = a / b\n",
    "        print(\"Div: \", div)\n",
    "\n",
    "calc(10, 20)"
   ]
  },
  {
   "cell_type": "markdown",
   "id": "d1688548",
   "metadata": {},
   "source": [
    "## Write a Python program to find the area of a triangle"
   ]
  },
  {
   "cell_type": "code",
   "execution_count": 3,
   "id": "015f7371",
   "metadata": {},
   "outputs": [
    {
     "name": "stdout",
     "output_type": "stream",
     "text": [
      "Enter the base of triangle: 10\n",
      "Enter the height of triangle: 12\n"
     ]
    },
    {
     "data": {
      "text/plain": [
       "60.0"
      ]
     },
     "execution_count": 3,
     "metadata": {},
     "output_type": "execute_result"
    }
   ],
   "source": [
    "def areaOfTriangle(b, h):\n",
    "    return (0.5 * b * h)\n",
    "\n",
    "base = int(input(\"Enter the base of triangle: \"))\n",
    "height = int(input(\"Enter the height of triangle: \"))\n",
    "\n",
    "areaOfTriangle(base, height)"
   ]
  },
  {
   "cell_type": "markdown",
   "id": "4bb009af",
   "metadata": {},
   "source": [
    "## Write a Python program to swap two variables"
   ]
  },
  {
   "cell_type": "code",
   "execution_count": 4,
   "id": "12ec37b7",
   "metadata": {},
   "outputs": [
    {
     "data": {
      "text/plain": [
       "(5, 2)"
      ]
     },
     "execution_count": 4,
     "metadata": {},
     "output_type": "execute_result"
    }
   ],
   "source": [
    "def swap(a, b):\n",
    "    a = a - b\n",
    "    b = a + b\n",
    "    a = b - a\n",
    "    return a, b\n",
    "\n",
    "swap(2, 5)"
   ]
  },
  {
   "cell_type": "markdown",
   "id": "0c46851d",
   "metadata": {},
   "source": [
    "## Write a Python program to generate a random number"
   ]
  },
  {
   "cell_type": "code",
   "execution_count": 5,
   "id": "40ba3f7c",
   "metadata": {},
   "outputs": [
    {
     "name": "stdout",
     "output_type": "stream",
     "text": [
      "3\n"
     ]
    }
   ],
   "source": [
    "import random\n",
    "\n",
    "print(random.randint(1, 10))"
   ]
  },
  {
   "cell_type": "code",
   "execution_count": null,
   "id": "9435ad05",
   "metadata": {},
   "outputs": [],
   "source": []
  }
 ],
 "metadata": {
  "kernelspec": {
   "display_name": "Python 3 (ipykernel)",
   "language": "python",
   "name": "python3"
  },
  "language_info": {
   "codemirror_mode": {
    "name": "ipython",
    "version": 3
   },
   "file_extension": ".py",
   "mimetype": "text/x-python",
   "name": "python",
   "nbconvert_exporter": "python",
   "pygments_lexer": "ipython3",
   "version": "3.9.7"
  }
 },
 "nbformat": 4,
 "nbformat_minor": 5
}
