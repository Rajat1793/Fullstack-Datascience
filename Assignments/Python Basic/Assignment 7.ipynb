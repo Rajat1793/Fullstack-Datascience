{
 "cells": [
  {
   "cell_type": "markdown",
   "id": "1c58cab6",
   "metadata": {},
   "source": [
    "## 1. What is the name of the feature responsible for generating Regex objects?"
   ]
  },
  {
   "cell_type": "markdown",
   "id": "7f5e0712",
   "metadata": {},
   "source": [
    "Create a Regex object with the re.compile() function"
   ]
  },
  {
   "cell_type": "markdown",
   "id": "774518de",
   "metadata": {},
   "source": [
    "## 2. Why do raw strings often appear in Regex objects?"
   ]
  },
  {
   "cell_type": "markdown",
   "id": "dd4a9334",
   "metadata": {},
   "source": [
    "Raw strings are used so that backslashes do not have to be escaped."
   ]
  },
  {
   "cell_type": "markdown",
   "id": "dd90c201",
   "metadata": {},
   "source": [
    "## 3. What is the return value of the search() method?"
   ]
  },
  {
   "cell_type": "markdown",
   "id": "0d3e2386",
   "metadata": {},
   "source": [
    "Contains information about the matching part of the string"
   ]
  },
  {
   "cell_type": "markdown",
   "id": "b43f5e60",
   "metadata": {},
   "source": [
    "## 4. From a Match item, how do you get the actual strings that match the pattern?"
   ]
  },
  {
   "cell_type": "markdown",
   "id": "59679649",
   "metadata": {},
   "source": [
    "group(), groups(), method returns strings of the matched text"
   ]
  },
  {
   "cell_type": "markdown",
   "id": "5a67366e",
   "metadata": {},
   "source": [
    "## 5. In the regex which created from the r&#39;(\\d\\d\\d)-(\\d\\d\\d-\\d\\d\\d\\d)&#39;, what does group zero cover? Group 2? Group 1?"
   ]
  },
  {
   "cell_type": "markdown",
   "id": "180cc669",
   "metadata": {},
   "source": [
    "### Group 0"
   ]
  },
  {
   "cell_type": "code",
   "execution_count": 1,
   "id": "8f4bb4e5",
   "metadata": {},
   "outputs": [
    {
     "name": "stdout",
     "output_type": "stream",
     "text": [
      "123-456-7890\n"
     ]
    }
   ],
   "source": [
    "import re\n",
    "NumRegex = re.compile(r'(\\d\\d\\d)-(\\d\\d\\d-\\d\\d\\d\\d)')\n",
    "mo = NumRegex.search('My number is 123-456-7890.')\n",
    "print(mo.group(0))"
   ]
  },
  {
   "cell_type": "markdown",
   "id": "3d5e21e7",
   "metadata": {},
   "source": [
    "### Group 1"
   ]
  },
  {
   "cell_type": "code",
   "execution_count": 2,
   "id": "a77a5172",
   "metadata": {},
   "outputs": [
    {
     "name": "stdout",
     "output_type": "stream",
     "text": [
      "123\n"
     ]
    }
   ],
   "source": [
    "import re\n",
    "NumRegex = re.compile(r'(\\d\\d\\d)-(\\d\\d\\d-\\d\\d\\d\\d)')\n",
    "mo = NumRegex.search('My number is 123-456-7890.')\n",
    "print(mo.group(1))"
   ]
  },
  {
   "cell_type": "markdown",
   "id": "de6d5e34",
   "metadata": {},
   "source": [
    "### group 2"
   ]
  },
  {
   "cell_type": "code",
   "execution_count": 3,
   "id": "2d513677",
   "metadata": {},
   "outputs": [
    {
     "name": "stdout",
     "output_type": "stream",
     "text": [
      "456-7890\n"
     ]
    }
   ],
   "source": [
    "import re\n",
    "NumRegex = re.compile(r'(\\d\\d\\d)-(\\d\\d\\d-\\d\\d\\d\\d)')\n",
    "mo = NumRegex.search('My number is 123-456-7890.')\n",
    "print(mo.group(2))"
   ]
  },
  {
   "cell_type": "markdown",
   "id": "9b0f742c",
   "metadata": {},
   "source": [
    "## 6. In standard expression syntax, parentheses and intervals have distinct meanings. How can you tell a regex that you want it to fit real parentheses and periods?"
   ]
  },
  {
   "cell_type": "markdown",
   "id": "daf78f75",
   "metadata": {},
   "source": [
    "Using a Backslash (\\) we can escape the parentheses and periods\n",
    "Eg: \\., \\\\, \\("
   ]
  },
  {
   "cell_type": "markdown",
   "id": "468023e3",
   "metadata": {},
   "source": [
    "## 7. The findall() method returns a string list or a list of string tuples. What causes it to return one of the two options?"
   ]
  },
  {
   "cell_type": "markdown",
   "id": "1b9beea0",
   "metadata": {},
   "source": [
    "If the regex has no groups, a list of strings is returned. If the regex has groups, a list of tuples of strings is returned."
   ]
  },
  {
   "cell_type": "markdown",
   "id": "30bbdebb",
   "metadata": {},
   "source": [
    "## 8. In standard expressions, what does the | character mean?"
   ]
  },
  {
   "cell_type": "markdown",
   "id": "29c10165",
   "metadata": {},
   "source": [
    "| signifies matching \"either\" or \"between\" two groups"
   ]
  },
  {
   "cell_type": "markdown",
   "id": "64884330",
   "metadata": {},
   "source": [
    "## 9. In regular expressions, what does the character stand for?"
   ]
  },
  {
   "cell_type": "raw",
   "id": "b093052a",
   "metadata": {},
   "source": []
  },
  {
   "cell_type": "markdown",
   "id": "06876c88",
   "metadata": {},
   "source": [
    "## 10.In regular expressions, what is the difference between the + and * characters?"
   ]
  },
  {
   "cell_type": "markdown",
   "id": "0c4aeaec",
   "metadata": {},
   "source": [
    "+: one or more (1+), e.g., [0-9]+ matches one or more digits such as '123', '000'\n",
    "*: zero or more (0+), e.g., [0-9]* matches zero or more digits. It accepts all those in [0-9]+ plus the empty string"
   ]
  },
  {
   "cell_type": "markdown",
   "id": "4af42556",
   "metadata": {},
   "source": [
    "## 11. What is the difference between {4} and {4,5} in regular expression?"
   ]
  },
  {
   "cell_type": "markdown",
   "id": "65499486",
   "metadata": {},
   "source": [
    "{4}: exactly 4 times\n",
    "{4,5}: 4 to 5 times both value inclusive "
   ]
  },
  {
   "cell_type": "markdown",
   "id": "11cc0474",
   "metadata": {},
   "source": [
    "## 12. What do you mean by the \\d, \\w, and \\s shorthand character classes signify in regular expressions?"
   ]
  },
  {
   "cell_type": "markdown",
   "id": "ce902dd0",
   "metadata": {},
   "source": [
    "\\d: ANY ONE digit character. Digits are [0-9]\n",
    "\\w: ANY ONE word characters. Words are [a-zA-Z0-9_]\n",
    "\\s: ANY ONE space character. Whitespace characters are [ \\n\\r\\t\\f]"
   ]
  },
  {
   "cell_type": "markdown",
   "id": "5c82d863",
   "metadata": {},
   "source": [
    "## 13. What do means by \\D, \\W, and \\S shorthand character classes signify in regular expressions?"
   ]
  },
  {
   "cell_type": "markdown",
   "id": "930b17e9",
   "metadata": {},
   "source": [
    "\\D: ANY ONE non-digit character\n",
    "\\W: ANY ONE non-word characters\n",
    "\\S: ANY ONE non-space character"
   ]
  },
  {
   "cell_type": "markdown",
   "id": "3c258e72",
   "metadata": {},
   "source": [
    "## 14. What is the difference between .\\*? and .*"
   ]
  },
  {
   "cell_type": "markdown",
   "id": "01196853",
   "metadata": {},
   "source": [
    ".*?: matches any type of character any number of times and as few times as possible\n",
    ".*: matches any type of character any number of times"
   ]
  },
  {
   "cell_type": "markdown",
   "id": "cf91782e",
   "metadata": {},
   "source": [
    "## 15. What is the syntax for matching both numbers and lowercase letters with a character class?"
   ]
  },
  {
   "cell_type": "code",
   "execution_count": 4,
   "id": "7563e7c7",
   "metadata": {},
   "outputs": [
    {
     "data": {
      "text/plain": [
       "re.compile(r'[0-9a-z]', re.UNICODE)"
      ]
     },
     "execution_count": 4,
     "metadata": {},
     "output_type": "execute_result"
    }
   ],
   "source": [
    "import re\n",
    "re.compile(r'[0-9a-z]')"
   ]
  },
  {
   "cell_type": "markdown",
   "id": "3eb22ac9",
   "metadata": {},
   "source": [
    "## 16. What is the procedure for making a normal expression in regax case insensitive?"
   ]
  },
  {
   "cell_type": "markdown",
   "id": "e7e0d661",
   "metadata": {},
   "source": [
    "IGNORECASE : This flag allows for case-insensitive matching of the Regular Expression with the given string i.e. expressions like [A-Z] will match lowercase letters, too"
   ]
  },
  {
   "cell_type": "code",
   "execution_count": 6,
   "id": "2bf36618",
   "metadata": {},
   "outputs": [
    {
     "data": {
      "text/plain": [
       "<re.Match object; span=(0, 4), match='TeSt'>"
      ]
     },
     "execution_count": 6,
     "metadata": {},
     "output_type": "execute_result"
    }
   ],
   "source": [
    "import re\n",
    "re.search('test', 'TeSt', re.IGNORECASE)"
   ]
  },
  {
   "cell_type": "markdown",
   "id": "0e074559",
   "metadata": {},
   "source": [
    "## 17. What does the . character normally match? What does it match if re.DOTALL is passed as 2nd argument in re.compile()?"
   ]
  },
  {
   "cell_type": "markdown",
   "id": "0dcce8cb",
   "metadata": {},
   "source": [
    ". character matches any character except the newline character. If re. DOTALL is passed as the second argument to re. compile(), then the dot will also match newline characters."
   ]
  },
  {
   "cell_type": "code",
   "execution_count": 12,
   "id": "708b98fd",
   "metadata": {},
   "outputs": [
    {
     "name": "stdout",
     "output_type": "stream",
     "text": [
      "<re.Match object; span=(12, 12), match=''>\n"
     ]
    }
   ],
   "source": [
    "import re\n",
    "numRegex = re.compile(r'.*')\n",
    "print(numRegex.match(\"HI /n, Rajat\", re.DOTALL))\n"
   ]
  },
  {
   "cell_type": "markdown",
   "id": "38570372",
   "metadata": {},
   "source": [
    "## 18. If numReg = re.compile(r&#39;\\d+&#39;), what will numRegex.sub(&#39;X&#39;, &#39;11 drummers, 10 pipers, five rings, 4 hen&#39;) return?"
   ]
  },
  {
   "cell_type": "markdown",
   "id": "41460e3b",
   "metadata": {},
   "source": [
    "It will substitute all the digit with X"
   ]
  },
  {
   "cell_type": "code",
   "execution_count": 8,
   "id": "fd763f70",
   "metadata": {},
   "outputs": [
    {
     "data": {
      "text/plain": [
       "'X drummers, X pipers, five rings, X hen'"
      ]
     },
     "execution_count": 8,
     "metadata": {},
     "output_type": "execute_result"
    }
   ],
   "source": [
    "import re\n",
    "numRegex = re.compile(r'\\d+')\n",
    "numRegex.sub('X', '11 drummers, 10 pipers, five rings, 4 hen')"
   ]
  },
  {
   "cell_type": "markdown",
   "id": "65c72740",
   "metadata": {},
   "source": [
    "## 19. What does passing re.VERBOSE as the 2nd argument to re.compile() allow to do?"
   ]
  },
  {
   "cell_type": "markdown",
   "id": "5fc38f8a",
   "metadata": {},
   "source": [
    "The VERBOSE flag of the regex package allows the user to write regular expressions that can look nicer and are more readable."
   ]
  },
  {
   "cell_type": "code",
   "execution_count": 13,
   "id": "8a4486b5",
   "metadata": {},
   "outputs": [
    {
     "data": {
      "text/plain": [
       "'X drummers, X pipers, five rings, X hen'"
      ]
     },
     "execution_count": 13,
     "metadata": {},
     "output_type": "execute_result"
    }
   ],
   "source": [
    "import re\n",
    "numRegex = re.compile(r'\\d+')\n",
    "numRegex.sub('X', '11 drummers, 10 pipers, five rings, 4 hen', re.VERBOSE)"
   ]
  },
  {
   "cell_type": "markdown",
   "id": "a8b7174c",
   "metadata": {},
   "source": [
    "## 20. How would you write a regex that match a number with comma for every three digits? It must match the given following:"
   ]
  },
  {
   "cell_type": "code",
   "execution_count": 26,
   "id": "c4a2845e",
   "metadata": {},
   "outputs": [],
   "source": [
    "import re\n",
    "\n",
    "def regCheck():\n",
    "    numRegex = re.compile(r'^\\d{1,3}(,\\d{3})*$')\n",
    "    test = input(\"Enter the number: \")\n",
    "\n",
    "    if re.fullmatch(numRegex, test):\n",
    "        print(f\"'{test}' valid\")\n",
    "    else:\n",
    "        print(f\"'{test}' Not valid\")"
   ]
  },
  {
   "cell_type": "code",
   "execution_count": 27,
   "id": "3e076796",
   "metadata": {},
   "outputs": [
    {
     "name": "stdout",
     "output_type": "stream",
     "text": [
      "Enter the number: 12\n",
      "'12' valid\n"
     ]
    }
   ],
   "source": [
    "regCheck()"
   ]
  },
  {
   "cell_type": "code",
   "execution_count": 28,
   "id": "b8211436",
   "metadata": {},
   "outputs": [
    {
     "name": "stdout",
     "output_type": "stream",
     "text": [
      "Enter the number: 1,234\n",
      "'1,234' valid\n"
     ]
    }
   ],
   "source": [
    "regCheck()"
   ]
  },
  {
   "cell_type": "code",
   "execution_count": 29,
   "id": "0ef7b152",
   "metadata": {},
   "outputs": [
    {
     "name": "stdout",
     "output_type": "stream",
     "text": [
      "Enter the number: 6,356,232\n",
      "'6,356,232' valid\n"
     ]
    }
   ],
   "source": [
    "regCheck()"
   ]
  },
  {
   "cell_type": "code",
   "execution_count": 30,
   "id": "aff55c74",
   "metadata": {},
   "outputs": [
    {
     "name": "stdout",
     "output_type": "stream",
     "text": [
      "Enter the number: 1234\n",
      "'1234' Not valid\n"
     ]
    }
   ],
   "source": [
    "regCheck()"
   ]
  },
  {
   "cell_type": "code",
   "execution_count": 31,
   "id": "c1dc24a5",
   "metadata": {},
   "outputs": [
    {
     "name": "stdout",
     "output_type": "stream",
     "text": [
      "Enter the number: 12,23,333\n",
      "'12,23,333' Not valid\n"
     ]
    }
   ],
   "source": [
    "regCheck()"
   ]
  },
  {
   "cell_type": "markdown",
   "id": "96d5791f",
   "metadata": {},
   "source": [
    "## 21. How would you write a regex that matches the full name of someone whose last name is Watanabe? You can assume that the first name that comes before it will always be one word that begins with a capital letter. The regex must match the following:"
   ]
  },
  {
   "cell_type": "code",
   "execution_count": 32,
   "id": "5384d192",
   "metadata": {},
   "outputs": [],
   "source": [
    "import re\n",
    "\n",
    "def nameCheck():\n",
    "    nameRegex = re.compile(r'[A-Z][a-zA-Z]+\\sWatanabe')\n",
    "    test = input(\"Enter the name: \")\n",
    "\n",
    "    if re.fullmatch(nameRegex, test):\n",
    "        print(f\"'{test}' valid\")\n",
    "    else:\n",
    "        print(f\"'{test}' Not valid\")"
   ]
  },
  {
   "cell_type": "code",
   "execution_count": 33,
   "id": "c26dd315",
   "metadata": {},
   "outputs": [
    {
     "name": "stdout",
     "output_type": "stream",
     "text": [
      "Enter the name: RoboCop Watanabe\n",
      "'RoboCop Watanabe' valid\n"
     ]
    }
   ],
   "source": [
    "nameCheck()"
   ]
  },
  {
   "cell_type": "code",
   "execution_count": 34,
   "id": "a4d3f7a0",
   "metadata": {},
   "outputs": [
    {
     "name": "stdout",
     "output_type": "stream",
     "text": [
      "Enter the name: Haruto Watanabe\n",
      "'Haruto Watanabe' valid\n"
     ]
    }
   ],
   "source": [
    "nameCheck()"
   ]
  },
  {
   "cell_type": "code",
   "execution_count": 35,
   "id": "7b1e7e87",
   "metadata": {},
   "outputs": [
    {
     "name": "stdout",
     "output_type": "stream",
     "text": [
      "Enter the name: haruto Watanabe\n",
      "'haruto Watanabe' Not valid\n"
     ]
    }
   ],
   "source": [
    "nameCheck()"
   ]
  },
  {
   "cell_type": "code",
   "execution_count": 36,
   "id": "2c96796b",
   "metadata": {},
   "outputs": [
    {
     "name": "stdout",
     "output_type": "stream",
     "text": [
      "Enter the name: Mr. Watanabe\n",
      "'Mr. Watanabe' Not valid\n"
     ]
    }
   ],
   "source": [
    "nameCheck()"
   ]
  },
  {
   "cell_type": "code",
   "execution_count": 37,
   "id": "441d7216",
   "metadata": {},
   "outputs": [
    {
     "name": "stdout",
     "output_type": "stream",
     "text": [
      "Enter the name: Haruto watanabe\n",
      "'Haruto watanabe' Not valid\n"
     ]
    }
   ],
   "source": [
    "nameCheck()"
   ]
  },
  {
   "cell_type": "markdown",
   "id": "863882a5",
   "metadata": {},
   "source": [
    "## 22. How would you write a regex that matches a sentence where the first word is either Alice, Bob, or Carol; the second word is either eats, pets, or throws; the third word is apples, cats, or baseballs; and the sentence ends with a period? This regex should be case-insensitive. It must match the following:"
   ]
  },
  {
   "cell_type": "code",
   "execution_count": 42,
   "id": "1d95f737",
   "metadata": {},
   "outputs": [],
   "source": [
    "import re\n",
    "\n",
    "def nameCheck():\n",
    "    nameRegex = re.compile(r'([Alice|Bob|Carol])\\s([eats|pets|throws])\\s([apples|cats|baseball])\\.', re.IGNORECASE)\n",
    "    test = input(\"Enter the Sentence: \")\n",
    "\n",
    "    if re.fullmatch(nameRegex, test):\n",
    "        print(f\"'{test}' valid\")\n",
    "    else:\n",
    "        print(f\"'{test}' Not valid\")"
   ]
  },
  {
   "cell_type": "code",
   "execution_count": 43,
   "id": "4019bc66",
   "metadata": {},
   "outputs": [
    {
     "name": "stdout",
     "output_type": "stream",
     "text": [
      "Enter the Sentence: Alice eats apples.\n",
      "'Alice eats apples.' Not valid\n"
     ]
    }
   ],
   "source": [
    "nameCheck()"
   ]
  }
 ],
 "metadata": {
  "kernelspec": {
   "display_name": "Python 3 (ipykernel)",
   "language": "python",
   "name": "python3"
  },
  "language_info": {
   "codemirror_mode": {
    "name": "ipython",
    "version": 3
   },
   "file_extension": ".py",
   "mimetype": "text/x-python",
   "name": "python",
   "nbconvert_exporter": "python",
   "pygments_lexer": "ipython3",
   "version": "3.9.12"
  }
 },
 "nbformat": 4,
 "nbformat_minor": 5
}
