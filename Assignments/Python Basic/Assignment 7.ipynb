{
 "cells": [
  {
   "cell_type": "markdown",
   "id": "bd0756cd",
   "metadata": {},
   "source": [
    "## 1. What is the name of the feature responsible for generating Regex objects?"
   ]
  },
  {
   "cell_type": "raw",
   "id": "0b4fa17d",
   "metadata": {},
   "source": [
    "Create a Regex object with the re.compile() function"
   ]
  },
  {
   "cell_type": "markdown",
   "id": "f3c69a0d",
   "metadata": {},
   "source": [
    "## 2. Why do raw strings often appear in Regex objects?"
   ]
  },
  {
   "cell_type": "raw",
   "id": "62bd8985",
   "metadata": {},
   "source": [
    "Raw strings are used so that backslashes do not have to be escaped."
   ]
  },
  {
   "cell_type": "markdown",
   "id": "d29e16de",
   "metadata": {},
   "source": [
    "## 3. What is the return value of the search() method?"
   ]
  },
  {
   "cell_type": "raw",
   "id": "88763b92",
   "metadata": {},
   "source": [
    "Contains information about the matching part of the string"
   ]
  },
  {
   "cell_type": "markdown",
   "id": "a4d09a3e",
   "metadata": {},
   "source": [
    "## 4. From a Match item, how do you get the actual strings that match the pattern?"
   ]
  },
  {
   "cell_type": "raw",
   "id": "ccdd1a08",
   "metadata": {},
   "source": [
    "group(), groups(), method returns strings of the matched text"
   ]
  },
  {
   "cell_type": "markdown",
   "id": "f05cb86b",
   "metadata": {},
   "source": [
    "## 5. In the regex which created from the r&#39;(\\d\\d\\d)-(\\d\\d\\d-\\d\\d\\d\\d)&#39;, what does group zero cover? Group 2? Group 1?"
   ]
  },
  {
   "cell_type": "markdown",
   "id": "bae97509",
   "metadata": {},
   "source": [
    "### Group 0"
   ]
  },
  {
   "cell_type": "code",
   "execution_count": 1,
   "id": "fd50c4c0",
   "metadata": {},
   "outputs": [
    {
     "name": "stdout",
     "output_type": "stream",
     "text": [
      "123-456-7890\n"
     ]
    }
   ],
   "source": [
    "import re\n",
    "NumRegex = re.compile(r'(\\d\\d\\d)-(\\d\\d\\d-\\d\\d\\d\\d)')\n",
    "mo = NumRegex.search('My number is 123-456-7890.')\n",
    "print(mo.group(0))"
   ]
  },
  {
   "cell_type": "markdown",
   "id": "01ce931c",
   "metadata": {},
   "source": [
    "### Group 1"
   ]
  },
  {
   "cell_type": "code",
   "execution_count": 2,
   "id": "6767bce2",
   "metadata": {},
   "outputs": [
    {
     "name": "stdout",
     "output_type": "stream",
     "text": [
      "123\n"
     ]
    }
   ],
   "source": [
    "import re\n",
    "NumRegex = re.compile(r'(\\d\\d\\d)-(\\d\\d\\d-\\d\\d\\d\\d)')\n",
    "mo = NumRegex.search('My number is 123-456-7890.')\n",
    "print(mo.group(1))"
   ]
  },
  {
   "cell_type": "markdown",
   "id": "fef86160",
   "metadata": {},
   "source": [
    "### group 2"
   ]
  },
  {
   "cell_type": "code",
   "execution_count": 3,
   "id": "1ff0c140",
   "metadata": {},
   "outputs": [
    {
     "name": "stdout",
     "output_type": "stream",
     "text": [
      "456-7890\n"
     ]
    }
   ],
   "source": [
    "import re\n",
    "NumRegex = re.compile(r'(\\d\\d\\d)-(\\d\\d\\d-\\d\\d\\d\\d)')\n",
    "mo = NumRegex.search('My number is 123-456-7890.')\n",
    "print(mo.group(2))"
   ]
  },
  {
   "cell_type": "markdown",
   "id": "cf4adbe9",
   "metadata": {},
   "source": [
    "## 6. In standard expression syntax, parentheses and intervals have distinct meanings. How can you tell a regex that you want it to fit real parentheses and periods?"
   ]
  },
  {
   "cell_type": "raw",
   "id": "489b5223",
   "metadata": {},
   "source": [
    "Using a Backslash (\\) we can escape the parentheses and periods\n",
    "Eg: \\., \\\\, \\("
   ]
  },
  {
   "cell_type": "markdown",
   "id": "261c9472",
   "metadata": {},
   "source": [
    "## 7. The findall() method returns a string list or a list of string tuples. What causes it to return one of the two options?"
   ]
  },
  {
   "cell_type": "raw",
   "id": "f56a6399",
   "metadata": {},
   "source": [
    "If the regex has no groups, a list of strings is returned. If the regex has groups, a list of tuples of strings is returned."
   ]
  },
  {
   "cell_type": "markdown",
   "id": "2a33791c",
   "metadata": {},
   "source": [
    "## 8. In standard expressions, what does the | character mean?"
   ]
  },
  {
   "cell_type": "raw",
   "id": "7b4f1f11",
   "metadata": {},
   "source": [
    "| signifies matching \"either\" or \"between\" two groups"
   ]
  },
  {
   "cell_type": "markdown",
   "id": "5ed4e14d",
   "metadata": {},
   "source": [
    "## 9. In regular expressions, what does the character stand for?"
   ]
  },
  {
   "cell_type": "raw",
   "id": "7dbba13a",
   "metadata": {},
   "source": []
  },
  {
   "cell_type": "markdown",
   "id": "878e4b1a",
   "metadata": {},
   "source": [
    "## 10.In regular expressions, what is the difference between the + and * characters?"
   ]
  },
  {
   "cell_type": "raw",
   "id": "a24752ee",
   "metadata": {},
   "source": [
    "+: one or more (1+), e.g., [0-9]+ matches one or more digits such as '123', '000'\n",
    "*: zero or more (0+), e.g., [0-9]* matches zero or more digits. It accepts all those in [0-9]+ plus the empty string"
   ]
  },
  {
   "cell_type": "markdown",
   "id": "0cc6c5ef",
   "metadata": {},
   "source": [
    "## 11. What is the difference between {4} and {4,5} in regular expression?"
   ]
  },
  {
   "cell_type": "raw",
   "id": "5626f0c1",
   "metadata": {},
   "source": [
    "{4}: exactly 4 times\n",
    "{4,5}: 4 to 5 times both value inclusive "
   ]
  },
  {
   "cell_type": "markdown",
   "id": "8f4674c0",
   "metadata": {},
   "source": [
    "## 12. What do you mean by the \\d, \\w, and \\s shorthand character classes signify in regular expressions?"
   ]
  },
  {
   "cell_type": "raw",
   "id": "81f8a50d",
   "metadata": {},
   "source": [
    "\\d: ANY ONE digit character. Digits are [0-9]\n",
    "\\w: ANY ONE word characters. Words are [a-zA-Z0-9_]\n",
    "\\s: ANY ONE space character. Whitespace characters are [ \\n\\r\\t\\f]"
   ]
  },
  {
   "cell_type": "markdown",
   "id": "7c46c0c5",
   "metadata": {},
   "source": [
    "## 13. What do means by \\D, \\W, and \\S shorthand character classes signify in regular expressions?"
   ]
  },
  {
   "cell_type": "raw",
   "id": "a5275f0c",
   "metadata": {},
   "source": [
    "\\D: ANY ONE non-digit character\n",
    "\\W: ANY ONE non-word characters\n",
    "\\S: ANY ONE non-space character"
   ]
  },
  {
   "cell_type": "markdown",
   "id": "d4185a49",
   "metadata": {},
   "source": [
    "## 14. What is the difference between .\\*? and .*"
   ]
  },
  {
   "cell_type": "raw",
   "id": "de1b7aa8",
   "metadata": {},
   "source": [
    ".*?: matches any type of character any number of times and as few times as possible\n",
    ".*: matches any type of character any number of times"
   ]
  },
  {
   "cell_type": "markdown",
   "id": "f8b3ef0e",
   "metadata": {},
   "source": [
    "## 15. What is the syntax for matching both numbers and lowercase letters with a character class?"
   ]
  },
  {
   "cell_type": "code",
   "execution_count": 4,
   "id": "414ae49d",
   "metadata": {},
   "outputs": [
    {
     "data": {
      "text/plain": [
       "re.compile(r'[0-9a-z]', re.UNICODE)"
      ]
     },
     "execution_count": 4,
     "metadata": {},
     "output_type": "execute_result"
    }
   ],
   "source": [
    "import re\n",
    "re.compile(r'[0-9a-z]')"
   ]
  },
  {
   "cell_type": "markdown",
   "id": "8dfef4d1",
   "metadata": {},
   "source": [
    "## 16. What is the procedure for making a normal expression in regax case insensitive?"
   ]
  },
  {
   "cell_type": "raw",
   "id": "dfb1d7d2",
   "metadata": {},
   "source": [
    "IGNORECASE : This flag allows for case-insensitive matching of the Regular Expression with the given string i.e. expressions like [A-Z] will match lowercase letters, too"
   ]
  },
  {
   "cell_type": "code",
   "execution_count": 6,
   "id": "90e83186",
   "metadata": {},
   "outputs": [
    {
     "data": {
      "text/plain": [
       "<re.Match object; span=(0, 4), match='TeSt'>"
      ]
     },
     "execution_count": 6,
     "metadata": {},
     "output_type": "execute_result"
    }
   ],
   "source": [
    "import re\n",
    "re.search('test', 'TeSt', re.IGNORECASE)"
   ]
  },
  {
   "cell_type": "markdown",
   "id": "b72b7dc6",
   "metadata": {},
   "source": [
    "## 17. What does the . character normally match? What does it match if re.DOTALL is passed as 2nd argument in re.compile()?"
   ]
  },
  {
   "cell_type": "raw",
   "id": "54254e8e",
   "metadata": {},
   "source": [
    ". character matches any character except the newline character. If re. DOTALL is passed as the second argument to re. compile(), then the dot will also match newline characters."
   ]
  },
  {
   "cell_type": "code",
   "execution_count": 12,
   "id": "6de54b07",
   "metadata": {},
   "outputs": [
    {
     "name": "stdout",
     "output_type": "stream",
     "text": [
      "<re.Match object; span=(12, 12), match=''>\n"
     ]
    }
   ],
   "source": [
    "import re\n",
    "numRegex = re.compile(r'.*')\n",
    "print(numRegex.match(\"HI /n, Rajat\", re.DOTALL))\n"
   ]
  },
  {
   "cell_type": "markdown",
   "id": "af82cfd0",
   "metadata": {},
   "source": [
    "## 18. If numReg = re.compile(r&#39;\\d+&#39;), what will numRegex.sub(&#39;X&#39;, &#39;11 drummers, 10 pipers, five rings, 4 hen&#39;) return?"
   ]
  },
  {
   "cell_type": "raw",
   "id": "8780856d",
   "metadata": {},
   "source": [
    "It will substitute all the digit with X"
   ]
  },
  {
   "cell_type": "code",
   "execution_count": 8,
   "id": "0faab4c9",
   "metadata": {},
   "outputs": [
    {
     "data": {
      "text/plain": [
       "'X drummers, X pipers, five rings, X hen'"
      ]
     },
     "execution_count": 8,
     "metadata": {},
     "output_type": "execute_result"
    }
   ],
   "source": [
    "import re\n",
    "numRegex = re.compile(r'\\d+')\n",
    "numRegex.sub('X', '11 drummers, 10 pipers, five rings, 4 hen')"
   ]
  },
  {
   "cell_type": "markdown",
   "id": "cb11bb05",
   "metadata": {},
   "source": [
    "## 19. What does passing re.VERBOSE as the 2nd argument to re.compile() allow to do?"
   ]
  },
  {
   "cell_type": "raw",
   "id": "7ed6690e",
   "metadata": {},
   "source": [
    "The VERBOSE flag of the regex package allows the user to write regular expressions that can look nicer and are more readable."
   ]
  },
  {
   "cell_type": "code",
   "execution_count": 13,
   "id": "4564cd82",
   "metadata": {},
   "outputs": [
    {
     "data": {
      "text/plain": [
       "'X drummers, X pipers, five rings, X hen'"
      ]
     },
     "execution_count": 13,
     "metadata": {},
     "output_type": "execute_result"
    }
   ],
   "source": [
    "import re\n",
    "numRegex = re.compile(r'\\d+')\n",
    "numRegex.sub('X', '11 drummers, 10 pipers, five rings, 4 hen', re.VERBOSE)"
   ]
  },
  {
   "cell_type": "markdown",
   "id": "3c10e5d8",
   "metadata": {},
   "source": [
    "## 20. How would you write a regex that match a number with comma for every three digits? It must match the given following:"
   ]
  },
  {
   "cell_type": "code",
   "execution_count": 26,
   "id": "9d6be43f",
   "metadata": {},
   "outputs": [],
   "source": [
    "import re\n",
    "\n",
    "def regCheck():\n",
    "    numRegex = re.compile(r'^\\d{1,3}(,\\d{3})*$')\n",
    "    test = input(\"Enter the number: \")\n",
    "\n",
    "    if re.fullmatch(numRegex, test):\n",
    "        print(f\"'{test}' valid\")\n",
    "    else:\n",
    "        print(f\"'{test}' Not valid\")"
   ]
  },
  {
   "cell_type": "code",
   "execution_count": 27,
   "id": "4144ab75",
   "metadata": {},
   "outputs": [
    {
     "name": "stdout",
     "output_type": "stream",
     "text": [
      "Enter the number: 12\n",
      "'12' valid\n"
     ]
    }
   ],
   "source": [
    "regCheck()"
   ]
  },
  {
   "cell_type": "code",
   "execution_count": 28,
   "id": "f20992b2",
   "metadata": {},
   "outputs": [
    {
     "name": "stdout",
     "output_type": "stream",
     "text": [
      "Enter the number: 1,234\n",
      "'1,234' valid\n"
     ]
    }
   ],
   "source": [
    "regCheck()"
   ]
  },
  {
   "cell_type": "code",
   "execution_count": 29,
   "id": "7f7a64ff",
   "metadata": {},
   "outputs": [
    {
     "name": "stdout",
     "output_type": "stream",
     "text": [
      "Enter the number: 6,356,232\n",
      "'6,356,232' valid\n"
     ]
    }
   ],
   "source": [
    "regCheck()"
   ]
  },
  {
   "cell_type": "code",
   "execution_count": 30,
   "id": "20b78b49",
   "metadata": {},
   "outputs": [
    {
     "name": "stdout",
     "output_type": "stream",
     "text": [
      "Enter the number: 1234\n",
      "'1234' Not valid\n"
     ]
    }
   ],
   "source": [
    "regCheck()"
   ]
  },
  {
   "cell_type": "code",
   "execution_count": 31,
   "id": "8cb80da4",
   "metadata": {},
   "outputs": [
    {
     "name": "stdout",
     "output_type": "stream",
     "text": [
      "Enter the number: 12,23,333\n",
      "'12,23,333' Not valid\n"
     ]
    }
   ],
   "source": [
    "regCheck()"
   ]
  },
  {
   "cell_type": "markdown",
   "id": "e13c83b6",
   "metadata": {},
   "source": [
    "## 21. How would you write a regex that matches the full name of someone whose last name is Watanabe? You can assume that the first name that comes before it will always be one word that begins with a capital letter. The regex must match the following:"
   ]
  },
  {
   "cell_type": "code",
   "execution_count": 32,
   "id": "9ddb4b66",
   "metadata": {},
   "outputs": [],
   "source": [
    "import re\n",
    "\n",
    "def nameCheck():\n",
    "    nameRegex = re.compile(r'[A-Z][a-zA-Z]+\\sWatanabe')\n",
    "    test = input(\"Enter the name: \")\n",
    "\n",
    "    if re.fullmatch(nameRegex, test):\n",
    "        print(f\"'{test}' valid\")\n",
    "    else:\n",
    "        print(f\"'{test}' Not valid\")"
   ]
  },
  {
   "cell_type": "code",
   "execution_count": 33,
   "id": "4c413613",
   "metadata": {},
   "outputs": [
    {
     "name": "stdout",
     "output_type": "stream",
     "text": [
      "Enter the name: RoboCop Watanabe\n",
      "'RoboCop Watanabe' valid\n"
     ]
    }
   ],
   "source": [
    "nameCheck()"
   ]
  },
  {
   "cell_type": "code",
   "execution_count": 34,
   "id": "2b8617c3",
   "metadata": {},
   "outputs": [
    {
     "name": "stdout",
     "output_type": "stream",
     "text": [
      "Enter the name: Haruto Watanabe\n",
      "'Haruto Watanabe' valid\n"
     ]
    }
   ],
   "source": [
    "nameCheck()"
   ]
  },
  {
   "cell_type": "code",
   "execution_count": 35,
   "id": "19256e4e",
   "metadata": {},
   "outputs": [
    {
     "name": "stdout",
     "output_type": "stream",
     "text": [
      "Enter the name: haruto Watanabe\n",
      "'haruto Watanabe' Not valid\n"
     ]
    }
   ],
   "source": [
    "nameCheck()"
   ]
  },
  {
   "cell_type": "code",
   "execution_count": 36,
   "id": "c05b1d6d",
   "metadata": {},
   "outputs": [
    {
     "name": "stdout",
     "output_type": "stream",
     "text": [
      "Enter the name: Mr. Watanabe\n",
      "'Mr. Watanabe' Not valid\n"
     ]
    }
   ],
   "source": [
    "nameCheck()"
   ]
  },
  {
   "cell_type": "code",
   "execution_count": 37,
   "id": "1ecb8e74",
   "metadata": {},
   "outputs": [
    {
     "name": "stdout",
     "output_type": "stream",
     "text": [
      "Enter the name: Haruto watanabe\n",
      "'Haruto watanabe' Not valid\n"
     ]
    }
   ],
   "source": [
    "nameCheck()"
   ]
  },
  {
   "cell_type": "markdown",
   "id": "f1b914e9",
   "metadata": {},
   "source": [
    "## 22. How would you write a regex that matches a sentence where the first word is either Alice, Bob, or Carol; the second word is either eats, pets, or throws; the third word is apples, cats, or baseballs; and the sentence ends with a period? This regex should be case-insensitive. It must match the following:"
   ]
  },
  {
   "cell_type": "code",
   "execution_count": 42,
   "id": "75217f1d",
   "metadata": {},
   "outputs": [],
   "source": [
    "import re\n",
    "\n",
    "def nameCheck():\n",
    "    nameRegex = re.compile(r'([Alice|Bob|Carol])\\s([eats|pets|throws])\\s([apples|cats|baseball])\\.', re.IGNORECASE)\n",
    "    test = input(\"Enter the Sentence: \")\n",
    "\n",
    "    if re.fullmatch(nameRegex, test):\n",
    "        print(f\"'{test}' valid\")\n",
    "    else:\n",
    "        print(f\"'{test}' Not valid\")"
   ]
  },
  {
   "cell_type": "code",
   "execution_count": 43,
   "id": "f603441e",
   "metadata": {},
   "outputs": [
    {
     "name": "stdout",
     "output_type": "stream",
     "text": [
      "Enter the Sentence: Alice eats apples.\n",
      "'Alice eats apples.' Not valid\n"
     ]
    }
   ],
   "source": [
    "nameCheck()"
   ]
  }
 ],
 "metadata": {
  "kernelspec": {
   "display_name": "Python 3 (ipykernel)",
   "language": "python",
   "name": "python3"
  },
  "language_info": {
   "codemirror_mode": {
    "name": "ipython",
    "version": 3
   },
   "file_extension": ".py",
   "mimetype": "text/x-python",
   "name": "python",
   "nbconvert_exporter": "python",
   "pygments_lexer": "ipython3",
   "version": "3.9.12"
  }
 },
 "nbformat": 4,
 "nbformat_minor": 5
}
