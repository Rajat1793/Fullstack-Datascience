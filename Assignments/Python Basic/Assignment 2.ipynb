{
 "cells": [
  {
   "cell_type": "markdown",
   "id": "e7c30624",
   "metadata": {},
   "source": [
    "### 1.What are the two values of the Boolean data type? How do you write them?\n",
    "    Two types of Boolean data types are \n",
    "        1. True\n",
    "        2. False"
   ]
  },
  {
   "cell_type": "code",
   "execution_count": 3,
   "id": "ae75c85f",
   "metadata": {},
   "outputs": [
    {
     "name": "stdout",
     "output_type": "stream",
     "text": [
      "True <class 'bool'>\n",
      "False <class 'bool'>\n"
     ]
    }
   ],
   "source": [
    "a = True\n",
    "b = False\n",
    "print(a, type(a))\n",
    "print(b, type(b))"
   ]
  },
  {
   "cell_type": "markdown",
   "id": "eb39160f",
   "metadata": {},
   "source": [
    "### 2. What are the three different types of Boolean operators?\n",
    "    1. AND\n",
    "    2. OR\n",
    "    3. NOT"
   ]
  },
  {
   "cell_type": "code",
   "execution_count": 12,
   "id": "7f192389",
   "metadata": {},
   "outputs": [
    {
     "name": "stdout",
     "output_type": "stream",
     "text": [
      "False True True\n"
     ]
    }
   ],
   "source": [
    "a = 5 \n",
    "b = 10\n",
    "c = a<b and a>b\n",
    "d = a<b or a>b\n",
    "e = not (a>b)\n",
    "print(c, d, e)"
   ]
  },
  {
   "cell_type": "markdown",
   "id": "9b94227f",
   "metadata": {},
   "source": [
    "### 3. Make a list of each Boolean operator's truth tables (i.e. every possible combination of Boolean values for the operator and what it evaluate ). \n",
    "    AND table\n"
   ]
  },
  {
   "cell_type": "code",
   "execution_count": 13,
   "id": "d19d31f9",
   "metadata": {},
   "outputs": [
    {
     "name": "stdout",
     "output_type": "stream",
     "text": [
      "False False False True\n"
     ]
    }
   ],
   "source": [
    "a = 5 \n",
    "b = 10\n",
    "c = a>b and b<a #false and false\n",
    "d = a>b and b>a #fasle and true\n",
    "e = a<b and b<a #true and false\n",
    "f = a<b and b>a #true and true\n",
    "print(c, d, e, f)"
   ]
  },
  {
   "cell_type": "markdown",
   "id": "87cd7678",
   "metadata": {},
   "source": [
    "    OR table"
   ]
  },
  {
   "cell_type": "code",
   "execution_count": 14,
   "id": "1f6b538f",
   "metadata": {},
   "outputs": [
    {
     "name": "stdout",
     "output_type": "stream",
     "text": [
      "False True True True\n"
     ]
    }
   ],
   "source": [
    "a = 5 \n",
    "b = 10\n",
    "c = a>b or b<a #false and false\n",
    "d = a>b or b>a #fasle and true\n",
    "e = a<b or b<a #true and false\n",
    "f = a<b or b>a #true and true\n",
    "print(c, d, e, f)"
   ]
  },
  {
   "cell_type": "markdown",
   "id": "d67ffad9",
   "metadata": {},
   "source": [
    "    NOT table"
   ]
  },
  {
   "cell_type": "code",
   "execution_count": 15,
   "id": "38044793",
   "metadata": {},
   "outputs": [
    {
     "name": "stdout",
     "output_type": "stream",
     "text": [
      "True\n"
     ]
    }
   ],
   "source": [
    "a = 5 \n",
    "b = 10\n",
    "c = not(a>b or b<a)\n",
    "print(c)"
   ]
  },
  {
   "cell_type": "markdown",
   "id": "8b05516c",
   "metadata": {},
   "source": [
    "### 4. What are the values of the following expressions?"
   ]
  },
  {
   "cell_type": "code",
   "execution_count": 16,
   "id": "7d8c5adb",
   "metadata": {},
   "outputs": [
    {
     "data": {
      "text/plain": [
       "False"
      ]
     },
     "execution_count": 16,
     "metadata": {},
     "output_type": "execute_result"
    }
   ],
   "source": [
    "(5 > 4) and (3 == 5)"
   ]
  },
  {
   "cell_type": "code",
   "execution_count": 17,
   "id": "86c83bcb",
   "metadata": {},
   "outputs": [
    {
     "data": {
      "text/plain": [
       "False"
      ]
     },
     "execution_count": 17,
     "metadata": {},
     "output_type": "execute_result"
    }
   ],
   "source": [
    "not (5 > 4)"
   ]
  },
  {
   "cell_type": "code",
   "execution_count": 18,
   "id": "24c2caea",
   "metadata": {},
   "outputs": [
    {
     "data": {
      "text/plain": [
       "True"
      ]
     },
     "execution_count": 18,
     "metadata": {},
     "output_type": "execute_result"
    }
   ],
   "source": [
    "(5 > 4) or (3 == 5)"
   ]
  },
  {
   "cell_type": "code",
   "execution_count": 19,
   "id": "18ddaaf0",
   "metadata": {},
   "outputs": [
    {
     "data": {
      "text/plain": [
       "False"
      ]
     },
     "execution_count": 19,
     "metadata": {},
     "output_type": "execute_result"
    }
   ],
   "source": [
    "not ((5 > 4) or (3 == 5))"
   ]
  },
  {
   "cell_type": "code",
   "execution_count": 20,
   "id": "92fe2f9e",
   "metadata": {},
   "outputs": [
    {
     "data": {
      "text/plain": [
       "False"
      ]
     },
     "execution_count": 20,
     "metadata": {},
     "output_type": "execute_result"
    }
   ],
   "source": [
    "(True and True) and (True == False)"
   ]
  },
  {
   "cell_type": "code",
   "execution_count": 21,
   "id": "11f42b91",
   "metadata": {},
   "outputs": [
    {
     "data": {
      "text/plain": [
       "True"
      ]
     },
     "execution_count": 21,
     "metadata": {},
     "output_type": "execute_result"
    }
   ],
   "source": [
    "(not False) or (not True)"
   ]
  },
  {
   "cell_type": "markdown",
   "id": "7c45c02f",
   "metadata": {},
   "source": [
    "### 5. What are the six comparison operators?\n",
    "\n",
    "    1. > (greater than)\n",
    "    2. < (less than)\n",
    "    3. == (equal to)\n",
    "    4. != (not equal to)\n",
    "    5. >= (greater than or equal to)\n",
    "    6. <= (less than or equall to)"
   ]
  },
  {
   "cell_type": "markdown",
   "id": "cd080cf4",
   "metadata": {},
   "source": [
    "### 6. How do you tell the difference between the equal to and assignment operators? Describe a condition and when you would use one.\n",
    "\n",
    "    Equal to operator (==) is used to evaluate the value between the two variables where as assignment operator (=) is used to assign the value to a variable"
   ]
  },
  {
   "cell_type": "code",
   "execution_count": 22,
   "id": "a54f1ea0",
   "metadata": {},
   "outputs": [
    {
     "data": {
      "text/plain": [
       "True"
      ]
     },
     "execution_count": 22,
     "metadata": {},
     "output_type": "execute_result"
    }
   ],
   "source": [
    "a = 5 ##assignment operator\n",
    "a == 5 ## equal to "
   ]
  },
  {
   "cell_type": "markdown",
   "id": "86bc7e18",
   "metadata": {},
   "source": [
    "### 7. Identify the three blocks in this code:\n",
    "    spam = 0\n",
    "    if spam == 10:\n",
    "    print('eggs')\n",
    "    if spam > 5:\n",
    "    print('bacon')\n",
    "    else:\n",
    "    print('ham')\n",
    "    print('spam')\n",
    "    print('spam')"
   ]
  },
  {
   "cell_type": "code",
   "execution_count": 24,
   "id": "75b4d0f2",
   "metadata": {},
   "outputs": [
    {
     "name": "stdout",
     "output_type": "stream",
     "text": [
      "ham\n",
      "spam\n",
      "spam\n"
     ]
    }
   ],
   "source": [
    "spam = 0\n",
    "if spam == 10:\n",
    "    print('eggs') ##1st block\n",
    "if spam > 5:\n",
    "    print('bacon') ##2nd block\n",
    "else:\n",
    "    print('ham') ##3rd block\n",
    "print('spam')\n",
    "print('spam')"
   ]
  },
  {
   "cell_type": "markdown",
   "id": "b4b87802",
   "metadata": {},
   "source": [
    "### 8. Write code that prints Hello if 1 is stored in spam, prints Howdy if 2 is stored in spam, and prints Greetings! if anything else is stored in spam."
   ]
  },
  {
   "cell_type": "code",
   "execution_count": 46,
   "id": "62e3d360",
   "metadata": {},
   "outputs": [
    {
     "name": "stdout",
     "output_type": "stream",
     "text": [
      "Hello\n",
      "Howdy\n",
      "Greetings\n"
     ]
    }
   ],
   "source": [
    "def spamfun(spam):\n",
    "    if spam == 1:\n",
    "        print('Hello')\n",
    "    elif spam == 2:\n",
    "        print('Howdy')\n",
    "    else:\n",
    "        print('Greetings')\n",
    "spamfun(1)\n",
    "spamfun(2)\n",
    "spamfun(3)"
   ]
  },
  {
   "cell_type": "markdown",
   "id": "dbc6d7d2",
   "metadata": {},
   "source": [
    "### 9.If your programme is stuck in an endless loop, what keys you’ll press?\n",
    "    If a program is stuck in an endless loop in Jupyter Notebook we can interrupt the kernel and restart the kernel, in case of terminal we can use control+Z"
   ]
  },
  {
   "cell_type": "markdown",
   "id": "b20d01b8",
   "metadata": {},
   "source": [
    "### 10. How can you tell the difference between break and continue?\n",
    "    Break: Terminates the execution of the current loop and passes the control over the next loop or main body.\n",
    "    Continue: It skips the current iteration and executes the very next iteration in the loop."
   ]
  },
  {
   "cell_type": "code",
   "execution_count": 28,
   "id": "b94d5144",
   "metadata": {},
   "outputs": [
    {
     "name": "stdout",
     "output_type": "stream",
     "text": [
      "1\n",
      "2\n",
      "3\n"
     ]
    }
   ],
   "source": [
    "##Break statement\n",
    "a = 1\n",
    "while a < 6:\n",
    "  print(a)\n",
    "  if a == 3:\n",
    "    break\n",
    "  a += 1"
   ]
  },
  {
   "cell_type": "code",
   "execution_count": 30,
   "id": "fd0c0415",
   "metadata": {},
   "outputs": [
    {
     "name": "stdout",
     "output_type": "stream",
     "text": [
      "1\n",
      "2\n",
      "4\n",
      "5\n",
      "6\n"
     ]
    }
   ],
   "source": [
    "##continue statemnet\n",
    "a = 0\n",
    "while a < 6:\n",
    "  a += 1 \n",
    "  if a == 3:\n",
    "    continue\n",
    "  print(a)"
   ]
  },
  {
   "cell_type": "markdown",
   "id": "99711f53",
   "metadata": {},
   "source": [
    "### 11. In a for loop, what is the difference between range(10), range(0, 10), and range(0, 10, 1)?\n",
    "    range(10): In this case we have definded just the stop value for the range function and stop value is not included\n",
    "    \n",
    "    range(0, 10): In this case we have definded both the start and the stop value for the range function and stop value is not included\n",
    "    \n",
    "    range(0, 10, 1): In this case we have definded both the start, stop and step value for the range function and stop value is not included\n",
    "    "
   ]
  },
  {
   "cell_type": "code",
   "execution_count": 32,
   "id": "50b52849",
   "metadata": {},
   "outputs": [
    {
     "name": "stdout",
     "output_type": "stream",
     "text": [
      "0\n",
      "1\n",
      "2\n",
      "3\n",
      "4\n",
      "5\n",
      "6\n",
      "7\n",
      "8\n",
      "9\n"
     ]
    }
   ],
   "source": [
    "##range(10):\n",
    "for i in range(10):\n",
    "    print(i)"
   ]
  },
  {
   "cell_type": "code",
   "execution_count": 33,
   "id": "300058c4",
   "metadata": {},
   "outputs": [
    {
     "name": "stdout",
     "output_type": "stream",
     "text": [
      "0\n",
      "1\n",
      "2\n",
      "3\n",
      "4\n",
      "5\n",
      "6\n",
      "7\n",
      "8\n",
      "9\n"
     ]
    }
   ],
   "source": [
    "##range(0,10):\n",
    "for i in range(0,10):\n",
    "    print(i)"
   ]
  },
  {
   "cell_type": "code",
   "execution_count": 34,
   "id": "55fbc9ea",
   "metadata": {},
   "outputs": [
    {
     "name": "stdout",
     "output_type": "stream",
     "text": [
      "0\n",
      "1\n",
      "2\n",
      "3\n",
      "4\n",
      "5\n",
      "6\n",
      "7\n",
      "8\n",
      "9\n"
     ]
    }
   ],
   "source": [
    "##range(0,10,1):\n",
    "for i in range(0,10,1):\n",
    "    print(i)"
   ]
  },
  {
   "cell_type": "markdown",
   "id": "08b4ca95",
   "metadata": {},
   "source": [
    "### 12. Write a short program that prints the numbers 1 to 10 using a for loop. Then write an equivalent program that prints the numbers 1 to 10 using a while loop.\n",
    "\n",
    "    For Loop:"
   ]
  },
  {
   "cell_type": "code",
   "execution_count": 44,
   "id": "ac535589",
   "metadata": {},
   "outputs": [
    {
     "name": "stdout",
     "output_type": "stream",
     "text": [
      "0\n",
      "1\n",
      "2\n",
      "3\n",
      "4\n",
      "5\n",
      "6\n",
      "7\n",
      "8\n",
      "9\n",
      "10\n"
     ]
    }
   ],
   "source": [
    "for i in range(11):\n",
    "    print(i)"
   ]
  },
  {
   "cell_type": "markdown",
   "id": "92a7f900",
   "metadata": {},
   "source": [
    "    While loop:"
   ]
  },
  {
   "cell_type": "code",
   "execution_count": 42,
   "id": "5a34f145",
   "metadata": {},
   "outputs": [
    {
     "name": "stdout",
     "output_type": "stream",
     "text": [
      "1\n",
      "2\n",
      "3\n",
      "4\n",
      "5\n",
      "6\n",
      "7\n",
      "8\n",
      "9\n",
      "10\n"
     ]
    }
   ],
   "source": [
    "i = 0\n",
    "while(i<10):\n",
    "    i +=1\n",
    "    print(i)"
   ]
  },
  {
   "cell_type": "markdown",
   "id": "3076025f",
   "metadata": {},
   "source": [
    "### 13. If you had a function named bacon() inside a module named spam, how would you call it after importing spam?\n",
    "\n",
    "    Function can be called with spam.bacon()"
   ]
  }
 ],
 "metadata": {
  "kernelspec": {
   "display_name": "Python 3 (ipykernel)",
   "language": "python",
   "name": "python3"
  },
  "language_info": {
   "codemirror_mode": {
    "name": "ipython",
    "version": 3
   },
   "file_extension": ".py",
   "mimetype": "text/x-python",
   "name": "python",
   "nbconvert_exporter": "python",
   "pygments_lexer": "ipython3",
   "version": "3.9.7"
  }
 },
 "nbformat": 4,
 "nbformat_minor": 5
}
