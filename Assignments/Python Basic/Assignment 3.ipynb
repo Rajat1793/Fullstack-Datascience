{
 "cells": [
  {
   "cell_type": "markdown",
   "id": "4bba5782",
   "metadata": {},
   "source": [
    "## 1. Why are functions advantageous to have in your programs?"
   ]
  },
  {
   "cell_type": "markdown",
   "id": "b2967776",
   "metadata": {},
   "source": [
    "It saves time by having a single solution for a repeating problem so we don’t have to do the same work over and over again"
   ]
  },
  {
   "cell_type": "markdown",
   "id": "fbe044f9",
   "metadata": {},
   "source": [
    "## 2. When does the code in a function run: when it's specified or when it's called?"
   ]
  },
  {
   "cell_type": "markdown",
   "id": "13753283",
   "metadata": {},
   "source": [
    "Function runs when its called, it creates a new stack frame and all function data is pushed on to the program stack"
   ]
  },
  {
   "cell_type": "markdown",
   "id": "2c21f9c2",
   "metadata": {},
   "source": [
    "## 3. What statement creates a function?"
   ]
  },
  {
   "cell_type": "markdown",
   "id": "fb907fdb",
   "metadata": {},
   "source": [
    "def creates the function"
   ]
  },
  {
   "cell_type": "markdown",
   "id": "7e90dd9b",
   "metadata": {},
   "source": [
    "## 4. What is the difference between a function and a function call?"
   ]
  },
  {
   "cell_type": "markdown",
   "id": "2e698535",
   "metadata": {},
   "source": [
    "Function is a block of code which gets executed and return a result. It accepts input as a parameter and return the result.\n",
    "Function call is code which is used to call the function."
   ]
  },
  {
   "cell_type": "markdown",
   "id": "7b38a498",
   "metadata": {},
   "source": [
    "## 5. How many global scopes are there in a Python program? How many local scopes?"
   ]
  },
  {
   "cell_type": "markdown",
   "id": "50dfebcc",
   "metadata": {},
   "source": [
    "There is only one global scope, but we can have unlimited local scopes inside every function we define."
   ]
  },
  {
   "cell_type": "markdown",
   "id": "77d47a75",
   "metadata": {},
   "source": [
    "## 6. What happens to variables in a local scope when the function call returns?"
   ]
  },
  {
   "cell_type": "markdown",
   "id": "e170f8e7",
   "metadata": {},
   "source": [
    "Garbage collector delete the variables defined in local scope when the function call returns"
   ]
  },
  {
   "cell_type": "markdown",
   "id": "bc2816da",
   "metadata": {},
   "source": [
    "## 7. What is the concept of a return value? Is it possible to have a return value in an expression?"
   ]
  },
  {
   "cell_type": "markdown",
   "id": "f04e2ce1",
   "metadata": {},
   "source": [
    "It returns the value to the function call when the function execution is over. Yes it is possible to have a return value in an expression. It should be inline instaed of block"
   ]
  },
  {
   "cell_type": "markdown",
   "id": "d65ebc76",
   "metadata": {},
   "source": [
    "## 8. If a function does not have a return statement, what is the return value of a call to that function?"
   ]
  },
  {
   "cell_type": "markdown",
   "id": "671ba264",
   "metadata": {},
   "source": [
    "Return value for a called function is UNDEFINED"
   ]
  },
  {
   "cell_type": "markdown",
   "id": "19d86520",
   "metadata": {},
   "source": [
    "## 9. How do you make a function variable refer to the global variable?"
   ]
  },
  {
   "cell_type": "markdown",
   "id": "05bcff4b",
   "metadata": {},
   "source": [
    "We can use GLOBAL keyword to define function variable refer to global variable."
   ]
  },
  {
   "cell_type": "markdown",
   "id": "d43e00ae",
   "metadata": {},
   "source": [
    "## 10. What is the data type of None?"
   ]
  },
  {
   "cell_type": "markdown",
   "id": "c43f8952",
   "metadata": {},
   "source": [
    "NONE is a data type in itself"
   ]
  },
  {
   "cell_type": "markdown",
   "id": "1e584169",
   "metadata": {},
   "source": [
    "## 11. What does the sentence import areallyourpetsnamederic do?"
   ]
  },
  {
   "cell_type": "markdown",
   "id": "cfde18fb",
   "metadata": {},
   "source": [
    "Import areallyourpetsnamederic imports the module and all its function defined inside will be available for reuseability."
   ]
  },
  {
   "cell_type": "markdown",
   "id": "37693a4a",
   "metadata": {},
   "source": [
    "## 12. If you had a bacon() feature in a spam module, what would you call it after importing spam?"
   ]
  },
  {
   "cell_type": "markdown",
   "id": "41b074c4",
   "metadata": {},
   "source": [
    "spam.bacon()"
   ]
  },
  {
   "cell_type": "markdown",
   "id": "bc4677a2",
   "metadata": {},
   "source": [
    "## 13. What can you do to save a programme from crashing if it encounters an error?"
   ]
  },
  {
   "cell_type": "markdown",
   "id": "05ba25bc",
   "metadata": {},
   "source": [
    "We can use the TRY EXCEPT block to avoid crash."
   ]
  },
  {
   "cell_type": "markdown",
   "id": "a1b1ebc2",
   "metadata": {},
   "source": [
    "## 14. What is the purpose of the try clause? What is the purpose of the except clause?"
   ]
  },
  {
   "cell_type": "markdown",
   "id": "b6533c18",
   "metadata": {},
   "source": [
    "Try block is basically use to run the lines of code which might produce an error on execution.\n",
    "Except block is used to run the set of lines when the error is generated."
   ]
  }
 ],
 "metadata": {
  "kernelspec": {
   "display_name": "Python 3 (ipykernel)",
   "language": "python",
   "name": "python3"
  },
  "language_info": {
   "codemirror_mode": {
    "name": "ipython",
    "version": 3
   },
   "file_extension": ".py",
   "mimetype": "text/x-python",
   "name": "python",
   "nbconvert_exporter": "python",
   "pygments_lexer": "ipython3",
   "version": "3.9.12"
  }
 },
 "nbformat": 4,
 "nbformat_minor": 5
}
