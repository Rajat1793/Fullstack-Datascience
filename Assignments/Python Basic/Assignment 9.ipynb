{
 "cells": [
  {
   "cell_type": "markdown",
   "id": "4bd476e2",
   "metadata": {},
   "source": [
    "## 1. To what does a relative path refer?"
   ]
  },
  {
   "cell_type": "markdown",
   "id": "db434312",
   "metadata": {},
   "source": [
    "A relative path is a path that describes the location of a directory with respect to current working directory where we run the Python script."
   ]
  },
  {
   "cell_type": "markdown",
   "id": "d56a2bfa",
   "metadata": {},
   "source": [
    "## 2. What does an absolute path start with your operating system?"
   ]
  },
  {
   "cell_type": "markdown",
   "id": "c6488ae1",
   "metadata": {},
   "source": [
    "An absolute path is defined as specifying the location of a file or directory from the root directory(/)."
   ]
  },
  {
   "cell_type": "markdown",
   "id": "aa2bb814",
   "metadata": {},
   "source": [
    "## 3. What do the functions os.getcwd() and os.chdir() do?"
   ]
  },
  {
   "cell_type": "markdown",
   "id": "314783e7",
   "metadata": {},
   "source": [
    "os.getcwd(): CWD stands for Current Working Directory. function allows to check the current working directory \n",
    "\n",
    "os.chdir() : Short for CHange DIRectory, function allows to set the current working directory"
   ]
  },
  {
   "cell_type": "markdown",
   "id": "2125271f",
   "metadata": {},
   "source": [
    "## 4. What are the . and .. folders?"
   ]
  },
  {
   "cell_type": "markdown",
   "id": "91e51809",
   "metadata": {},
   "source": [
    "a dot (.) iused for current directory and the parent directory. \n",
    "\n",
    "double-dot (..) used for moving up in the hierarchy."
   ]
  },
  {
   "cell_type": "markdown",
   "id": "01f6c7e7",
   "metadata": {},
   "source": [
    "## 5. In C:\\bacon\\eggs\\spam.txt, which part is the dir name, and which part is the base name?"
   ]
  },
  {
   "cell_type": "markdown",
   "id": "e5205166",
   "metadata": {},
   "source": [
    "C:\\bacon\\eggs is the dir name, while spam. txt is the base name."
   ]
  },
  {
   "cell_type": "markdown",
   "id": "70083aa5",
   "metadata": {},
   "source": [
    "## 6. What are the three “mode” arguments that can be passed to the open() function?"
   ]
  },
  {
   "cell_type": "markdown",
   "id": "1729773e",
   "metadata": {},
   "source": [
    "r: Opens the file in read-only mode. Starts reading from the beginning of the file \n",
    "\n",
    "w: Opens in write-only mode. The pointer is placed at the beginning of the file and this will overwrite any existing file with the same name. It will create a new file if one with the same name doesn't exist.\n",
    "\n",
    "a: Opens a file for appending new information to it. The pointer is placed at the end of the file. A new file is created if one with the same name doesn't exist.\n"
   ]
  },
  {
   "cell_type": "markdown",
   "id": "5c0e1ebe",
   "metadata": {},
   "source": [
    "## 7. What happens if an existing file is opened in write mode?"
   ]
  },
  {
   "cell_type": "markdown",
   "id": "7690d945",
   "metadata": {},
   "source": [
    "Old content of the file will be discarded and it will be treated as new file"
   ]
  },
  {
   "cell_type": "markdown",
   "id": "fdc6d769",
   "metadata": {},
   "source": [
    "## 8. How do you tell the difference between read() and readlines()?"
   ]
  },
  {
   "cell_type": "markdown",
   "id": "9c35b3d3",
   "metadata": {},
   "source": [
    "Read(): is used to read only single character from the standard output device\n",
    "    \n",
    "ReadLine(): is used to read a line or string from the standard output device."
   ]
  },
  {
   "cell_type": "markdown",
   "id": "2683eb7d",
   "metadata": {},
   "source": [
    "## 9. What data structure does a shelf value resemble?"
   ]
  },
  {
   "cell_type": "markdown",
   "id": "db887e1b",
   "metadata": {},
   "source": [
    "Shelf value resemble Dictionary value which has key and value pair"
   ]
  }
 ],
 "metadata": {
  "kernelspec": {
   "display_name": "Python 3 (ipykernel)",
   "language": "python",
   "name": "python3"
  },
  "language_info": {
   "codemirror_mode": {
    "name": "ipython",
    "version": 3
   },
   "file_extension": ".py",
   "mimetype": "text/x-python",
   "name": "python",
   "nbconvert_exporter": "python",
   "pygments_lexer": "ipython3",
   "version": "3.9.12"
  }
 },
 "nbformat": 4,
 "nbformat_minor": 5
}
