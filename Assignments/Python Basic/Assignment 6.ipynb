{
 "cells": [
  {
   "cell_type": "markdown",
   "id": "7f1cd492",
   "metadata": {},
   "source": [
    "## 1. What are escape characters, and how do you use them?"
   ]
  },
  {
   "cell_type": "raw",
   "id": "1a25435e",
   "metadata": {},
   "source": [
    "If we want to insert any illegal character in a string we use escape character '\\'"
   ]
  },
  {
   "cell_type": "code",
   "execution_count": 2,
   "id": "7f684b2f",
   "metadata": {},
   "outputs": [
    {
     "name": "stdout",
     "output_type": "stream",
     "text": [
      "Rajat \"Jaiswal\"\n"
     ]
    }
   ],
   "source": [
    "txt = \"Rajat \\\"Jaiswal\\\"\"\n",
    "print(txt) "
   ]
  },
  {
   "cell_type": "markdown",
   "id": "0d0191a4",
   "metadata": {},
   "source": [
    "## 2. What do the escape characters n and t stand for?"
   ]
  },
  {
   "cell_type": "raw",
   "id": "e7f6e84f",
   "metadata": {},
   "source": [
    "Escape character \\n -> newline\n",
    "Escape character \\t -> tab space"
   ]
  },
  {
   "cell_type": "code",
   "execution_count": 3,
   "id": "5d242be0",
   "metadata": {},
   "outputs": [
    {
     "name": "stdout",
     "output_type": "stream",
     "text": [
      "Rajat\n",
      "Jaiswal\n",
      "Rajat\tJaiswal\n"
     ]
    }
   ],
   "source": [
    "txt = \"Rajat\\nJaiswal\"\n",
    "txt1 = \"Rajat\\tJaiswal\"\n",
    "print(txt)\n",
    "print(txt1)"
   ]
  },
  {
   "cell_type": "markdown",
   "id": "cac746cc",
   "metadata": {},
   "source": [
    "## 3. What is the way to include backslash characters in a string?"
   ]
  },
  {
   "cell_type": "raw",
   "id": "3c7ebcb6",
   "metadata": {},
   "source": [
    "Use escape character to instert backslash character in a string"
   ]
  },
  {
   "cell_type": "code",
   "execution_count": 4,
   "id": "70a5dee5",
   "metadata": {},
   "outputs": [
    {
     "name": "stdout",
     "output_type": "stream",
     "text": [
      "Rajat \\ Jaiswal\n"
     ]
    }
   ],
   "source": [
    "txt = \"Rajat \\\\ Jaiswal\"\n",
    "print(txt) "
   ]
  },
  {
   "cell_type": "markdown",
   "id": "311e30ce",
   "metadata": {},
   "source": [
    "## 4. The string &quot;Howl&#39;s Moving Castle&quot; is a correct value. Why isn&#39;t the single quote character in the word Howl&#39;s not escaped a problem?"
   ]
  },
  {
   "cell_type": "raw",
   "id": "1f31cab1",
   "metadata": {},
   "source": [
    "Since we are using the Double quotes to denote string we can use single quote inside the double quotes or vice versa"
   ]
  },
  {
   "cell_type": "markdown",
   "id": "6191486d",
   "metadata": {},
   "source": [
    "## 5. How do you write a string of newlines if you don&#39;t want to use the n character?"
   ]
  },
  {
   "cell_type": "code",
   "execution_count": 6,
   "id": "8973865d",
   "metadata": {},
   "outputs": [
    {
     "name": "stdout",
     "output_type": "stream",
     "text": [
      "hello world "
     ]
    }
   ],
   "source": [
    "print(\"hello world\",end = ' ')"
   ]
  },
  {
   "cell_type": "markdown",
   "id": "750fad56",
   "metadata": {},
   "source": [
    "## 6. What are the values of the given expressions?"
   ]
  },
  {
   "cell_type": "markdown",
   "id": "c357f3c1",
   "metadata": {},
   "source": [
    "### 'Hello, world!'[1]"
   ]
  },
  {
   "cell_type": "code",
   "execution_count": 7,
   "id": "0c9ae0a5",
   "metadata": {},
   "outputs": [
    {
     "name": "stdout",
     "output_type": "stream",
     "text": [
      "e\n"
     ]
    }
   ],
   "source": [
    "print('Hello, world!'[1])"
   ]
  },
  {
   "cell_type": "markdown",
   "id": "4ccdc174",
   "metadata": {},
   "source": [
    "### 'Hello, world!'[0:5] "
   ]
  },
  {
   "cell_type": "code",
   "execution_count": 8,
   "id": "630286fd",
   "metadata": {},
   "outputs": [
    {
     "name": "stdout",
     "output_type": "stream",
     "text": [
      "Hello\n"
     ]
    }
   ],
   "source": [
    "print('Hello, world!'[0:5])"
   ]
  },
  {
   "cell_type": "markdown",
   "id": "d62cbfe0",
   "metadata": {},
   "source": [
    "### 'Hello, world!'[:5]"
   ]
  },
  {
   "cell_type": "code",
   "execution_count": 9,
   "id": "215a03bf",
   "metadata": {},
   "outputs": [
    {
     "name": "stdout",
     "output_type": "stream",
     "text": [
      "Hello\n"
     ]
    }
   ],
   "source": [
    "print('Hello, world!'[:5])"
   ]
  },
  {
   "cell_type": "markdown",
   "id": "0566b471",
   "metadata": {},
   "source": [
    "### 'Hello, world!'[3:]"
   ]
  },
  {
   "cell_type": "code",
   "execution_count": 10,
   "id": "398e7e4b",
   "metadata": {},
   "outputs": [
    {
     "name": "stdout",
     "output_type": "stream",
     "text": [
      "lo, world!\n"
     ]
    }
   ],
   "source": [
    "print('Hello, world!'[3:])"
   ]
  },
  {
   "cell_type": "markdown",
   "id": "03356d0f",
   "metadata": {},
   "source": [
    "## 7. What are the values of the following expressions?"
   ]
  },
  {
   "cell_type": "markdown",
   "id": "e8881c64",
   "metadata": {},
   "source": [
    "### 'Hello'.upper()"
   ]
  },
  {
   "cell_type": "code",
   "execution_count": 11,
   "id": "48a83b20",
   "metadata": {},
   "outputs": [
    {
     "name": "stdout",
     "output_type": "stream",
     "text": [
      "HELLO\n"
     ]
    }
   ],
   "source": [
    "print('Hello'.upper())"
   ]
  },
  {
   "cell_type": "markdown",
   "id": "4b0e9c54",
   "metadata": {},
   "source": [
    "### 'Hello'.upper().isupper()"
   ]
  },
  {
   "cell_type": "code",
   "execution_count": 12,
   "id": "1c93a0cf",
   "metadata": {},
   "outputs": [
    {
     "name": "stdout",
     "output_type": "stream",
     "text": [
      "True\n"
     ]
    }
   ],
   "source": [
    "print('Hello'.upper().isupper())"
   ]
  },
  {
   "cell_type": "markdown",
   "id": "57ffeba5",
   "metadata": {},
   "source": [
    "### 'Hello'.upper().lower()"
   ]
  },
  {
   "cell_type": "code",
   "execution_count": 13,
   "id": "f3fd3ea0",
   "metadata": {},
   "outputs": [
    {
     "name": "stdout",
     "output_type": "stream",
     "text": [
      "hello\n"
     ]
    }
   ],
   "source": [
    "print('Hello'.upper().lower())"
   ]
  },
  {
   "cell_type": "markdown",
   "id": "d6988497",
   "metadata": {},
   "source": [
    "## 8. What are the values of the following expressions?"
   ]
  },
  {
   "cell_type": "markdown",
   "id": "c7aa9911",
   "metadata": {},
   "source": [
    "### 'Remember, remember, the fifth of July.'.split() "
   ]
  },
  {
   "cell_type": "code",
   "execution_count": 17,
   "id": "ff360233",
   "metadata": {},
   "outputs": [
    {
     "name": "stdout",
     "output_type": "stream",
     "text": [
      "['Remember,', 'remember,', 'the', 'fifth', 'of', 'July.']\n"
     ]
    }
   ],
   "source": [
    "print('Remember, remember, the fifth of July.'.split())"
   ]
  },
  {
   "cell_type": "markdown",
   "id": "8db03208",
   "metadata": {},
   "source": [
    "### '-'.join('There can only one.'.split())"
   ]
  },
  {
   "cell_type": "code",
   "execution_count": 18,
   "id": "f7540f20",
   "metadata": {},
   "outputs": [
    {
     "name": "stdout",
     "output_type": "stream",
     "text": [
      "There-can-only-one.\n"
     ]
    }
   ],
   "source": [
    "print('-'.join('There can only one.'.split()))"
   ]
  },
  {
   "cell_type": "markdown",
   "id": "2213afdf",
   "metadata": {},
   "source": [
    "## 9. What are the methods for right-justifying, left-justifying, and centering a string?"
   ]
  },
  {
   "cell_type": "raw",
   "id": "7dd65bd1",
   "metadata": {},
   "source": [
    "right-justifying -> rjust('number of character to shift')\n",
    "left-justifying -> ljust('number of character to shift')"
   ]
  },
  {
   "cell_type": "code",
   "execution_count": 20,
   "id": "803a855f",
   "metadata": {},
   "outputs": [
    {
     "name": "stdout",
     "output_type": "stream",
     "text": [
      "                 rajat jaiswal\n",
      "rajat jaiswal                 \n"
     ]
    }
   ],
   "source": [
    "text = \"rajat jaiswal\"\n",
    "print(text.rjust(30))\n",
    "print(text.ljust(30))"
   ]
  },
  {
   "cell_type": "markdown",
   "id": "71e7174b",
   "metadata": {},
   "source": [
    "## 10. What is the best way to remove whitespace characters from the start or end?"
   ]
  },
  {
   "cell_type": "raw",
   "id": "27f8b74b",
   "metadata": {},
   "source": [
    "Using the strip function"
   ]
  },
  {
   "cell_type": "code",
   "execution_count": 22,
   "id": "3ce1e003",
   "metadata": {},
   "outputs": [
    {
     "name": "stdout",
     "output_type": "stream",
     "text": [
      "     rajat    jaiswal.    \n",
      "rajat    jaiswal.\n"
     ]
    }
   ],
   "source": [
    "text = '     rajat    jaiswal.    '\n",
    "print(text)\n",
    "print(text.strip())"
   ]
  }
 ],
 "metadata": {
  "kernelspec": {
   "display_name": "Python 3 (ipykernel)",
   "language": "python",
   "name": "python3"
  },
  "language_info": {
   "codemirror_mode": {
    "name": "ipython",
    "version": 3
   },
   "file_extension": ".py",
   "mimetype": "text/x-python",
   "name": "python",
   "nbconvert_exporter": "python",
   "pygments_lexer": "ipython3",
   "version": "3.9.12"
  }
 },
 "nbformat": 4,
 "nbformat_minor": 5
}
