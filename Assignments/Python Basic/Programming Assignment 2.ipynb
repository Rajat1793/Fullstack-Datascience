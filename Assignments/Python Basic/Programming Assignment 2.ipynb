{
 "cells": [
  {
   "cell_type": "markdown",
   "id": "27d6e60b",
   "metadata": {},
   "source": [
    "## Write a Python program to convert kilometers to miles"
   ]
  },
  {
   "cell_type": "code",
   "execution_count": 1,
   "id": "e93f65d5",
   "metadata": {},
   "outputs": [
    {
     "name": "stdout",
     "output_type": "stream",
     "text": [
      "Enter kilometer: 2\n",
      "Miles:  1.24274\n"
     ]
    }
   ],
   "source": [
    "def convert(k):\n",
    "    return k * 0.62137\n",
    "\n",
    "km = int(input(\"Enter kilometer: \"))\n",
    "print(\"Miles: \", convert(km))"
   ]
  },
  {
   "cell_type": "markdown",
   "id": "0db8c58b",
   "metadata": {},
   "source": [
    "## Write a Python program to convert Celsius to Fahrenheit"
   ]
  },
  {
   "cell_type": "code",
   "execution_count": 2,
   "id": "af0efe09",
   "metadata": {},
   "outputs": [
    {
     "name": "stdout",
     "output_type": "stream",
     "text": [
      "Enter celsius: 32\n",
      "Fahrenheit:  89.6\n"
     ]
    }
   ],
   "source": [
    "def fahren(c):\n",
    "    return c * 9 / 5 + 32\n",
    "\n",
    "c = int(input(\"Enter celsius: \"))\n",
    "print(\"Fahrenheit: \", fahren(c))"
   ]
  },
  {
   "cell_type": "markdown",
   "id": "70e6be7a",
   "metadata": {},
   "source": [
    "## Write a Python program to display calendar"
   ]
  },
  {
   "cell_type": "code",
   "execution_count": 3,
   "id": "28b883e3",
   "metadata": {},
   "outputs": [
    {
     "name": "stdout",
     "output_type": "stream",
     "text": [
      "     July 2022\n",
      "Mo Tu We Th Fr Sa Su\n",
      "             1  2  3\n",
      " 4  5  6  7  8  9 10\n",
      "11 12 13 14 15 16 17\n",
      "18 19 20 21 22 23 24\n",
      "25 26 27 28 29 30 31\n",
      "\n"
     ]
    }
   ],
   "source": [
    "import calendar\n",
    "\n",
    "print(calendar.month(2022, 7))"
   ]
  },
  {
   "cell_type": "markdown",
   "id": "5d03b2a0",
   "metadata": {},
   "source": [
    "## Write a Python program to solve quadratic equation"
   ]
  },
  {
   "cell_type": "code",
   "execution_count": 6,
   "id": "bcb9655a",
   "metadata": {},
   "outputs": [
    {
     "name": "stdout",
     "output_type": "stream",
     "text": [
      "Enter value of a: 1\n",
      "Enter value of b: 1\n",
      "Enter value of c: 1\n",
      "Solution:  ((-0.5-0.8660254037844386j), (-0.5+0.8660254037844386j))\n"
     ]
    }
   ],
   "source": [
    "import cmath\n",
    "\n",
    "def equ(a, b, c):\n",
    "    \n",
    "    d = (b ** 2) - (4 * a * c)\n",
    "    \n",
    "    sol1 = (-b-cmath.sqrt(d))/(2*a)  \n",
    "    sol2 = (-b+cmath.sqrt(d))/(2*a)  \n",
    "    \n",
    "    return sol1, sol2\n",
    "\n",
    "a = float(input(\"Enter value of a: \"))\n",
    "b = float(input(\"Enter value of b: \"))\n",
    "c = float(input(\"Enter value of c: \"))\n",
    "\n",
    "print(\"Solution: \",equ(a, b, c))"
   ]
  },
  {
   "cell_type": "markdown",
   "id": "99c4de23",
   "metadata": {},
   "source": [
    "## Write a Python program to swap two variables without temp variable"
   ]
  },
  {
   "cell_type": "code",
   "execution_count": 7,
   "id": "d6941052",
   "metadata": {},
   "outputs": [
    {
     "name": "stdout",
     "output_type": "stream",
     "text": [
      "Enter number a: 2\n",
      "Enter number b: 3\n",
      "(3, 2)\n"
     ]
    }
   ],
   "source": [
    "def swap(a, b):\n",
    "    a = a - b\n",
    "    b = a + b\n",
    "    a = b - a\n",
    "    return a, b\n",
    "\n",
    "a = int(input(\"Enter number a: \"))\n",
    "b = int(input(\"Enter number b: \"))\n",
    "\n",
    "print(swap(a, b))"
   ]
  },
  {
   "cell_type": "code",
   "execution_count": null,
   "id": "94973cd8",
   "metadata": {},
   "outputs": [],
   "source": []
  }
 ],
 "metadata": {
  "kernelspec": {
   "display_name": "Python 3 (ipykernel)",
   "language": "python",
   "name": "python3"
  },
  "language_info": {
   "codemirror_mode": {
    "name": "ipython",
    "version": 3
   },
   "file_extension": ".py",
   "mimetype": "text/x-python",
   "name": "python",
   "nbconvert_exporter": "python",
   "pygments_lexer": "ipython3",
   "version": "3.9.7"
  }
 },
 "nbformat": 4,
 "nbformat_minor": 5
}
