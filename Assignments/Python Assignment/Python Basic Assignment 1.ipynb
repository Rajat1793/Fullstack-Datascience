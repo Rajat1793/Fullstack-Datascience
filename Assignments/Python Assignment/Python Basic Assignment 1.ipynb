{
 "cells": [
  {
   "cell_type": "code",
   "execution_count": null,
   "id": "914fbabb",
   "metadata": {},
   "outputs": [],
   "source": [
    "* expression"
   ]
  },
  {
   "cell_type": "code",
   "execution_count": null,
   "id": "2f386884",
   "metadata": {},
   "outputs": [],
   "source": [
    "'hello' string (value)"
   ]
  },
  {
   "cell_type": "code",
   "execution_count": null,
   "id": "c7809f99",
   "metadata": {},
   "outputs": [],
   "source": [
    "-87.8 integer (value)"
   ]
  },
  {
   "cell_type": "code",
   "execution_count": null,
   "id": "1e126c49",
   "metadata": {},
   "outputs": [],
   "source": [
    "- expression"
   ]
  },
  {
   "cell_type": "code",
   "execution_count": null,
   "id": "8c084262",
   "metadata": {},
   "outputs": [],
   "source": [
    "/ expression"
   ]
  },
  {
   "cell_type": "code",
   "execution_count": null,
   "id": "bf2a4603",
   "metadata": {},
   "outputs": [],
   "source": [
    "+ expression "
   ]
  },
  {
   "cell_type": "code",
   "execution_count": null,
   "id": "aec8f2bc",
   "metadata": {},
   "outputs": [],
   "source": [
    "6 integer (value)"
   ]
  },
  {
   "cell_type": "markdown",
   "id": "8f2cc1a3",
   "metadata": {},
   "source": [
    "What is the difference between string and variable?\n",
    "\n",
    "String: String is a collection of different characters enclosed within \"\" or ''\n",
    "Variable: Variable are the container to store the values defined "
   ]
  },
  {
   "cell_type": "code",
   "execution_count": null,
   "id": "5ab9f8df",
   "metadata": {},
   "outputs": [],
   "source": [
    "Describe three different data types.\n",
    "\n",
    "1)String: Str data type is used to store the string data type\n",
    "2)Integer: Int is used to store the interger values\n",
    "3)Boolean: Bool is used to store the boolean value"
   ]
  },
  {
   "cell_type": "code",
   "execution_count": null,
   "id": "d975db86",
   "metadata": {},
   "outputs": [],
   "source": [
    "What is an expression made up of? What do all expressions do?\n",
    "\n",
    "Expression is made up of operators and operands which produces some output based on the expression provided"
   ]
  },
  {
   "cell_type": "code",
   "execution_count": null,
   "id": "514c9d9d",
   "metadata": {},
   "outputs": [],
   "source": [
    "This assignment statements, like spam = 10. What is the difference between an\n",
    "expression and a statement?\n",
    "\n",
    "Expression is a combination of values and operators which are compiled to generate an output.\n",
    "Statement is just a simple line of a code, expression is also a statement.\n",
    "From above example if we will evaluate the code spam=10 is a expression as well as the statement."
   ]
  },
  {
   "cell_type": "code",
   "execution_count": null,
   "id": "22e3a3ab",
   "metadata": {},
   "outputs": [],
   "source": [
    "After running the following code, what does the variable bacon contain?\n",
    "bacon = 22\n",
    "bacon + 1\n"
   ]
  },
  {
   "cell_type": "code",
   "execution_count": 3,
   "id": "00839e41",
   "metadata": {},
   "outputs": [
    {
     "data": {
      "text/plain": [
       "23"
      ]
     },
     "execution_count": 3,
     "metadata": {},
     "output_type": "execute_result"
    }
   ],
   "source": [
    "bacon = 22\n",
    "bacon + 1"
   ]
  },
  {
   "cell_type": "code",
   "execution_count": null,
   "id": "d7a2df9d",
   "metadata": {},
   "outputs": [],
   "source": [
    "What should the values of the following two terms be?\n",
    "&#39;spam&#39; + &#39;spamspam&#39;\n",
    "&#39;spam&#39; * 3"
   ]
  },
  {
   "cell_type": "code",
   "execution_count": 5,
   "id": "e0e5a1f7",
   "metadata": {},
   "outputs": [
    {
     "data": {
      "text/plain": [
       "'spamspamspam'"
      ]
     },
     "execution_count": 5,
     "metadata": {},
     "output_type": "execute_result"
    }
   ],
   "source": [
    "'spam'+'spamspam'"
   ]
  },
  {
   "cell_type": "code",
   "execution_count": 6,
   "id": "91dcb292",
   "metadata": {},
   "outputs": [
    {
     "data": {
      "text/plain": [
       "'spamspamspam'"
      ]
     },
     "execution_count": 6,
     "metadata": {},
     "output_type": "execute_result"
    }
   ],
   "source": [
    "'spam' *3"
   ]
  },
  {
   "cell_type": "code",
   "execution_count": null,
   "id": "6e19dc37",
   "metadata": {},
   "outputs": [],
   "source": [
    "Why is eggs a valid variable name while 100 is invalid?\n",
    "\n",
    "As per the rules defined for variable decleration a variable name can start with an \n",
    "underscore and letters except the numbers "
   ]
  },
  {
   "cell_type": "code",
   "execution_count": null,
   "id": "620dc54b",
   "metadata": {},
   "outputs": [],
   "source": [
    "What three functions can be used to get the integer, floating-point number, or string\n",
    "version of a value?\n",
    "\n",
    "int(), float(), str()"
   ]
  },
  {
   "cell_type": "code",
   "execution_count": null,
   "id": "b82d5476",
   "metadata": {},
   "outputs": [],
   "source": [
    "Why does this expression cause an error? How can you fix it?\n",
    "'I have eaten' + 99 + 'burritos.'\n",
    "\n",
    "The above expression causes an error because we are trying to concat the string with integer, to fix the error \n",
    "we can change the integer value into string datatype"
   ]
  },
  {
   "cell_type": "code",
   "execution_count": 10,
   "id": "e88a0b59",
   "metadata": {},
   "outputs": [
    {
     "data": {
      "text/plain": [
       "'I have eaten 99 burritos.'"
      ]
     },
     "execution_count": 10,
     "metadata": {},
     "output_type": "execute_result"
    }
   ],
   "source": [
    "'I have eaten ' + str(99) + ' burritos.'"
   ]
  },
  {
   "cell_type": "code",
   "execution_count": null,
   "id": "0b03ace5",
   "metadata": {},
   "outputs": [],
   "source": []
  }
 ],
 "metadata": {
  "kernelspec": {
   "display_name": "Python 3 (ipykernel)",
   "language": "python",
   "name": "python3"
  },
  "language_info": {
   "codemirror_mode": {
    "name": "ipython",
    "version": 3
   },
   "file_extension": ".py",
   "mimetype": "text/x-python",
   "name": "python",
   "nbconvert_exporter": "python",
   "pygments_lexer": "ipython3",
   "version": "3.9.7"
  }
 },
 "nbformat": 4,
 "nbformat_minor": 5
}
