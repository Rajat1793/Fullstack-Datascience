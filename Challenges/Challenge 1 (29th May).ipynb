{
 "cells": [
  {
   "cell_type": "raw",
   "id": "55e037c1",
   "metadata": {},
   "source": [
    "Your First Challenge : \n",
    "    \n",
    "you have to submit it by next saturday 4th june 2022  : \n",
    "    shivan@ineuron.ai ,sudhanshu@ineuron.ai\n",
    "    \n",
    "q1 : Try to print this by using while loop \n",
    "* \n",
    "* * \n",
    "* * * \n",
    "* * * * \n",
    "* * * * * \n",
    "* * * * * * \n",
    "* * * * * * * \n",
    "* * * * * * * * \n",
    "* * * * * * * * * \n",
    "\n",
    "q2 : try to print below by using while loop : \n",
    "        \n",
    "A\n",
    "B H \n",
    "C I N\n",
    "D J o S\n",
    "E K p T W\n",
    "F L Q U X z\n",
    "G M R V Y \n",
    "\n",
    "q3 : Try to print all the number divisible by 3 in between a range of 40 - 400\n",
    "    \n",
    "q4 : Try to filter out all the vowels form below text by using while loop : \n",
    " \"\"\"Python is a high-level, interpreted, general-purpose programming language. Its design philosophy emphasizes code readability with the use of significant indentation.[32]\n",
    "\n",
    "Python is dynamically-typed and garbage-collected. It supports multiple programming paradigms, including structured (particularly procedural), object-oriented and functional programming. It is often described as a \"batteries included\" language due to its comprehensive standard library.[33][34]\n",
    "\n",
    "Guido van Rossum began working on Python in the late 1980s as a successor to the ABC programming language and first released it in 1991 as Python 0.9.0.[35] Python 2.0 was released in 2000 and introduced new features such as list comprehensions, cycle-detecting garbage collection, reference counting, and Unicode support. Python 3.0, released in 2008, was a major revision that is not completely backward-compatible with earlier versions. Python 2 was discontinued with version 2.7.18 in 2020.[36]\n",
    "\n",
    "Python consistently ranks as one of the most popular programming languagesc\"\"\" \n",
    "\n",
    "\n",
    "q5 : Try to generate all the even number between 1- 1000\n",
    "\n",
    "q6 : Define a function for all the above problem statememnt  . \n",
    "    \n",
    "q7 : write a code to get a time of your system \n",
    "\n",
    "q8 : Write a code to fetch date form your system \n",
    "\n",
    "q9 : Write a code to send a mail to your friend \n",
    "\n",
    "q10 : write a code to trigger alarm for you at scheduled time \n",
    "\n",
    "q11 : write a code to check ip address of your system \n",
    "\n",
    "q12 : Write a code to check a perticular installation in your system\n",
    "\n",
    "q13 : Write a code to convert any text in to voice \n",
    "\n",
    "q14 : you have to write a fun which will take string and return a len of \n",
    "it without using a inbuilt fun len\n",
    "\n",
    "q15 :write a fun which will be able to print an index of all premitive element which you will pass \n",
    "\n",
    "q16 : Write a fun which will take input as a dict and give me out as a list of all the values \n",
    "even in case of 2 level nesting it should work . \n",
    "\n",
    "q17 : write a function whihc will take multiple list as a input and give me concatnation of all the element as \n",
    "and output\n",
    "\n",
    "q18 : Write a function which will whould return list of all the file name from a directory . \n",
    "\n",
    "q19 : write a function whihc will be able to read a image file and show it to you .\n",
    "    \n",
    "q20 : write a function by which you will be able to append two PDF files . \n",
    "    \n",
    "q21 : write a function which can help you to filter only word file from a directory . \n",
    "    \n",
    "q22 : write a function which can read video file and play for you . \n",
    "    \n",
    "q23 : write a function which will be able to shutdonw your system . \n",
    "\n",
    "q24 : Write a function which will whould return list of all the file name from a directory . \n",
    "\n",
    "q25 : write a function whihc will be able to access your mail . \n",
    "        "
   ]
  },
  {
   "cell_type": "markdown",
   "id": "1ccd4791",
   "metadata": {},
   "source": [
    "## q1 : Try to print this by using while loop\n"
   ]
  },
  {
   "cell_type": "raw",
   "id": "f960a2cb",
   "metadata": {},
   "source": [
    "* \n",
    "* * \n",
    "* * * \n",
    "* * * * \n",
    "* * * * * \n",
    "* * * * * * \n",
    "* * * * * * * \n",
    "* * * * * * * * \n",
    "* * * * * * * * * "
   ]
  },
  {
   "cell_type": "code",
   "execution_count": 1,
   "id": "1d82401f",
   "metadata": {},
   "outputs": [
    {
     "name": "stdout",
     "output_type": "stream",
     "text": [
      "\n",
      "* \n",
      "* * \n",
      "* * * \n",
      "* * * * \n",
      "* * * * * \n",
      "* * * * * * \n",
      "* * * * * * * \n",
      "* * * * * * * * \n",
      "* * * * * * * * * \n"
     ]
    }
   ],
   "source": [
    "def printStar(r):\n",
    "    i = 0\n",
    "    while(i <= r):\n",
    "        print('* ' * i, end = '\\n')\n",
    "        i +=1\n",
    "printStar(9)"
   ]
  },
  {
   "cell_type": "markdown",
   "id": "b13a6520",
   "metadata": {},
   "source": [
    "## q2 : try to print below by using while loop : "
   ]
  },
  {
   "cell_type": "raw",
   "id": "97373d72",
   "metadata": {},
   "source": [
    "A\n",
    "B H \n",
    "C I N\n",
    "D J o S\n",
    "E K p T W\n",
    "F L Q U X z\n",
    "G M R V Y "
   ]
  },
  {
   "cell_type": "code",
   "execution_count": 57,
   "id": "07672d66",
   "metadata": {},
   "outputs": [],
   "source": [
    "def printchar():\n",
    "    i = 0\n",
    "    n = 6\n",
    "    while(i <= n):\n",
    "        k = i\n",
    "        j = 0\n",
    "        while(j<=i):\n",
    "            #print(type(k))\n",
    "            print(chr(65 + k), end = ' ')\n",
    "            k += n -j\n",
    "            j +=1\n",
    "        print('\\r')\n",
    "        i +=1\n",
    "            "
   ]
  },
  {
   "cell_type": "code",
   "execution_count": 58,
   "id": "09f05384",
   "metadata": {},
   "outputs": [
    {
     "name": "stdout",
     "output_type": "stream",
     "text": [
      "A \r\n",
      "B H \r\n",
      "C I N \r\n",
      "D J O S \r\n",
      "E K P T W \r\n",
      "F L Q U X Z \r\n",
      "G M R V Y [ \\ \r\n"
     ]
    }
   ],
   "source": [
    "printchar()"
   ]
  },
  {
   "cell_type": "markdown",
   "id": "81e13435",
   "metadata": {},
   "source": [
    "## q3 : Try to print all the number divisible by 3 in between a range of 40 - 400"
   ]
  },
  {
   "cell_type": "code",
   "execution_count": 17,
   "id": "a085cbee",
   "metadata": {},
   "outputs": [
    {
     "data": {
      "text/plain": [
       "'A'"
      ]
     },
     "execution_count": 17,
     "metadata": {},
     "output_type": "execute_result"
    }
   ],
   "source": [
    "chr(65)"
   ]
  },
  {
   "cell_type": "code",
   "execution_count": 2,
   "id": "95708bfe",
   "metadata": {},
   "outputs": [
    {
     "name": "stdout",
     "output_type": "stream",
     "text": [
      "[42, 45, 48, 51, 54, 57, 60, 63, 66, 69, 72, 75, 78, 81, 84, 87, 90, 93, 96, 99, 102, 105, 108, 111, 114, 117, 120, 123, 126, 129, 132, 135, 138, 141, 144, 147, 150, 153, 156, 159, 162, 165, 168, 171, 174, 177, 180, 183, 186, 189, 192, 195, 198, 201, 204, 207, 210, 213, 216, 219, 222, 225, 228, 231, 234, 237, 240, 243, 246, 249, 252, 255, 258, 261, 264, 267, 270, 273, 276, 279, 282, 285, 288, 291, 294, 297, 300, 303, 306, 309, 312, 315, 318, 321, 324, 327, 330, 333, 336, 339, 342, 345, 348, 351, 354, 357, 360, 363, 366, 369, 372, 375, 378, 381, 384, 387, 390, 393, 396, 399]\n"
     ]
    }
   ],
   "source": [
    "def check():\n",
    "    l = []\n",
    "    for i in range(40, 400):\n",
    "        if i % 3 == 0:\n",
    "            l.append(i)\n",
    "    print(l)\n",
    "check()"
   ]
  },
  {
   "cell_type": "code",
   "execution_count": 6,
   "id": "108865c0",
   "metadata": {},
   "outputs": [
    {
     "name": "stdout",
     "output_type": "stream",
     "text": [
      "[42, 45, 48, 51, 54, 57, 60, 63, 66, 69, 72, 75, 78, 81, 84, 87, 90, 93, 96, 99, 102, 105, 108, 111, 114, 117, 120, 123, 126, 129, 132, 135, 138, 141, 144, 147, 150, 153, 156, 159, 162, 165, 168, 171, 174, 177, 180, 183, 186, 189, 192, 195, 198, 201, 204, 207, 210, 213, 216, 219, 222, 225, 228, 231, 234, 237, 240, 243, 246, 249, 252, 255, 258, 261, 264, 267, 270, 273, 276, 279, 282, 285, 288, 291, 294, 297, 300, 303, 306, 309, 312, 315, 318, 321, 324, 327, 330, 333, 336, 339, 342, 345, 348, 351, 354, 357, 360, 363, 366, 369, 372, 375, 378, 381, 384, 387, 390, 393, 396, 399]\n"
     ]
    }
   ],
   "source": [
    "def check():\n",
    "    l = []\n",
    "    i = 40\n",
    "    while i in range(40, 400):\n",
    "        if i % 3 == 0:\n",
    "            l.append(i)\n",
    "        i +=1\n",
    "    print(l)\n",
    "\n",
    "check()"
   ]
  },
  {
   "cell_type": "markdown",
   "id": "e0664f8b",
   "metadata": {},
   "source": [
    "## q4 : Try to filter out all the vowels form below text by using while loop"
   ]
  },
  {
   "cell_type": "raw",
   "id": "5f4be376",
   "metadata": {},
   "source": [
    "\"\"\"Python is a high-level, interpreted, general-purpose programming language. Its design philosophy emphasizes code readability with the use of significant indentation.[32]\n",
    "\n",
    "Python is dynamically-typed and garbage-collected. It supports multiple programming paradigms, including structured (particularly procedural), object-oriented and functional programming. It is often described as a \"batteries included\" language due to its comprehensive standard library.[33][34]\n",
    "\n",
    "Guido van Rossum began working on Python in the late 1980s as a successor to the ABC programming language and first released it in 1991 as Python 0.9.0.[35] Python 2.0 was released in 2000 and introduced new features such as list comprehensions, cycle-detecting garbage collection, reference counting, and Unicode support. Python 3.0, released in 2008, was a major revision that is not completely backward-compatible with earlier versions. Python 2 was discontinued with version 2.7.18 in 2020.[36]\n",
    "\n",
    "Python consistently ranks as one of the most popular programming languagesc\"\"\" "
   ]
  },
  {
   "cell_type": "code",
   "execution_count": 13,
   "id": "60cc044c",
   "metadata": {},
   "outputs": [],
   "source": [
    "def vowels(string):\n",
    "    count = 0\n",
    "    i = 0\n",
    "    while(i< len(string)):\n",
    "        #print(len(string))\n",
    "        #print(string[i])\n",
    "        #print(type(string[i]))\n",
    "        if string[i] in ['a', 'e', 'i', 'o', 'u']:\n",
    "            #print(string[i])\n",
    "            count += 1\n",
    "        i += 1\n",
    "    return count\n"
   ]
  },
  {
   "cell_type": "code",
   "execution_count": 14,
   "id": "11612cd6",
   "metadata": {},
   "outputs": [],
   "source": [
    "string = \"\"\"Python is a high-level, interpreted, general-purpose programming language. Its design philosophy emphasizes code readability with the use of significant indentation.[32]\n",
    "\n",
    "Python is dynamically-typed and garbage-collected. It supports multiple programming paradigms, including structured (particularly procedural), object-oriented and functional programming. It is often described as a \"batteries included\" language due to its comprehensive standard library.[33][34]\n",
    "\n",
    "Guido van Rossum began working on Python in the late 1980s as a successor to the ABC programming language and first released it in 1991 as Python 0.9.0.[35] Python 2.0 was released in 2000 and introduced new features such as list comprehensions, cycle-detecting garbage collection, reference counting, and Unicode support. Python 3.0, released in 2008, was a major revision that is not completely backward-compatible with earlier versions. Python 2 was discontinued with version 2.7.18 in 2020.[36]\n",
    "\n",
    "Python consistently ranks as one of the most popular programming languagesc\"\"\" "
   ]
  },
  {
   "cell_type": "code",
   "execution_count": 15,
   "id": "5ec25ffc",
   "metadata": {},
   "outputs": [
    {
     "data": {
      "text/plain": [
       "293"
      ]
     },
     "execution_count": 15,
     "metadata": {},
     "output_type": "execute_result"
    }
   ],
   "source": [
    "vowels(string)"
   ]
  },
  {
   "cell_type": "markdown",
   "id": "2a84a8b1",
   "metadata": {},
   "source": [
    "## q5 : Try to generate all the even number between 1- 1000"
   ]
  },
  {
   "cell_type": "code",
   "execution_count": 59,
   "id": "9beae8d8",
   "metadata": {},
   "outputs": [
    {
     "name": "stdout",
     "output_type": "stream",
     "text": [
      "[2, 4, 6, 8, 10, 12, 14, 16, 18, 20, 22, 24, 26, 28, 30, 32, 34, 36, 38, 40, 42, 44, 46, 48, 50, 52, 54, 56, 58, 60, 62, 64, 66, 68, 70, 72, 74, 76, 78, 80, 82, 84, 86, 88, 90, 92, 94, 96, 98, 100, 102, 104, 106, 108, 110, 112, 114, 116, 118, 120, 122, 124, 126, 128, 130, 132, 134, 136, 138, 140, 142, 144, 146, 148, 150, 152, 154, 156, 158, 160, 162, 164, 166, 168, 170, 172, 174, 176, 178, 180, 182, 184, 186, 188, 190, 192, 194, 196, 198, 200, 202, 204, 206, 208, 210, 212, 214, 216, 218, 220, 222, 224, 226, 228, 230, 232, 234, 236, 238, 240, 242, 244, 246, 248, 250, 252, 254, 256, 258, 260, 262, 264, 266, 268, 270, 272, 274, 276, 278, 280, 282, 284, 286, 288, 290, 292, 294, 296, 298, 300, 302, 304, 306, 308, 310, 312, 314, 316, 318, 320, 322, 324, 326, 328, 330, 332, 334, 336, 338, 340, 342, 344, 346, 348, 350, 352, 354, 356, 358, 360, 362, 364, 366, 368, 370, 372, 374, 376, 378, 380, 382, 384, 386, 388, 390, 392, 394, 396, 398, 400, 402, 404, 406, 408, 410, 412, 414, 416, 418, 420, 422, 424, 426, 428, 430, 432, 434, 436, 438, 440, 442, 444, 446, 448, 450, 452, 454, 456, 458, 460, 462, 464, 466, 468, 470, 472, 474, 476, 478, 480, 482, 484, 486, 488, 490, 492, 494, 496, 498, 500, 502, 504, 506, 508, 510, 512, 514, 516, 518, 520, 522, 524, 526, 528, 530, 532, 534, 536, 538, 540, 542, 544, 546, 548, 550, 552, 554, 556, 558, 560, 562, 564, 566, 568, 570, 572, 574, 576, 578, 580, 582, 584, 586, 588, 590, 592, 594, 596, 598, 600, 602, 604, 606, 608, 610, 612, 614, 616, 618, 620, 622, 624, 626, 628, 630, 632, 634, 636, 638, 640, 642, 644, 646, 648, 650, 652, 654, 656, 658, 660, 662, 664, 666, 668, 670, 672, 674, 676, 678, 680, 682, 684, 686, 688, 690, 692, 694, 696, 698, 700, 702, 704, 706, 708, 710, 712, 714, 716, 718, 720, 722, 724, 726, 728, 730, 732, 734, 736, 738, 740, 742, 744, 746, 748, 750, 752, 754, 756, 758, 760, 762, 764, 766, 768, 770, 772, 774, 776, 778, 780, 782, 784, 786, 788, 790, 792, 794, 796, 798, 800, 802, 804, 806, 808, 810, 812, 814, 816, 818, 820, 822, 824, 826, 828, 830, 832, 834, 836, 838, 840, 842, 844, 846, 848, 850, 852, 854, 856, 858, 860, 862, 864, 866, 868, 870, 872, 874, 876, 878, 880, 882, 884, 886, 888, 890, 892, 894, 896, 898, 900, 902, 904, 906, 908, 910, 912, 914, 916, 918, 920, 922, 924, 926, 928, 930, 932, 934, 936, 938, 940, 942, 944, 946, 948, 950, 952, 954, 956, 958, 960, 962, 964, 966, 968, 970, 972, 974, 976, 978, 980, 982, 984, 986, 988, 990, 992, 994, 996, 998]\n"
     ]
    }
   ],
   "source": [
    "def even():\n",
    "    l = []\n",
    "    i = 1\n",
    "    while i in range(1,1000):\n",
    "        if i % 2 == 0:\n",
    "            l.append(i)\n",
    "        i +=1\n",
    "    print(l)\n",
    "\n",
    "even()"
   ]
  },
  {
   "cell_type": "markdown",
   "id": "b83506af",
   "metadata": {},
   "source": [
    "## q6 : Define a function for all the above problem statememnt"
   ]
  },
  {
   "cell_type": "markdown",
   "id": "382d0680",
   "metadata": {},
   "source": [
    " Solved all code by defining function only"
   ]
  },
  {
   "cell_type": "markdown",
   "id": "29433f5f",
   "metadata": {},
   "source": [
    "## q7 : write a code to get a time of your system "
   ]
  },
  {
   "cell_type": "code",
   "execution_count": 68,
   "id": "9bd2b1ac",
   "metadata": {},
   "outputs": [
    {
     "name": "stdout",
     "output_type": "stream",
     "text": [
      "Current Time = 2022-05-31 17:39:35.384888\n"
     ]
    }
   ],
   "source": [
    "import datetime\n",
    "\n",
    "time = datetime.datetime.now()\n",
    "\n",
    "print(\"Current Time =\", time)\n",
    "\n"
   ]
  },
  {
   "cell_type": "markdown",
   "id": "ec8a3ceb",
   "metadata": {},
   "source": [
    "## q8 : Write a code to fetch date form your system "
   ]
  },
  {
   "cell_type": "code",
   "execution_count": 78,
   "id": "3f2e79a2",
   "metadata": {},
   "outputs": [
    {
     "name": "stdout",
     "output_type": "stream",
     "text": [
      "Today's date: 31 / 5 / 2022 "
     ]
    }
   ],
   "source": [
    "import datetime\n",
    "\n",
    "date = datetime.datetime.today()\n",
    "\n",
    "print(\"Today's date:\",date.day,'/',date.month,'/',date.year, end = ' ')\n"
   ]
  },
  {
   "cell_type": "markdown",
   "id": "460057c6",
   "metadata": {},
   "source": [
    "## q9 : Write a code to send a mail to your friend"
   ]
  },
  {
   "cell_type": "code",
   "execution_count": null,
   "id": "dcd577f2",
   "metadata": {},
   "outputs": [],
   "source": []
  },
  {
   "cell_type": "markdown",
   "id": "63be2e2e",
   "metadata": {},
   "source": [
    "## q10 : write a code to trigger alarm for you at scheduled time "
   ]
  },
  {
   "cell_type": "code",
   "execution_count": null,
   "id": "4b19b119",
   "metadata": {},
   "outputs": [],
   "source": []
  },
  {
   "cell_type": "markdown",
   "id": "b41bdbfa",
   "metadata": {},
   "source": [
    "## q11 : write a code to check ip address of your system"
   ]
  },
  {
   "cell_type": "code",
   "execution_count": null,
   "id": "c20777ab",
   "metadata": {},
   "outputs": [],
   "source": []
  },
  {
   "cell_type": "markdown",
   "id": "2aa43b6d",
   "metadata": {},
   "source": [
    "## q14 : you have to write a fun which will take string and return a len of it without using a inbuilt fun len"
   ]
  },
  {
   "cell_type": "code",
   "execution_count": 4,
   "id": "8f2b7713",
   "metadata": {},
   "outputs": [],
   "source": [
    "def stringLength(string):\n",
    "    count = 0\n",
    "    for i in string:\n",
    "        count+= 1\n",
    "    return count"
   ]
  },
  {
   "cell_type": "code",
   "execution_count": 6,
   "id": "d79015ad",
   "metadata": {},
   "outputs": [
    {
     "data": {
      "text/plain": [
       "12"
      ]
     },
     "execution_count": 6,
     "metadata": {},
     "output_type": "execute_result"
    }
   ],
   "source": [
    "string = 'rajatjaiswal'\n",
    "stringLength(string)"
   ]
  },
  {
   "cell_type": "markdown",
   "id": "a45aa47e",
   "metadata": {},
   "source": [
    "## q17 : write a function which will take multiple list as a input and give me concatnation of all the element as and output\n"
   ]
  },
  {
   "cell_type": "code",
   "execution_count": 11,
   "id": "e10547ec",
   "metadata": {},
   "outputs": [
    {
     "name": "stdout",
     "output_type": "stream",
     "text": [
      "New flat string: [1, 2, 3, 4, 5, 6, 7, 8, 9, 10]\n"
     ]
    }
   ],
   "source": [
    "nlist = [1, 2, [3, 4, [5, 6]], 7, 8, [9, [10]]]\n",
    "new_list = []\n",
    "def flatString(nlist):\n",
    "    for i in nlist:\n",
    "        if type(i) == list:\n",
    "            flatString(i)\n",
    "        else:\n",
    "            new_list.append(i)\n",
    "flatString(nlist)\n",
    "print('New flat string:',new_list)"
   ]
  },
  {
   "cell_type": "code",
   "execution_count": null,
   "id": "cc553cd4",
   "metadata": {},
   "outputs": [],
   "source": []
  }
 ],
 "metadata": {
  "kernelspec": {
   "display_name": "Python 3 (ipykernel)",
   "language": "python",
   "name": "python3"
  },
  "language_info": {
   "codemirror_mode": {
    "name": "ipython",
    "version": 3
   },
   "file_extension": ".py",
   "mimetype": "text/x-python",
   "name": "python",
   "nbconvert_exporter": "python",
   "pygments_lexer": "ipython3",
   "version": "3.9.7"
  }
 },
 "nbformat": 4,
 "nbformat_minor": 5
}
